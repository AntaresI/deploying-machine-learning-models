{
 "cells": [
  {
   "cell_type": "code",
   "execution_count": 1,
   "metadata": {},
   "outputs": [
    {
     "name": "stdout",
     "output_type": "stream",
     "text": [
      "Processing /tf/packages/regression_model\n",
      "Collecting flask==1.0.2\n",
      "  Downloading Flask-1.0.2-py2.py3-none-any.whl (91 kB)\n",
      "\u001b[K     |████████████████████████████████| 91 kB 1.2 MB/s eta 0:00:01\n",
      "\u001b[?25hCollecting itsdangerous>=0.24\n",
      "  Downloading itsdangerous-2.1.2-py3-none-any.whl (15 kB)\n",
      "Requirement already satisfied: click>=5.1 in /usr/local/lib/python3.8/dist-packages (from flask==1.0.2->-r requirements.txt (line 2)) (8.0.3)\n",
      "Requirement already satisfied: Werkzeug>=0.14 in /usr/local/lib/python3.8/dist-packages (from flask==1.0.2->-r requirements.txt (line 2)) (2.0.2)\n",
      "Requirement already satisfied: Jinja2>=2.10 in /usr/local/lib/python3.8/dist-packages (from flask==1.0.2->-r requirements.txt (line 2)) (3.0.3)\n",
      "Requirement already satisfied: MarkupSafe>=2.0 in /usr/local/lib/python3.8/dist-packages (from Jinja2>=2.10->flask==1.0.2->-r requirements.txt (line 2)) (2.0.1)\n",
      "Building wheels for collected packages: regression-model\n",
      "  Building wheel for regression-model (setup.py) ... \u001b[?25ldone\n",
      "\u001b[?25h  Created wheel for regression-model: filename=regression_model-0.1.2-py3-none-any.whl size=9514 sha256=1378e240634977c7868e375b3040af52514249292cf335d9f28d6e2be64ab46e\n",
      "  Stored in directory: /tmp/pip-ephem-wheel-cache-uue_5wj9/wheels/1e/be/b8/a1f6c07cc0fe317ff11c29c22f76f2c912a99af85e7cf3b6cb\n",
      "Successfully built regression-model\n",
      "Installing collected packages: itsdangerous, flask, regression-model\n",
      "  Attempting uninstall: regression-model\n",
      "    Found existing installation: regression-model 0.1.2\n",
      "    Uninstalling regression-model-0.1.2:\n",
      "      Successfully uninstalled regression-model-0.1.2\n",
      "Successfully installed flask-1.0.2 itsdangerous-2.1.2 regression-model-0.1.2\n",
      "\u001b[33mWARNING: You are using pip version 20.2.4; however, version 22.1.2 is available.\n",
      "You should consider upgrading via the '/usr/bin/python3 -m pip install --upgrade pip' command.\u001b[0m\n"
     ]
    }
   ],
   "source": [
    "!pip install -r requirements.txt"
   ]
  },
  {
   "cell_type": "code",
   "execution_count": 2,
   "metadata": {},
   "outputs": [
    {
     "name": "stdout",
     "output_type": "stream",
     "text": [
      "['/tf/packages/ml_api', '/usr/lib/python38.zip', '/usr/lib/python3.8', '/usr/lib/python3.8/lib-dynload', '', '/usr/local/lib/python3.8/dist-packages', '/usr/lib/python3/dist-packages', '/tf/packages/regression_model/']\n"
     ]
    }
   ],
   "source": [
    "import regression_model"
   ]
  },
  {
   "cell_type": "code",
   "execution_count": 3,
   "metadata": {},
   "outputs": [
    {
     "name": "stdout",
     "output_type": "stream",
     "text": [
      "Package                      Version\n",
      "---------------------------- --------------------\n",
      "absl-py                      1.0.0\n",
      "argon2-cffi                  21.3.0\n",
      "argon2-cffi-bindings         21.2.0\n",
      "asttokens                    2.0.5\n",
      "astunparse                   1.6.3\n",
      "attrs                        21.4.0\n",
      "backcall                     0.2.0\n",
      "black                        22.1.0\n",
      "bleach                       4.1.0\n",
      "cachetools                   5.0.0\n",
      "certifi                      2019.11.28\n",
      "cffi                         1.15.0\n",
      "chardet                      3.0.4\n",
      "click                        8.0.3\n",
      "cycler                       0.11.0\n",
      "dbus-python                  1.2.16\n",
      "debugpy                      1.5.1\n",
      "decorator                    5.1.1\n",
      "defusedxml                   0.7.1\n",
      "docopt                       0.6.2\n",
      "entrypoints                  0.3\n",
      "executing                    0.8.2\n",
      "Flask                        1.0.2\n",
      "flatbuffers                  2.0\n",
      "fonttools                    4.29.1\n",
      "gast                         0.5.3\n",
      "google-auth                  2.6.0\n",
      "google-auth-oauthlib         0.4.6\n",
      "google-pasta                 0.2.0\n",
      "grpcio                       1.43.0\n",
      "h5py                         3.6.0\n",
      "idna                         2.8\n",
      "importlib-metadata           4.10.1\n",
      "importlib-resources          5.4.0\n",
      "iniconfig                    1.1.1\n",
      "ipykernel                    5.1.1\n",
      "ipython                      8.0.1\n",
      "ipython-genutils             0.2.0\n",
      "ipywidgets                   7.6.5\n",
      "itsdangerous                 2.1.2\n",
      "jedi                         0.17.2\n",
      "Jinja2                       3.0.3\n",
      "joblib                       1.1.0\n",
      "jsonschema                   4.4.0\n",
      "jupyter                      1.0.0\n",
      "jupyter-client               7.1.2\n",
      "jupyter-console              6.4.0\n",
      "jupyter-core                 4.9.1\n",
      "jupyter-http-over-ws         0.0.8\n",
      "jupyterlab-pygments          0.1.2\n",
      "jupyterlab-widgets           1.0.2\n",
      "keras                        2.8.0\n",
      "Keras-Preprocessing          1.1.2\n",
      "kiwisolver                   1.3.2\n",
      "libclang                     13.0.0\n",
      "Markdown                     3.3.6\n",
      "MarkupSafe                   2.0.1\n",
      "matplotlib                   3.5.1\n",
      "matplotlib-inline            0.1.3\n",
      "mistune                      0.8.4\n",
      "mypy-extensions              0.4.3\n",
      "nbclient                     0.5.10\n",
      "nbconvert                    6.4.1\n",
      "nbformat                     4.4.0\n",
      "nest-asyncio                 1.5.4\n",
      "notebook                     6.4.8\n",
      "numpy                        1.22.1\n",
      "oauthlib                     3.2.0\n",
      "opt-einsum                   3.3.0\n",
      "packaging                    21.3\n",
      "pandas                       1.4.3\n",
      "pandocfilters                1.5.0\n",
      "parso                        0.7.1\n",
      "pathspec                     0.9.0\n",
      "pexpect                      4.8.0\n",
      "pickleshare                  0.7.5\n",
      "Pillow                       9.0.0\n",
      "pip                          20.2.4\n",
      "pipreqs                      0.4.11\n",
      "platformdirs                 2.4.1\n",
      "pluggy                       1.0.0\n",
      "prometheus-client            0.13.1\n",
      "prompt-toolkit               3.0.26\n",
      "protobuf                     3.19.4\n",
      "ptyprocess                   0.7.0\n",
      "pure-eval                    0.2.2\n",
      "py                           1.11.0\n",
      "pyasn1                       0.4.8\n",
      "pyasn1-modules               0.2.8\n",
      "pycparser                    2.21\n",
      "Pygments                     2.11.2\n",
      "PyGObject                    3.36.0\n",
      "pyparsing                    3.0.7\n",
      "pyrsistent                   0.18.1\n",
      "pytest                       7.1.2\n",
      "python-apt                   2.0.0+ubuntu0.20.4.6\n",
      "python-dateutil              2.8.2\n",
      "pytz                         2022.1\n",
      "pyzmq                        22.3.0\n",
      "qtconsole                    5.2.2\n",
      "QtPy                         2.0.1\n",
      "regression-model             0.1.2\n",
      "requests                     2.22.0\n",
      "requests-oauthlib            1.3.1\n",
      "requests-unixsocket          0.2.0\n",
      "rsa                          4.8\n",
      "scikit-learn                 1.1.1\n",
      "scipy                        1.8.1\n",
      "Send2Trash                   1.8.0\n",
      "setuptools                   60.7.0\n",
      "six                          1.14.0\n",
      "sklearn                      0.0\n",
      "stack-data                   0.1.4\n",
      "tensorboard                  2.8.0\n",
      "tensorboard-data-server      0.6.1\n",
      "tensorboard-plugin-wit       1.8.1\n",
      "tensorflow                   2.8.0\n",
      "tensorflow-io-gcs-filesystem 0.23.1\n",
      "termcolor                    1.1.0\n",
      "terminado                    0.13.1\n",
      "testpath                     0.5.0\n",
      "tf-estimator-nightly         2.8.0.dev2021122109\n",
      "threadpoolctl                3.1.0\n",
      "tomli                        2.0.0\n",
      "tornado                      6.1\n",
      "traitlets                    5.1.1\n",
      "typing-extensions            4.0.1\n",
      "urllib3                      1.25.8\n",
      "wcwidth                      0.2.5\n",
      "webencodings                 0.5.1\n",
      "Werkzeug                     2.0.2\n",
      "wheel                        0.34.2\n",
      "widgetsnbextension           3.5.2\n",
      "wrapt                        1.13.3\n",
      "yarg                         0.1.9\n",
      "zipp                         3.7.0\n",
      "\u001b[33mWARNING: You are using pip version 20.2.4; however, version 22.1.2 is available.\n",
      "You should consider upgrading via the '/usr/bin/python3 -m pip install --upgrade pip' command.\u001b[0m\n"
     ]
    }
   ],
   "source": [
    "!pip list"
   ]
  },
  {
   "cell_type": "code",
   "execution_count": 5,
   "metadata": {},
   "outputs": [],
   "source": [
    "!export FLASK_APP=run"
   ]
  },
  {
   "cell_type": "code",
   "execution_count": 6,
   "metadata": {},
   "outputs": [],
   "source": [
    "!$FLASK_APP"
   ]
  },
  {
   "cell_type": "code",
   "execution_count": 3,
   "metadata": {},
   "outputs": [
    {
     "name": "stdout",
     "output_type": "stream",
     "text": [
      "/tf/packages/ml_api\r\n"
     ]
    }
   ],
   "source": [
    "!pwd"
   ]
  },
  {
   "cell_type": "code",
   "execution_count": 2,
   "metadata": {},
   "outputs": [
    {
     "name": "stdout",
     "output_type": "stream",
     "text": [
      "\u001b[1m============================= test session starts ==============================\u001b[0m\n",
      "platform linux -- Python 3.8.10, pytest-7.1.2, pluggy-1.0.0\n",
      "rootdir: /tf/packages/ml_api\n",
      "collected 0 items                                                              \u001b[0m\n",
      "\n",
      "\u001b[33m=============================== warnings summary ===============================\u001b[0m\n",
      "../../../usr/local/lib/python3.8/dist-packages/flask/json/__init__.py:26\n",
      "  /usr/local/lib/python3.8/dist-packages/flask/json/__init__.py:26: DeprecationWarning: Importing 'itsdangerous.json' is deprecated and will be removed in ItsDangerous 2.1. Use Python's 'json' module instead.\n",
      "    _slash_escape = '\\\\/' not in _json.dumps('/')\n",
      "\n",
      "../../../usr/local/lib/python3.8/dist-packages/flask/json/__init__.py:48\n",
      "  /usr/local/lib/python3.8/dist-packages/flask/json/__init__.py:48: DeprecationWarning: Importing 'itsdangerous.json' is deprecated and will be removed in ItsDangerous 2.1. Use Python's 'json' module instead.\n",
      "    class JSONEncoder(_json.JSONEncoder):\n",
      "\n",
      "../../../usr/local/lib/python3.8/dist-packages/flask/json/__init__.py:84\n",
      "  /usr/local/lib/python3.8/dist-packages/flask/json/__init__.py:84: DeprecationWarning: Importing 'itsdangerous.json' is deprecated and will be removed in ItsDangerous 2.1. Use Python's 'json' module instead.\n",
      "    class JSONDecoder(_json.JSONDecoder):\n",
      "\n",
      "../../../usr/local/lib/python3.8/dist-packages/flask/sessions.py:14\n",
      "  /usr/local/lib/python3.8/dist-packages/flask/sessions.py:14: DeprecationWarning: Using or importing the ABCs from 'collections' instead of from 'collections.abc' is deprecated since Python 3.3, and in 3.10 it will stop working\n",
      "    from collections import MutableMapping\n",
      "\n",
      "-- Docs: https://docs.pytest.org/en/stable/how-to/capture-warnings.html\n",
      "\u001b[33m============================= \u001b[33m\u001b[1m4 warnings\u001b[0m\u001b[33m in 0.01s\u001b[0m\u001b[33m ==============================\u001b[0m\n",
      "\u001b[31mERROR: file or directory not found: packages/ml_api/tests\n",
      "\u001b[0m\n"
     ]
    }
   ],
   "source": []
  },
  {
   "cell_type": "code",
   "execution_count": null,
   "metadata": {},
   "outputs": [
    {
     "name": "stdout",
     "output_type": "stream",
     "text": [
      "2022-07-05 18:11:08,202 - api.app - DEBUG -create_app:16 - Application instance created\n",
      " * Serving Flask app \"ml_api\" (lazy loading)\n",
      " * Environment: production\n",
      "\u001b[31m   WARNING: Do not use the development server in a production environment.\u001b[0m\n",
      "\u001b[2m   Use a production WSGI server instead.\u001b[0m\n",
      " * Debug mode: on\n",
      " * Running on http://127.0.0.1:5000/ (Press CTRL+C to quit)\n",
      " * Restarting with stat\n",
      "2022-07-05 18:11:08,414 - api.app - DEBUG -create_app:16 - Application instance created\n",
      " * Debugger is active!\n",
      " * Debugger PIN: 704-935-285\n",
      " * Detected change in '/tf/packages/ml_api/run.py', reloading\n",
      " * Restarting with stat\n",
      "2022-07-05 18:12:03,152 - api.app - DEBUG -create_app:16 - Application instance created\n",
      " * Debugger is active!\n",
      " * Debugger PIN: 704-935-285\n"
     ]
    }
   ],
   "source": [
    "!python run.py"
   ]
  },
  {
   "cell_type": "code",
   "execution_count": 8,
   "metadata": {},
   "outputs": [
    {
     "name": "stdout",
     "output_type": "stream",
     "text": [
      "Collecting itsdangerous==2.0.1\n",
      "  Downloading itsdangerous-2.0.1-py3-none-any.whl (18 kB)\n",
      "Installing collected packages: itsdangerous\n",
      "  Attempting uninstall: itsdangerous\n",
      "    Found existing installation: itsdangerous 2.1.2\n",
      "    Uninstalling itsdangerous-2.1.2:\n",
      "      Successfully uninstalled itsdangerous-2.1.2\n",
      "Successfully installed itsdangerous-2.0.1\n",
      "\u001b[33mWARNING: You are using pip version 20.2.4; however, version 22.1.2 is available.\n",
      "You should consider upgrading via the '/usr/bin/python3 -m pip install --upgrade pip' command.\u001b[0m\n"
     ]
    }
   ],
   "source": [
    "!pip install itsdangerous==2.0.1"
   ]
  },
  {
   "cell_type": "code",
   "execution_count": 4,
   "metadata": {},
   "outputs": [
    {
     "name": "stdout",
     "output_type": "stream",
     "text": [
      " * Environment: production\r\n",
      "\u001b[31m   WARNING: Do not use the development server in a production environment.\u001b[0m\r\n",
      "\u001b[2m   Use a production WSGI server instead.\u001b[0m\r\n",
      " * Debug mode: off\r\n",
      "Usage: flask run [OPTIONS]\r\n",
      "Try 'flask run --help' for help.\r\n",
      "\r\n",
      "Error: Could not locate a Flask application. You did not provide the \"FLASK_APP\" environment variable, and a \"wsgi.py\" or \"app.py\" module was not found in the current directory.\r\n"
     ]
    }
   ],
   "source": [
    "!flask run -h 0.0.0.0 -p 5000"
   ]
  },
  {
   "cell_type": "code",
   "execution_count": null,
   "metadata": {},
   "outputs": [],
   "source": []
  }
 ],
 "metadata": {
  "kernelspec": {
   "display_name": "Python 3",
   "language": "python",
   "name": "python3"
  },
  "language_info": {
   "codemirror_mode": {
    "name": "ipython",
    "version": 3
   },
   "file_extension": ".py",
   "mimetype": "text/x-python",
   "name": "python",
   "nbconvert_exporter": "python",
   "pygments_lexer": "ipython3",
   "version": "3.8.10"
  }
 },
 "nbformat": 4,
 "nbformat_minor": 2
}
