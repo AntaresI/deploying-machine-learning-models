{
 "cells": [
  {
   "cell_type": "code",
   "execution_count": 3,
   "metadata": {},
   "outputs": [
    {
     "name": "stdout",
     "output_type": "stream",
     "text": [
      "running sdist\n",
      "running egg_info\n",
      "creating regression_model.egg-info\n",
      "writing regression_model.egg-info/PKG-INFO\n",
      "writing dependency_links to regression_model.egg-info/dependency_links.txt\n",
      "writing requirements to regression_model.egg-info/requires.txt\n",
      "writing top-level names to regression_model.egg-info/top_level.txt\n",
      "writing manifest file 'regression_model.egg-info/SOURCES.txt'\n",
      "reading manifest file 'regression_model.egg-info/SOURCES.txt'\n",
      "reading manifest template 'MANIFEST.in'\n",
      "writing manifest file 'regression_model.egg-info/SOURCES.txt'\n",
      "warning: sdist: standard file not found: should have one of README, README.rst, README.txt, README.md\n",
      "\n",
      "running check\n",
      "creating regression_model-0.1.0\n",
      "creating regression_model-0.1.0/regression_model\n",
      "creating regression_model-0.1.0/regression_model.egg-info\n",
      "creating regression_model-0.1.0/regression_model/config\n",
      "creating regression_model-0.1.0/regression_model/datasets\n",
      "creating regression_model-0.1.0/regression_model/processing\n",
      "copying files to regression_model-0.1.0...\n",
      "copying MANIFEST.in -> regression_model-0.1.0\n",
      "copying setup.py -> regression_model-0.1.0\n",
      "copying regression_model/__init__.py -> regression_model-0.1.0/regression_model\n",
      "copying regression_model/pipeline.py -> regression_model-0.1.0/regression_model\n",
      "copying regression_model/predict.py -> regression_model-0.1.0/regression_model\n",
      "copying regression_model/train_pipeline.py -> regression_model-0.1.0/regression_model\n",
      "copying regression_model.egg-info/PKG-INFO -> regression_model-0.1.0/regression_model.egg-info\n",
      "copying regression_model.egg-info/SOURCES.txt -> regression_model-0.1.0/regression_model.egg-info\n",
      "copying regression_model.egg-info/dependency_links.txt -> regression_model-0.1.0/regression_model.egg-info\n",
      "copying regression_model.egg-info/requires.txt -> regression_model-0.1.0/regression_model.egg-info\n",
      "copying regression_model.egg-info/top_level.txt -> regression_model-0.1.0/regression_model.egg-info\n",
      "copying regression_model/config/__init__.py -> regression_model-0.1.0/regression_model/config\n",
      "copying regression_model/config/config.py -> regression_model-0.1.0/regression_model/config\n",
      "copying regression_model/config/logging_config.py -> regression_model-0.1.0/regression_model/config\n",
      "copying regression_model/datasets/__init__.py -> regression_model-0.1.0/regression_model/datasets\n",
      "copying regression_model/processing/__init__.py -> regression_model-0.1.0/regression_model/processing\n",
      "copying regression_model/processing/data_management.py -> regression_model-0.1.0/regression_model/processing\n",
      "copying regression_model/processing/errors.py -> regression_model-0.1.0/regression_model/processing\n",
      "copying regression_model/processing/features.py -> regression_model-0.1.0/regression_model/processing\n",
      "copying regression_model/processing/preprocessors.py -> regression_model-0.1.0/regression_model/processing\n",
      "copying regression_model/processing/validate_inputs.py -> regression_model-0.1.0/regression_model/processing\n",
      "Writing regression_model-0.1.0/setup.cfg\n",
      "creating dist\n",
      "Creating tar archive\n",
      "removing 'regression_model-0.1.0' (and everything under it)\n",
      "running bdist_wheel\n",
      "running build\n",
      "running build_py\n",
      "creating build\n",
      "creating build/lib\n",
      "creating build/lib/regression_model\n",
      "copying regression_model/pipeline.py -> build/lib/regression_model\n",
      "copying regression_model/predict.py -> build/lib/regression_model\n",
      "copying regression_model/train_pipeline.py -> build/lib/regression_model\n",
      "copying regression_model/__init__.py -> build/lib/regression_model\n",
      "creating build/lib/regression_model/config\n",
      "copying regression_model/config/config.py -> build/lib/regression_model/config\n",
      "copying regression_model/config/logging_config.py -> build/lib/regression_model/config\n",
      "copying regression_model/config/__init__.py -> build/lib/regression_model/config\n",
      "creating build/lib/regression_model/datasets\n",
      "copying regression_model/datasets/__init__.py -> build/lib/regression_model/datasets\n",
      "creating build/lib/regression_model/processing\n",
      "copying regression_model/processing/data_management.py -> build/lib/regression_model/processing\n",
      "copying regression_model/processing/errors.py -> build/lib/regression_model/processing\n",
      "copying regression_model/processing/features.py -> build/lib/regression_model/processing\n",
      "copying regression_model/processing/preprocessors.py -> build/lib/regression_model/processing\n",
      "copying regression_model/processing/validate_inputs.py -> build/lib/regression_model/processing\n",
      "copying regression_model/processing/__init__.py -> build/lib/regression_model/processing\n",
      "copying regression_model/VERSION -> build/lib/regression_model\n",
      "installing to build/bdist.linux-x86_64/wheel\n",
      "running install\n",
      "running install_lib\n",
      "creating build/bdist.linux-x86_64\n",
      "creating build/bdist.linux-x86_64/wheel\n",
      "creating build/bdist.linux-x86_64/wheel/regression_model\n",
      "creating build/bdist.linux-x86_64/wheel/regression_model/config\n",
      "copying build/lib/regression_model/config/config.py -> build/bdist.linux-x86_64/wheel/regression_model/config\n",
      "copying build/lib/regression_model/config/logging_config.py -> build/bdist.linux-x86_64/wheel/regression_model/config\n",
      "copying build/lib/regression_model/config/__init__.py -> build/bdist.linux-x86_64/wheel/regression_model/config\n",
      "creating build/bdist.linux-x86_64/wheel/regression_model/datasets\n",
      "copying build/lib/regression_model/datasets/__init__.py -> build/bdist.linux-x86_64/wheel/regression_model/datasets\n",
      "copying build/lib/regression_model/pipeline.py -> build/bdist.linux-x86_64/wheel/regression_model\n",
      "copying build/lib/regression_model/predict.py -> build/bdist.linux-x86_64/wheel/regression_model\n",
      "creating build/bdist.linux-x86_64/wheel/regression_model/processing\n",
      "copying build/lib/regression_model/processing/data_management.py -> build/bdist.linux-x86_64/wheel/regression_model/processing\n",
      "copying build/lib/regression_model/processing/errors.py -> build/bdist.linux-x86_64/wheel/regression_model/processing\n",
      "copying build/lib/regression_model/processing/features.py -> build/bdist.linux-x86_64/wheel/regression_model/processing\n",
      "copying build/lib/regression_model/processing/preprocessors.py -> build/bdist.linux-x86_64/wheel/regression_model/processing\n",
      "copying build/lib/regression_model/processing/validate_inputs.py -> build/bdist.linux-x86_64/wheel/regression_model/processing\n",
      "copying build/lib/regression_model/processing/__init__.py -> build/bdist.linux-x86_64/wheel/regression_model/processing\n",
      "copying build/lib/regression_model/train_pipeline.py -> build/bdist.linux-x86_64/wheel/regression_model\n",
      "copying build/lib/regression_model/VERSION -> build/bdist.linux-x86_64/wheel/regression_model\n",
      "copying build/lib/regression_model/__init__.py -> build/bdist.linux-x86_64/wheel/regression_model\n",
      "running install_egg_info\n",
      "Copying regression_model.egg-info to build/bdist.linux-x86_64/wheel/regression_model-0.1.0-py3.8.egg-info\n",
      "running install_scripts\n",
      "creating build/bdist.linux-x86_64/wheel/regression_model-0.1.0.dist-info/WHEEL\n",
      "creating 'dist/regression_model-0.1.0-py3-none-any.whl' and adding 'build/bdist.linux-x86_64/wheel' to it\n",
      "adding 'regression_model/VERSION'\n",
      "adding 'regression_model/__init__.py'\n",
      "adding 'regression_model/pipeline.py'\n",
      "adding 'regression_model/predict.py'\n",
      "adding 'regression_model/train_pipeline.py'\n",
      "adding 'regression_model/config/__init__.py'\n",
      "adding 'regression_model/config/config.py'\n",
      "adding 'regression_model/config/logging_config.py'\n",
      "adding 'regression_model/datasets/__init__.py'\n",
      "adding 'regression_model/processing/__init__.py'\n",
      "adding 'regression_model/processing/data_management.py'\n",
      "adding 'regression_model/processing/errors.py'\n",
      "adding 'regression_model/processing/features.py'\n",
      "adding 'regression_model/processing/preprocessors.py'\n",
      "adding 'regression_model/processing/validate_inputs.py'\n",
      "adding 'regression_model-0.1.0.dist-info/METADATA'\n",
      "adding 'regression_model-0.1.0.dist-info/WHEEL'\n",
      "adding 'regression_model-0.1.0.dist-info/top_level.txt'\n",
      "adding 'regression_model-0.1.0.dist-info/RECORD'\n",
      "removing build/bdist.linux-x86_64/wheel\n"
     ]
    }
   ],
   "source": [
    "!python setup.py sdist bdist_wheel"
   ]
  },
  {
   "cell_type": "code",
   "execution_count": 4,
   "metadata": {},
   "outputs": [
    {
     "name": "stdout",
     "output_type": "stream",
     "text": [
      "Requirement already satisfied: e in /usr/local/lib/python3.8/dist-packages (1.4.5)\n",
      "\u001b[33mWARNING: Running pip as the 'root' user can result in broken permissions and conflicting behaviour with the system package manager. It is recommended to use a virtual environment instead: https://pip.pypa.io/warnings/venv\u001b[0m\u001b[33m\n",
      "\u001b[0m"
     ]
    }
   ],
   "source": [
    "!pip install e"
   ]
  },
  {
   "cell_type": "code",
   "execution_count": 7,
   "metadata": {},
   "outputs": [
    {
     "name": "stdout",
     "output_type": "stream",
     "text": [
      "Found existing installation: e 1.4.5\n",
      "Uninstalling e-1.4.5:\n",
      "  Successfully uninstalled e-1.4.5\n",
      "\u001b[33mWARNING: Running pip as the 'root' user can result in broken permissions and conflicting behaviour with the system package manager. It is recommended to use a virtual environment instead: https://pip.pypa.io/warnings/venv\u001b[0m\u001b[33m\n",
      "\u001b[0m"
     ]
    }
   ],
   "source": [
    "!pip uninstall e -y"
   ]
  },
  {
   "cell_type": "code",
   "execution_count": 8,
   "metadata": {},
   "outputs": [
    {
     "name": "stdout",
     "output_type": "stream",
     "text": [
      "Collecting e\n",
      "  Using cached e-1.4.5-py3-none-any.whl\n",
      "Installing collected packages: e\n",
      "Successfully installed e-1.4.5\n",
      "\u001b[33mWARNING: Running pip as the 'root' user can result in broken permissions and conflicting behaviour with the system package manager. It is recommended to use a virtual environment instead: https://pip.pypa.io/warnings/venv\u001b[0m\u001b[33m\n",
      "\u001b[0mNote: you may need to restart the kernel to use updated packages.\n"
     ]
    }
   ],
   "source": [
    "pip install e"
   ]
  },
  {
   "cell_type": "code",
   "execution_count": 1,
   "metadata": {},
   "outputs": [],
   "source": [
    "import regression_model"
   ]
  },
  {
   "cell_type": "code",
   "execution_count": 2,
   "metadata": {},
   "outputs": [
    {
     "data": {
      "text/plain": [
       "'0.1.0'"
      ]
     },
     "execution_count": 2,
     "metadata": {},
     "output_type": "execute_result"
    }
   ],
   "source": [
    "regression_model.__version__"
   ]
  },
  {
   "cell_type": "code",
   "execution_count": null,
   "metadata": {},
   "outputs": [],
   "source": []
  }
 ],
 "metadata": {
  "kernelspec": {
   "display_name": "Python 3",
   "language": "python",
   "name": "python3"
  },
  "language_info": {
   "codemirror_mode": {
    "name": "ipython",
    "version": 3
   },
   "file_extension": ".py",
   "mimetype": "text/x-python",
   "name": "python",
   "nbconvert_exporter": "python",
   "pygments_lexer": "ipython3",
   "version": "3.8.10"
  }
 },
 "nbformat": 4,
 "nbformat_minor": 2
}
