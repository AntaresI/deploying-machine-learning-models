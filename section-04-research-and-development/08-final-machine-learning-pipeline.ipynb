{
 "cells": [
  {
   "cell_type": "markdown",
   "source": [
    "# Final Machine Learning Pipeline\n",
    "\n",
    "The pipeline features\n",
    "\n",
    "- open source classes\n",
    "- in house package classes\n",
    "- only uses the selected features\n",
    "- we score new data"
   ],
   "metadata": {}
  },
  {
   "cell_type": "markdown",
   "source": [
    "# Reproducibility: Setting the seed\n",
    "\n",
    "With the aim to ensure reproducibility between runs of the same notebook, but also between the research and production environment, for each step that includes some element of randomness, it is extremely important that we **set the seed**."
   ],
   "metadata": {}
  },
  {
   "cell_type": "code",
   "execution_count": 1,
   "source": [
    "# data manipulation and plotting\r\n",
    "import pandas as pd\r\n",
    "import numpy as np\r\n",
    "import matplotlib.pyplot as plt\r\n",
    "\r\n",
    "# for saving the pipeline\r\n",
    "import joblib\r\n",
    "\r\n",
    "# from Scikit-learn\r\n",
    "from sklearn.linear_model import Lasso\r\n",
    "from sklearn.metrics import mean_squared_error, r2_score\r\n",
    "from sklearn.model_selection import train_test_split\r\n",
    "from sklearn.pipeline import Pipeline\r\n",
    "from sklearn.preprocessing import MinMaxScaler, Binarizer\r\n",
    "\r\n",
    "# from feature-engine\r\n",
    "from feature_engine.imputation import (\r\n",
    "    AddMissingIndicator,\r\n",
    "    MeanMedianImputer,\r\n",
    "    CategoricalImputer,\r\n",
    ")\r\n",
    "\r\n",
    "from feature_engine.encoding import (\r\n",
    "    RareLabelEncoder,\r\n",
    "    OrdinalEncoder,\r\n",
    ")\r\n",
    "\r\n",
    "from feature_engine.transformation import LogTransformer\r\n",
    "\r\n",
    "from feature_engine.selection import DropFeatures\r\n",
    "from feature_engine.wrappers import SklearnTransformerWrapper\r\n",
    "\r\n",
    "import preprocessors as pp"
   ],
   "outputs": [],
   "metadata": {}
  },
  {
   "cell_type": "code",
   "execution_count": 2,
   "source": [
    "# load dataset\r\n",
    "data = pd.read_csv('train.csv')\r\n",
    "\r\n",
    "# rows and columns of the data\r\n",
    "print(data.shape)\r\n",
    "\r\n",
    "# visualise the dataset\r\n",
    "data.head()"
   ],
   "outputs": [
    {
     "output_type": "stream",
     "name": "stdout",
     "text": [
      "(1460, 81)\n"
     ]
    },
    {
     "output_type": "execute_result",
     "data": {
      "text/plain": [
       "   Id  MSSubClass MSZoning  LotFrontage  LotArea Street Alley LotShape  \\\n",
       "0   1          60       RL         65.0     8450   Pave   NaN      Reg   \n",
       "1   2          20       RL         80.0     9600   Pave   NaN      Reg   \n",
       "2   3          60       RL         68.0    11250   Pave   NaN      IR1   \n",
       "3   4          70       RL         60.0     9550   Pave   NaN      IR1   \n",
       "4   5          60       RL         84.0    14260   Pave   NaN      IR1   \n",
       "\n",
       "  LandContour Utilities  ... PoolArea PoolQC Fence MiscFeature MiscVal MoSold  \\\n",
       "0         Lvl    AllPub  ...        0    NaN   NaN         NaN       0      2   \n",
       "1         Lvl    AllPub  ...        0    NaN   NaN         NaN       0      5   \n",
       "2         Lvl    AllPub  ...        0    NaN   NaN         NaN       0      9   \n",
       "3         Lvl    AllPub  ...        0    NaN   NaN         NaN       0      2   \n",
       "4         Lvl    AllPub  ...        0    NaN   NaN         NaN       0     12   \n",
       "\n",
       "  YrSold  SaleType  SaleCondition  SalePrice  \n",
       "0   2008        WD         Normal     208500  \n",
       "1   2007        WD         Normal     181500  \n",
       "2   2008        WD         Normal     223500  \n",
       "3   2006        WD        Abnorml     140000  \n",
       "4   2008        WD         Normal     250000  \n",
       "\n",
       "[5 rows x 81 columns]"
      ],
      "text/html": [
       "<div>\n",
       "<style scoped>\n",
       "    .dataframe tbody tr th:only-of-type {\n",
       "        vertical-align: middle;\n",
       "    }\n",
       "\n",
       "    .dataframe tbody tr th {\n",
       "        vertical-align: top;\n",
       "    }\n",
       "\n",
       "    .dataframe thead th {\n",
       "        text-align: right;\n",
       "    }\n",
       "</style>\n",
       "<table border=\"1\" class=\"dataframe\">\n",
       "  <thead>\n",
       "    <tr style=\"text-align: right;\">\n",
       "      <th></th>\n",
       "      <th>Id</th>\n",
       "      <th>MSSubClass</th>\n",
       "      <th>MSZoning</th>\n",
       "      <th>LotFrontage</th>\n",
       "      <th>LotArea</th>\n",
       "      <th>Street</th>\n",
       "      <th>Alley</th>\n",
       "      <th>LotShape</th>\n",
       "      <th>LandContour</th>\n",
       "      <th>Utilities</th>\n",
       "      <th>...</th>\n",
       "      <th>PoolArea</th>\n",
       "      <th>PoolQC</th>\n",
       "      <th>Fence</th>\n",
       "      <th>MiscFeature</th>\n",
       "      <th>MiscVal</th>\n",
       "      <th>MoSold</th>\n",
       "      <th>YrSold</th>\n",
       "      <th>SaleType</th>\n",
       "      <th>SaleCondition</th>\n",
       "      <th>SalePrice</th>\n",
       "    </tr>\n",
       "  </thead>\n",
       "  <tbody>\n",
       "    <tr>\n",
       "      <th>0</th>\n",
       "      <td>1</td>\n",
       "      <td>60</td>\n",
       "      <td>RL</td>\n",
       "      <td>65.0</td>\n",
       "      <td>8450</td>\n",
       "      <td>Pave</td>\n",
       "      <td>NaN</td>\n",
       "      <td>Reg</td>\n",
       "      <td>Lvl</td>\n",
       "      <td>AllPub</td>\n",
       "      <td>...</td>\n",
       "      <td>0</td>\n",
       "      <td>NaN</td>\n",
       "      <td>NaN</td>\n",
       "      <td>NaN</td>\n",
       "      <td>0</td>\n",
       "      <td>2</td>\n",
       "      <td>2008</td>\n",
       "      <td>WD</td>\n",
       "      <td>Normal</td>\n",
       "      <td>208500</td>\n",
       "    </tr>\n",
       "    <tr>\n",
       "      <th>1</th>\n",
       "      <td>2</td>\n",
       "      <td>20</td>\n",
       "      <td>RL</td>\n",
       "      <td>80.0</td>\n",
       "      <td>9600</td>\n",
       "      <td>Pave</td>\n",
       "      <td>NaN</td>\n",
       "      <td>Reg</td>\n",
       "      <td>Lvl</td>\n",
       "      <td>AllPub</td>\n",
       "      <td>...</td>\n",
       "      <td>0</td>\n",
       "      <td>NaN</td>\n",
       "      <td>NaN</td>\n",
       "      <td>NaN</td>\n",
       "      <td>0</td>\n",
       "      <td>5</td>\n",
       "      <td>2007</td>\n",
       "      <td>WD</td>\n",
       "      <td>Normal</td>\n",
       "      <td>181500</td>\n",
       "    </tr>\n",
       "    <tr>\n",
       "      <th>2</th>\n",
       "      <td>3</td>\n",
       "      <td>60</td>\n",
       "      <td>RL</td>\n",
       "      <td>68.0</td>\n",
       "      <td>11250</td>\n",
       "      <td>Pave</td>\n",
       "      <td>NaN</td>\n",
       "      <td>IR1</td>\n",
       "      <td>Lvl</td>\n",
       "      <td>AllPub</td>\n",
       "      <td>...</td>\n",
       "      <td>0</td>\n",
       "      <td>NaN</td>\n",
       "      <td>NaN</td>\n",
       "      <td>NaN</td>\n",
       "      <td>0</td>\n",
       "      <td>9</td>\n",
       "      <td>2008</td>\n",
       "      <td>WD</td>\n",
       "      <td>Normal</td>\n",
       "      <td>223500</td>\n",
       "    </tr>\n",
       "    <tr>\n",
       "      <th>3</th>\n",
       "      <td>4</td>\n",
       "      <td>70</td>\n",
       "      <td>RL</td>\n",
       "      <td>60.0</td>\n",
       "      <td>9550</td>\n",
       "      <td>Pave</td>\n",
       "      <td>NaN</td>\n",
       "      <td>IR1</td>\n",
       "      <td>Lvl</td>\n",
       "      <td>AllPub</td>\n",
       "      <td>...</td>\n",
       "      <td>0</td>\n",
       "      <td>NaN</td>\n",
       "      <td>NaN</td>\n",
       "      <td>NaN</td>\n",
       "      <td>0</td>\n",
       "      <td>2</td>\n",
       "      <td>2006</td>\n",
       "      <td>WD</td>\n",
       "      <td>Abnorml</td>\n",
       "      <td>140000</td>\n",
       "    </tr>\n",
       "    <tr>\n",
       "      <th>4</th>\n",
       "      <td>5</td>\n",
       "      <td>60</td>\n",
       "      <td>RL</td>\n",
       "      <td>84.0</td>\n",
       "      <td>14260</td>\n",
       "      <td>Pave</td>\n",
       "      <td>NaN</td>\n",
       "      <td>IR1</td>\n",
       "      <td>Lvl</td>\n",
       "      <td>AllPub</td>\n",
       "      <td>...</td>\n",
       "      <td>0</td>\n",
       "      <td>NaN</td>\n",
       "      <td>NaN</td>\n",
       "      <td>NaN</td>\n",
       "      <td>0</td>\n",
       "      <td>12</td>\n",
       "      <td>2008</td>\n",
       "      <td>WD</td>\n",
       "      <td>Normal</td>\n",
       "      <td>250000</td>\n",
       "    </tr>\n",
       "  </tbody>\n",
       "</table>\n",
       "<p>5 rows × 81 columns</p>\n",
       "</div>"
      ]
     },
     "metadata": {},
     "execution_count": 2
    }
   ],
   "metadata": {}
  },
  {
   "cell_type": "code",
   "execution_count": 3,
   "source": [
    "# Cast MSSubClass as object\r\n",
    "\r\n",
    "data['MSSubClass'] = data['MSSubClass'].astype('O')"
   ],
   "outputs": [],
   "metadata": {}
  },
  {
   "cell_type": "markdown",
   "source": [
    "# Separate dataset into train and test\n",
    "\n",
    "It is important to separate our data intro training and testing set. \n",
    "\n",
    "When we engineer features, some techniques learn parameters from data. It is important to learn these parameters only from the train set. This is to avoid over-fitting.\n",
    "\n",
    "Our feature engineering techniques will learn:\n",
    "\n",
    "- mean\n",
    "- mode\n",
    "- exponents for the yeo-johnson\n",
    "- category frequency\n",
    "- and category to number mappings\n",
    "\n",
    "from the train set.\n",
    "\n",
    "**Separating the data into train and test involves randomness, therefore, we need to set the seed.**"
   ],
   "metadata": {}
  },
  {
   "cell_type": "code",
   "execution_count": 4,
   "source": [
    "# Let's separate into train and test set\r\n",
    "# Remember to set the seed (random_state for this sklearn function)\r\n",
    "\r\n",
    "X_train, X_test, y_train, y_test = train_test_split(\r\n",
    "    data.drop(['Id', 'SalePrice'], axis=1), # predictive variables\r\n",
    "    data['SalePrice'], # target\r\n",
    "    test_size=0.1, # portion of dataset to allocate to test set\r\n",
    "    random_state=0, # we are setting the seed here\r\n",
    ")\r\n",
    "\r\n",
    "X_train.shape, X_test.shape"
   ],
   "outputs": [
    {
     "output_type": "execute_result",
     "data": {
      "text/plain": [
       "((1314, 79), (146, 79))"
      ]
     },
     "metadata": {},
     "execution_count": 4
    }
   ],
   "metadata": {}
  },
  {
   "cell_type": "markdown",
   "source": [
    "# Target\n",
    "\n",
    "We apply the logarithm"
   ],
   "metadata": {}
  },
  {
   "cell_type": "code",
   "execution_count": 5,
   "source": [
    "y_train = np.log(y_train)\r\n",
    "y_test = np.log(y_test)"
   ],
   "outputs": [],
   "metadata": {}
  },
  {
   "cell_type": "markdown",
   "source": [
    "# Configuration"
   ],
   "metadata": {}
  },
  {
   "cell_type": "code",
   "execution_count": 6,
   "source": [
    "# categorical variables with NA in train set\r\n",
    "CATEGORICAL_VARS_WITH_NA_FREQUENT = ['BsmtQual', 'BsmtExposure',\r\n",
    "                                     'BsmtFinType1', 'GarageFinish']\r\n",
    "\r\n",
    "\r\n",
    "CATEGORICAL_VARS_WITH_NA_MISSING = ['FireplaceQu']\r\n",
    "\r\n",
    "\r\n",
    "# numerical variables with NA in train set\r\n",
    "NUMERICAL_VARS_WITH_NA = ['LotFrontage']\r\n",
    "\r\n",
    "\r\n",
    "TEMPORAL_VARS = ['YearRemodAdd']\r\n",
    "REF_VAR = \"YrSold\"\r\n",
    "\r\n",
    "# this variable is to calculate the temporal variable,\r\n",
    "# can be dropped afterwards\r\n",
    "DROP_FEATURES = [\"YrSold\"]\r\n",
    "\r\n",
    "# variables to log transform\r\n",
    "NUMERICALS_LOG_VARS = [\"LotFrontage\", \"1stFlrSF\", \"GrLivArea\"]\r\n",
    "\r\n",
    "\r\n",
    "# variables to binarize\r\n",
    "BINARIZE_VARS = ['ScreenPorch']\r\n",
    "\r\n",
    "# variables to map\r\n",
    "QUAL_VARS = ['ExterQual', 'BsmtQual',\r\n",
    "             'HeatingQC', 'KitchenQual', 'FireplaceQu']\r\n",
    "\r\n",
    "EXPOSURE_VARS = ['BsmtExposure']\r\n",
    "\r\n",
    "FINISH_VARS = ['BsmtFinType1']\r\n",
    "\r\n",
    "GARAGE_VARS = ['GarageFinish']\r\n",
    "\r\n",
    "FENCE_VARS = ['Fence']\r\n",
    "\r\n",
    "\r\n",
    "# categorical variables to encode\r\n",
    "CATEGORICAL_VARS = ['MSSubClass',  'MSZoning',  'LotShape',  'LandContour',\r\n",
    "                    'LotConfig', 'Neighborhood', 'RoofStyle', 'Exterior1st',\r\n",
    "                    'Foundation', 'CentralAir', 'Functional', 'PavedDrive',\r\n",
    "                    'SaleCondition']\r\n",
    "\r\n",
    "\r\n",
    "# variable mappings\r\n",
    "QUAL_MAPPINGS = {'Po': 1, 'Fa': 2, 'TA': 3,\r\n",
    "                 'Gd': 4, 'Ex': 5, 'Missing': 0, 'NA': 0}\r\n",
    "\r\n",
    "EXPOSURE_MAPPINGS = {'No': 1, 'Mn': 2, 'Av': 3, 'Gd': 4}\r\n",
    "\r\n",
    "FINISH_MAPPINGS = {'Missing': 0, 'NA': 0, 'Unf': 1,\r\n",
    "                   'LwQ': 2, 'Rec': 3, 'BLQ': 4, 'ALQ': 5, 'GLQ': 6}\r\n",
    "\r\n",
    "GARAGE_MAPPINGS = {'Missing': 0, 'NA': 0, 'Unf': 1, 'RFn': 2, 'Fin': 3}\r\n",
    "\r\n",
    "\r\n",
    "# the selected variables\r\n",
    "FEATURES = [\r\n",
    "    'MSSubClass',\r\n",
    "    'MSZoning',\r\n",
    "    'LotFrontage',\r\n",
    "    'LotShape',\r\n",
    "    'LandContour',\r\n",
    "    'LotConfig',\r\n",
    "    'Neighborhood',\r\n",
    "    'OverallQual',\r\n",
    "    'OverallCond',\r\n",
    "    'YearRemodAdd',\r\n",
    "    'RoofStyle',\r\n",
    "    'Exterior1st',\r\n",
    "    'ExterQual',\r\n",
    "    'Foundation',\r\n",
    "    'BsmtQual',\r\n",
    "    'BsmtExposure',\r\n",
    "    'BsmtFinType1',\r\n",
    "    'HeatingQC',\r\n",
    "    'CentralAir',\r\n",
    "    '1stFlrSF',\r\n",
    "    '2ndFlrSF',\r\n",
    "    'GrLivArea',\r\n",
    "    'BsmtFullBath',\r\n",
    "    'HalfBath',\r\n",
    "    'KitchenQual',\r\n",
    "    'TotRmsAbvGrd',\r\n",
    "    'Functional',\r\n",
    "    'Fireplaces',\r\n",
    "    'FireplaceQu',\r\n",
    "    'GarageFinish',\r\n",
    "    'GarageCars',\r\n",
    "    'GarageArea',\r\n",
    "    'PavedDrive',\r\n",
    "    'WoodDeckSF',\r\n",
    "    'ScreenPorch',\r\n",
    "    'SaleCondition',\r\n",
    "    # this one is only to calculate temporal variable:\r\n",
    "    \"YrSold\",\r\n",
    "]"
   ],
   "outputs": [],
   "metadata": {}
  },
  {
   "cell_type": "code",
   "execution_count": 7,
   "source": [
    "X_train = X_train[FEATURES]\r\n",
    "X_test = X_test[FEATURES]\r\n",
    "\r\n",
    "X_train.shape, X_test.shape"
   ],
   "outputs": [
    {
     "output_type": "execute_result",
     "data": {
      "text/plain": [
       "((1314, 37), (146, 37))"
      ]
     },
     "metadata": {},
     "execution_count": 7
    }
   ],
   "metadata": {}
  },
  {
   "cell_type": "markdown",
   "source": [
    "# Pipeline - End-to-end\n",
    "\n",
    "We have 3 steps less, they are commented out. So the pipeline is also simpler:\n",
    "\n",
    "- the yeo-johnson transformation\n",
    "- 1 of the mappings\n",
    "- the selection procedure\n",
    "\n",
    "this makes the pipeline faster and easier to deploy."
   ],
   "metadata": {}
  },
  {
   "cell_type": "code",
   "execution_count": 8,
   "source": [
    "# set up the pipeline\r\n",
    "price_pipe = Pipeline([\r\n",
    "\r\n",
    "    # ===== IMPUTATION =====\r\n",
    "    # impute categorical variables with string missing\r\n",
    "    ('missing_imputation', CategoricalImputer(\r\n",
    "        imputation_method='missing', variables=CATEGORICAL_VARS_WITH_NA_MISSING)),\r\n",
    "\r\n",
    "    ('frequent_imputation', CategoricalImputer(\r\n",
    "        imputation_method='frequent', variables=CATEGORICAL_VARS_WITH_NA_FREQUENT)),\r\n",
    "\r\n",
    "    # add missing indicator\r\n",
    "    ('missing_indicator', AddMissingIndicator(variables=NUMERICAL_VARS_WITH_NA)),\r\n",
    "\r\n",
    "    # impute numerical variables with the mean\r\n",
    "    ('mean_imputation', MeanMedianImputer(\r\n",
    "        imputation_method='mean', variables=NUMERICAL_VARS_WITH_NA\r\n",
    "    )),\r\n",
    "    \r\n",
    "    \r\n",
    "    # == TEMPORAL VARIABLES ====\r\n",
    "    ('elapsed_time', pp.TemporalVariableTransformer(\r\n",
    "        variables=TEMPORAL_VARS, reference_variable=REF_VAR)),\r\n",
    "\r\n",
    "    ('drop_features', DropFeatures(features_to_drop=[REF_VAR])),\r\n",
    "\r\n",
    "   \r\n",
    "\r\n",
    "    # ==== VARIABLE TRANSFORMATION =====\r\n",
    "    ('log', LogTransformer(variables=NUMERICALS_LOG_VARS)),\r\n",
    "    \r\n",
    "#     ('yeojohnson', YeoJohnsonTransformer(variables=NUMERICALS_YEO_VARS)),\r\n",
    "    \r\n",
    "    ('binarizer', SklearnTransformerWrapper(\r\n",
    "        transformer=Binarizer(threshold=0), variables=BINARIZE_VARS)),\r\n",
    "    \r\n",
    "\r\n",
    "    # === mappers ===\r\n",
    "    ('mapper_qual', pp.Mapper(\r\n",
    "        variables=QUAL_VARS, mappings=QUAL_MAPPINGS)),\r\n",
    "\r\n",
    "    ('mapper_exposure', pp.Mapper(\r\n",
    "        variables=EXPOSURE_VARS, mappings=EXPOSURE_MAPPINGS)),\r\n",
    "\r\n",
    "    ('mapper_finish', pp.Mapper(\r\n",
    "        variables=FINISH_VARS, mappings=FINISH_MAPPINGS)),\r\n",
    "\r\n",
    "    ('mapper_garage', pp.Mapper(\r\n",
    "        variables=GARAGE_VARS, mappings=GARAGE_MAPPINGS)),\r\n",
    "    \r\n",
    "#     ('mapper_fence', pp.Mapper(\r\n",
    "#         variables=FENCE_VARS, mappings=FENCE_MAPPINGS)),\r\n",
    "\r\n",
    "\r\n",
    "    # == CATEGORICAL ENCODING\r\n",
    "    ('rare_label_encoder', RareLabelEncoder(\r\n",
    "        tol=0.01, n_categories=1, variables=CATEGORICAL_VARS\r\n",
    "    )),\r\n",
    "\r\n",
    "    # encode categorical and discrete variables using the target mean\r\n",
    "    ('categorical_encoder', OrdinalEncoder(\r\n",
    "        encoding_method='ordered', variables=CATEGORICAL_VARS)),\r\n",
    "    \r\n",
    "    \r\n",
    "    ('scaler', MinMaxScaler()),\r\n",
    "#     ('selector', SelectFromModel(Lasso(alpha=0.001, random_state=0))),\r\n",
    "    ('Lasso', Lasso(alpha=0.001, random_state=0)),\r\n",
    "])"
   ],
   "outputs": [],
   "metadata": {}
  },
  {
   "cell_type": "code",
   "execution_count": 9,
   "source": [
    "# train the pipeline\r\n",
    "price_pipe.fit(X_train, y_train)"
   ],
   "outputs": [
    {
     "output_type": "execute_result",
     "data": {
      "text/plain": [
       "Pipeline(steps=[('missing_imputation',\n",
       "                 CategoricalImputer(variables=['FireplaceQu'])),\n",
       "                ('frequent_imputation',\n",
       "                 CategoricalImputer(imputation_method='frequent',\n",
       "                                    variables=['BsmtQual', 'BsmtExposure',\n",
       "                                               'BsmtFinType1',\n",
       "                                               'GarageFinish'])),\n",
       "                ('missing_indicator',\n",
       "                 AddMissingIndicator(variables=['LotFrontage'])),\n",
       "                ('mean_imputation',\n",
       "                 MeanMedianImputer(imputation_method=...\n",
       "                                             'Foundation', 'CentralAir',\n",
       "                                             'Functional', 'PavedDrive',\n",
       "                                             'SaleCondition'])),\n",
       "                ('categorical_encoder',\n",
       "                 OrdinalEncoder(variables=['MSSubClass', 'MSZoning', 'LotShape',\n",
       "                                           'LandContour', 'LotConfig',\n",
       "                                           'Neighborhood', 'RoofStyle',\n",
       "                                           'Exterior1st', 'Foundation',\n",
       "                                           'CentralAir', 'Functional',\n",
       "                                           'PavedDrive', 'SaleCondition'])),\n",
       "                ('scaler', MinMaxScaler()),\n",
       "                ('Lasso', Lasso(alpha=0.001, random_state=0))])"
      ]
     },
     "metadata": {},
     "execution_count": 9
    }
   ],
   "metadata": {}
  },
  {
   "cell_type": "code",
   "execution_count": 10,
   "source": [
    "# evaluate the model:\r\n",
    "# ====================\r\n",
    "\r\n",
    "# make predictions for train set\r\n",
    "pred = price_pipe.predict(X_train)\r\n",
    "\r\n",
    "# determine mse, rmse and r2\r\n",
    "print('train mse: {}'.format(int(\r\n",
    "    mean_squared_error(np.exp(y_train), np.exp(pred)))))\r\n",
    "print('train rmse: {}'.format(int(\r\n",
    "    mean_squared_error(np.exp(y_train), np.exp(pred), squared=False))))\r\n",
    "print('train r2: {}'.format(\r\n",
    "    r2_score(np.exp(y_train), np.exp(pred))))\r\n",
    "print()\r\n",
    "\r\n",
    "# make predictions for test set\r\n",
    "pred = price_pipe.predict(X_test)\r\n",
    "\r\n",
    "# determine mse, rmse and r2\r\n",
    "print('test mse: {}'.format(int(\r\n",
    "    mean_squared_error(np.exp(y_test), np.exp(pred)))))\r\n",
    "print('test rmse: {}'.format(int(\r\n",
    "    mean_squared_error(np.exp(y_test), np.exp(pred), squared=False))))\r\n",
    "print('test r2: {}'.format(\r\n",
    "    r2_score(np.exp(y_test), np.exp(pred))))\r\n",
    "print()\r\n",
    "\r\n",
    "print('Average house price: ', int(np.exp(y_train).median()))"
   ],
   "outputs": [
    {
     "output_type": "stream",
     "name": "stdout",
     "text": [
      "train mse: 781396630\n",
      "train rmse: 27953\n",
      "train r2: 0.8748530315439078\n",
      "\n",
      "test mse: 1060769014\n",
      "test rmse: 32569\n",
      "test r2: 0.8456415571208442\n",
      "\n",
      "Average house price:  163000\n"
     ]
    }
   ],
   "metadata": {}
  },
  {
   "cell_type": "markdown",
   "source": [
    "Identical results to when we did all the engineering manually."
   ],
   "metadata": {}
  },
  {
   "cell_type": "code",
   "execution_count": 11,
   "source": [
    "# let's evaluate our predictions respect to the real sale price\r\n",
    "plt.scatter(y_test, price_pipe.predict(X_test))\r\n",
    "plt.xlabel('True House Price')\r\n",
    "plt.ylabel('Predicted House Price')\r\n",
    "plt.title('Evaluation of Lasso Predictions')"
   ],
   "outputs": [
    {
     "output_type": "execute_result",
     "data": {
      "text/plain": [
       "Text(0.5, 1.0, 'Evaluation of Lasso Predictions')"
      ]
     },
     "metadata": {},
     "execution_count": 11
    },
    {
     "output_type": "display_data",
     "data": {
      "text/plain": [
       "<Figure size 432x288 with 1 Axes>"
      ],
      "image/svg+xml": "<?xml version=\"1.0\" encoding=\"utf-8\" standalone=\"no\"?>\r\n<!DOCTYPE svg PUBLIC \"-//W3C//DTD SVG 1.1//EN\"\r\n  \"http://www.w3.org/Graphics/SVG/1.1/DTD/svg11.dtd\">\r\n<!-- Created with matplotlib (https://matplotlib.org/) -->\r\n<svg height=\"277.314375pt\" version=\"1.1\" viewBox=\"0 0 398.50625 277.314375\" width=\"398.50625pt\" xmlns=\"http://www.w3.org/2000/svg\" xmlns:xlink=\"http://www.w3.org/1999/xlink\">\r\n <defs>\r\n  <style type=\"text/css\">\r\n*{stroke-linecap:butt;stroke-linejoin:round;}\r\n  </style>\r\n </defs>\r\n <g id=\"figure_1\">\r\n  <g id=\"patch_1\">\r\n   <path d=\"M 0 277.314375 \r\nL 398.50625 277.314375 \r\nL 398.50625 0 \r\nL 0 0 \r\nz\r\n\" style=\"fill:none;\"/>\r\n  </g>\r\n  <g id=\"axes_1\">\r\n   <g id=\"patch_2\">\r\n    <path d=\"M 56.50625 239.758125 \r\nL 391.30625 239.758125 \r\nL 391.30625 22.318125 \r\nL 56.50625 22.318125 \r\nz\r\n\" style=\"fill:#ffffff;\"/>\r\n   </g>\r\n   <g id=\"PathCollection_1\">\r\n    <defs>\r\n     <path d=\"M 0 3 \r\nC 0.795609 3 1.55874 2.683901 2.12132 2.12132 \r\nC 2.683901 1.55874 3 0.795609 3 0 \r\nC 3 -0.795609 2.683901 -1.55874 2.12132 -2.12132 \r\nC 1.55874 -2.683901 0.795609 -3 0 -3 \r\nC -0.795609 -3 -1.55874 -2.683901 -2.12132 -2.12132 \r\nC -2.683901 -1.55874 -3 -0.795609 -3 0 \r\nC -3 0.795609 -2.683901 1.55874 -2.12132 2.12132 \r\nC -1.55874 2.683901 -0.795609 3 0 3 \r\nz\r\n\" id=\"mbbfdec7638\" style=\"stroke:#1f77b4;\"/>\r\n    </defs>\r\n    <g clip-path=\"url(#p061e0111f7)\">\r\n     <use style=\"fill:#1f77b4;stroke:#1f77b4;\" x=\"197.635467\" xlink:href=\"#mbbfdec7638\" y=\"133.363809\"/>\r\n     <use style=\"fill:#1f77b4;stroke:#1f77b4;\" x=\"141.719615\" xlink:href=\"#mbbfdec7638\" y=\"158.377208\"/>\r\n     <use style=\"fill:#1f77b4;stroke:#1f77b4;\" x=\"115.893531\" xlink:href=\"#mbbfdec7638\" y=\"184.845963\"/>\r\n     <use style=\"fill:#1f77b4;stroke:#1f77b4;\" x=\"191.659107\" xlink:href=\"#mbbfdec7638\" y=\"116.309814\"/>\r\n     <use style=\"fill:#1f77b4;stroke:#1f77b4;\" x=\"85.541387\" xlink:href=\"#mbbfdec7638\" y=\"209.939501\"/>\r\n     <use style=\"fill:#1f77b4;stroke:#1f77b4;\" x=\"80.823433\" xlink:href=\"#mbbfdec7638\" y=\"213.233782\"/>\r\n     <use style=\"fill:#1f77b4;stroke:#1f77b4;\" x=\"244.391053\" xlink:href=\"#mbbfdec7638\" y=\"101.421828\"/>\r\n     <use style=\"fill:#1f77b4;stroke:#1f77b4;\" x=\"149.664688\" xlink:href=\"#mbbfdec7638\" y=\"179.807897\"/>\r\n     <use style=\"fill:#1f77b4;stroke:#1f77b4;\" x=\"376.088068\" xlink:href=\"#mbbfdec7638\" y=\"32.201761\"/>\r\n     <use style=\"fill:#1f77b4;stroke:#1f77b4;\" x=\"156.988482\" xlink:href=\"#mbbfdec7638\" y=\"146.377357\"/>\r\n     <use style=\"fill:#1f77b4;stroke:#1f77b4;\" x=\"203.133854\" xlink:href=\"#mbbfdec7638\" y=\"119.437386\"/>\r\n     <use style=\"fill:#1f77b4;stroke:#1f77b4;\" x=\"145.655799\" xlink:href=\"#mbbfdec7638\" y=\"152.723362\"/>\r\n     <use style=\"fill:#1f77b4;stroke:#1f77b4;\" x=\"213.232675\" xlink:href=\"#mbbfdec7638\" y=\"113.846907\"/>\r\n     <use style=\"fill:#1f77b4;stroke:#1f77b4;\" x=\"131.087587\" xlink:href=\"#mbbfdec7638\" y=\"182.455456\"/>\r\n     <use style=\"fill:#1f77b4;stroke:#1f77b4;\" x=\"126.819039\" xlink:href=\"#mbbfdec7638\" y=\"175.520952\"/>\r\n     <use style=\"fill:#1f77b4;stroke:#1f77b4;\" x=\"153.469711\" xlink:href=\"#mbbfdec7638\" y=\"168.950338\"/>\r\n     <use style=\"fill:#1f77b4;stroke:#1f77b4;\" x=\"190.234793\" xlink:href=\"#mbbfdec7638\" y=\"103.101035\"/>\r\n     <use style=\"fill:#1f77b4;stroke:#1f77b4;\" x=\"131.749489\" xlink:href=\"#mbbfdec7638\" y=\"176.990402\"/>\r\n     <use style=\"fill:#1f77b4;stroke:#1f77b4;\" x=\"157.49032\" xlink:href=\"#mbbfdec7638\" y=\"170.357059\"/>\r\n     <use style=\"fill:#1f77b4;stroke:#1f77b4;\" x=\"162.541119\" xlink:href=\"#mbbfdec7638\" y=\"136.213999\"/>\r\n     <use style=\"fill:#1f77b4;stroke:#1f77b4;\" x=\"171.867062\" xlink:href=\"#mbbfdec7638\" y=\"180.263562\"/>\r\n     <use style=\"fill:#1f77b4;stroke:#1f77b4;\" x=\"152.999864\" xlink:href=\"#mbbfdec7638\" y=\"150.518131\"/>\r\n     <use style=\"fill:#1f77b4;stroke:#1f77b4;\" x=\"115.893531\" xlink:href=\"#mbbfdec7638\" y=\"207.295003\"/>\r\n     <use style=\"fill:#1f77b4;stroke:#1f77b4;\" x=\"178.269218\" xlink:href=\"#mbbfdec7638\" y=\"152.018455\"/>\r\n     <use style=\"fill:#1f77b4;stroke:#1f77b4;\" x=\"186.607359\" xlink:href=\"#mbbfdec7638\" y=\"132.526683\"/>\r\n     <use style=\"fill:#1f77b4;stroke:#1f77b4;\" x=\"173.496072\" xlink:href=\"#mbbfdec7638\" y=\"130.975026\"/>\r\n     <use style=\"fill:#1f77b4;stroke:#1f77b4;\" x=\"180.978113\" xlink:href=\"#mbbfdec7638\" y=\"137.772531\"/>\r\n     <use style=\"fill:#1f77b4;stroke:#1f77b4;\" x=\"80.020949\" xlink:href=\"#mbbfdec7638\" y=\"224.33362\"/>\r\n     <use style=\"fill:#1f77b4;stroke:#1f77b4;\" x=\"261.14197\" xlink:href=\"#mbbfdec7638\" y=\"99.266545\"/>\r\n     <use style=\"fill:#1f77b4;stroke:#1f77b4;\" x=\"126.017905\" xlink:href=\"#mbbfdec7638\" y=\"194.723744\"/>\r\n     <use style=\"fill:#1f77b4;stroke:#1f77b4;\" x=\"115.893531\" xlink:href=\"#mbbfdec7638\" y=\"156.843274\"/>\r\n     <use style=\"fill:#1f77b4;stroke:#1f77b4;\" x=\"205.77762\" xlink:href=\"#mbbfdec7638\" y=\"124.757371\"/>\r\n     <use style=\"fill:#1f77b4;stroke:#1f77b4;\" x=\"163.415853\" xlink:href=\"#mbbfdec7638\" y=\"149.824384\"/>\r\n     <use style=\"fill:#1f77b4;stroke:#1f77b4;\" x=\"227.563887\" xlink:href=\"#mbbfdec7638\" y=\"80.37693\"/>\r\n     <use style=\"fill:#1f77b4;stroke:#1f77b4;\" x=\"281.805698\" xlink:href=\"#mbbfdec7638\" y=\"81.535112\"/>\r\n     <use style=\"fill:#1f77b4;stroke:#1f77b4;\" x=\"179.048709\" xlink:href=\"#mbbfdec7638\" y=\"129.478374\"/>\r\n     <use style=\"fill:#1f77b4;stroke:#1f77b4;\" x=\"241.759011\" xlink:href=\"#mbbfdec7638\" y=\"89.328262\"/>\r\n     <use style=\"fill:#1f77b4;stroke:#1f77b4;\" x=\"118.950305\" xlink:href=\"#mbbfdec7638\" y=\"177.19302\"/>\r\n     <use style=\"fill:#1f77b4;stroke:#1f77b4;\" x=\"234.459201\" xlink:href=\"#mbbfdec7638\" y=\"112.048588\"/>\r\n     <use style=\"fill:#1f77b4;stroke:#1f77b4;\" x=\"263.25086\" xlink:href=\"#mbbfdec7638\" y=\"72.66114\"/>\r\n     <use style=\"fill:#1f77b4;stroke:#1f77b4;\" x=\"223.700971\" xlink:href=\"#mbbfdec7638\" y=\"120.118545\"/>\r\n     <use style=\"fill:#1f77b4;stroke:#1f77b4;\" x=\"138.616346\" xlink:href=\"#mbbfdec7638\" y=\"166.775588\"/>\r\n     <use style=\"fill:#1f77b4;stroke:#1f77b4;\" x=\"171.036938\" xlink:href=\"#mbbfdec7638\" y=\"120.172418\"/>\r\n     <use style=\"fill:#1f77b4;stroke:#1f77b4;\" x=\"242.978935\" xlink:href=\"#mbbfdec7638\" y=\"85.299214\"/>\r\n     <use style=\"fill:#1f77b4;stroke:#1f77b4;\" x=\"292.510463\" xlink:href=\"#mbbfdec7638\" y=\"70.100712\"/>\r\n     <use style=\"fill:#1f77b4;stroke:#1f77b4;\" x=\"126.590625\" xlink:href=\"#mbbfdec7638\" y=\"162.834044\"/>\r\n     <use style=\"fill:#1f77b4;stroke:#1f77b4;\" x=\"133.281517\" xlink:href=\"#mbbfdec7638\" y=\"190.938696\"/>\r\n     <use style=\"fill:#1f77b4;stroke:#1f77b4;\" x=\"136.719822\" xlink:href=\"#mbbfdec7638\" y=\"173.358098\"/>\r\n     <use style=\"fill:#1f77b4;stroke:#1f77b4;\" x=\"177.091543\" xlink:href=\"#mbbfdec7638\" y=\"153.463744\"/>\r\n     <use style=\"fill:#1f77b4;stroke:#1f77b4;\" x=\"80.663314\" xlink:href=\"#mbbfdec7638\" y=\"200.652974\"/>\r\n     <use style=\"fill:#1f77b4;stroke:#1f77b4;\" x=\"295.679697\" xlink:href=\"#mbbfdec7638\" y=\"55.268044\"/>\r\n     <use style=\"fill:#1f77b4;stroke:#1f77b4;\" x=\"163.415853\" xlink:href=\"#mbbfdec7638\" y=\"163.920255\"/>\r\n     <use style=\"fill:#1f77b4;stroke:#1f77b4;\" x=\"173.415083\" xlink:href=\"#mbbfdec7638\" y=\"149.385121\"/>\r\n     <use style=\"fill:#1f77b4;stroke:#1f77b4;\" x=\"102.929373\" xlink:href=\"#mbbfdec7638\" y=\"223.422578\"/>\r\n     <use style=\"fill:#1f77b4;stroke:#1f77b4;\" x=\"240.528046\" xlink:href=\"#mbbfdec7638\" y=\"115.556387\"/>\r\n     <use style=\"fill:#1f77b4;stroke:#1f77b4;\" x=\"131.087587\" xlink:href=\"#mbbfdec7638\" y=\"190.264652\"/>\r\n     <use style=\"fill:#1f77b4;stroke:#1f77b4;\" x=\"140.693038\" xlink:href=\"#mbbfdec7638\" y=\"187.530627\"/>\r\n     <use style=\"fill:#1f77b4;stroke:#1f77b4;\" x=\"221.954564\" xlink:href=\"#mbbfdec7638\" y=\"112.481368\"/>\r\n     <use style=\"fill:#1f77b4;stroke:#1f77b4;\" x=\"147.721502\" xlink:href=\"#mbbfdec7638\" y=\"170.866454\"/>\r\n     <use style=\"fill:#1f77b4;stroke:#1f77b4;\" x=\"121.939891\" xlink:href=\"#mbbfdec7638\" y=\"202.512671\"/>\r\n     <use style=\"fill:#1f77b4;stroke:#1f77b4;\" x=\"146.245675\" xlink:href=\"#mbbfdec7638\" y=\"155.928352\"/>\r\n     <use style=\"fill:#1f77b4;stroke:#1f77b4;\" x=\"143.749812\" xlink:href=\"#mbbfdec7638\" y=\"178.561446\"/>\r\n     <use style=\"fill:#1f77b4;stroke:#1f77b4;\" x=\"143.194522\" xlink:href=\"#mbbfdec7638\" y=\"168.373537\"/>\r\n     <use style=\"fill:#1f77b4;stroke:#1f77b4;\" x=\"183.257843\" xlink:href=\"#mbbfdec7638\" y=\"147.838003\"/>\r\n     <use style=\"fill:#1f77b4;stroke:#1f77b4;\" x=\"192.717639\" xlink:href=\"#mbbfdec7638\" y=\"128.096911\"/>\r\n     <use style=\"fill:#1f77b4;stroke:#1f77b4;\" x=\"163.85112\" xlink:href=\"#mbbfdec7638\" y=\"146.109982\"/>\r\n     <use style=\"fill:#1f77b4;stroke:#1f77b4;\" x=\"140.693038\" xlink:href=\"#mbbfdec7638\" y=\"180.735535\"/>\r\n     <use style=\"fill:#1f77b4;stroke:#1f77b4;\" x=\"212.930071\" xlink:href=\"#mbbfdec7638\" y=\"117.91968\"/>\r\n     <use style=\"fill:#1f77b4;stroke:#1f77b4;\" x=\"147.721502\" xlink:href=\"#mbbfdec7638\" y=\"160.285858\"/>\r\n     <use style=\"fill:#1f77b4;stroke:#1f77b4;\" x=\"213.232675\" xlink:href=\"#mbbfdec7638\" y=\"125.279667\"/>\r\n     <use style=\"fill:#1f77b4;stroke:#1f77b4;\" x=\"189.156684\" xlink:href=\"#mbbfdec7638\" y=\"128.510628\"/>\r\n     <use style=\"fill:#1f77b4;stroke:#1f77b4;\" x=\"125.442764\" xlink:href=\"#mbbfdec7638\" y=\"175.986004\"/>\r\n     <use style=\"fill:#1f77b4;stroke:#1f77b4;\" x=\"75.935936\" xlink:href=\"#mbbfdec7638\" y=\"229.874489\"/>\r\n     <use style=\"fill:#1f77b4;stroke:#1f77b4;\" x=\"288.746127\" xlink:href=\"#mbbfdec7638\" y=\"98.213994\"/>\r\n     <use style=\"fill:#1f77b4;stroke:#1f77b4;\" x=\"118.344421\" xlink:href=\"#mbbfdec7638\" y=\"214.796296\"/>\r\n     <use style=\"fill:#1f77b4;stroke:#1f77b4;\" x=\"226.964076\" xlink:href=\"#mbbfdec7638\" y=\"98.657967\"/>\r\n     <use style=\"fill:#1f77b4;stroke:#1f77b4;\" x=\"143.245097\" xlink:href=\"#mbbfdec7638\" y=\"181.630812\"/>\r\n     <use style=\"fill:#1f77b4;stroke:#1f77b4;\" x=\"71.724432\" xlink:href=\"#mbbfdec7638\" y=\"210.202772\"/>\r\n     <use style=\"fill:#1f77b4;stroke:#1f77b4;\" x=\"261.14197\" xlink:href=\"#mbbfdec7638\" y=\"91.083634\"/>\r\n     <use style=\"fill:#1f77b4;stroke:#1f77b4;\" x=\"165.148625\" xlink:href=\"#mbbfdec7638\" y=\"147.776586\"/>\r\n     <use style=\"fill:#1f77b4;stroke:#1f77b4;\" x=\"148.696565\" xlink:href=\"#mbbfdec7638\" y=\"184.292886\"/>\r\n     <use style=\"fill:#1f77b4;stroke:#1f77b4;\" x=\"145.252819\" xlink:href=\"#mbbfdec7638\" y=\"161.623251\"/>\r\n     <use style=\"fill:#1f77b4;stroke:#1f77b4;\" x=\"112.766481\" xlink:href=\"#mbbfdec7638\" y=\"174.499908\"/>\r\n     <use style=\"fill:#1f77b4;stroke:#1f77b4;\" x=\"153.469711\" xlink:href=\"#mbbfdec7638\" y=\"162.082984\"/>\r\n     <use style=\"fill:#1f77b4;stroke:#1f77b4;\" x=\"197.551371\" xlink:href=\"#mbbfdec7638\" y=\"127.76116\"/>\r\n     <use style=\"fill:#1f77b4;stroke:#1f77b4;\" x=\"186.607359\" xlink:href=\"#mbbfdec7638\" y=\"127.997213\"/>\r\n     <use style=\"fill:#1f77b4;stroke:#1f77b4;\" x=\"109.565846\" xlink:href=\"#mbbfdec7638\" y=\"202.173943\"/>\r\n     <use style=\"fill:#1f77b4;stroke:#1f77b4;\" x=\"199.01225\" xlink:href=\"#mbbfdec7638\" y=\"120.261177\"/>\r\n     <use style=\"fill:#1f77b4;stroke:#1f77b4;\" x=\"187.340626\" xlink:href=\"#mbbfdec7638\" y=\"155.44491\"/>\r\n     <use style=\"fill:#1f77b4;stroke:#1f77b4;\" x=\"144.75366\" xlink:href=\"#mbbfdec7638\" y=\"164.977809\"/>\r\n     <use style=\"fill:#1f77b4;stroke:#1f77b4;\" x=\"197.551371\" xlink:href=\"#mbbfdec7638\" y=\"135.986427\"/>\r\n     <use style=\"fill:#1f77b4;stroke:#1f77b4;\" x=\"190.234793\" xlink:href=\"#mbbfdec7638\" y=\"136.070343\"/>\r\n     <use style=\"fill:#1f77b4;stroke:#1f77b4;\" x=\"188.433168\" xlink:href=\"#mbbfdec7638\" y=\"141.244756\"/>\r\n     <use style=\"fill:#1f77b4;stroke:#1f77b4;\" x=\"197.211743\" xlink:href=\"#mbbfdec7638\" y=\"116.969405\"/>\r\n     <use style=\"fill:#1f77b4;stroke:#1f77b4;\" x=\"177.091543\" xlink:href=\"#mbbfdec7638\" y=\"122.932694\"/>\r\n     <use style=\"fill:#1f77b4;stroke:#1f77b4;\" x=\"164.284998\" xlink:href=\"#mbbfdec7638\" y=\"160.679624\"/>\r\n     <use style=\"fill:#1f77b4;stroke:#1f77b4;\" x=\"205.77762\" xlink:href=\"#mbbfdec7638\" y=\"120.636593\"/>\r\n     <use style=\"fill:#1f77b4;stroke:#1f77b4;\" x=\"186.607359\" xlink:href=\"#mbbfdec7638\" y=\"147.281196\"/>\r\n     <use style=\"fill:#1f77b4;stroke:#1f77b4;\" x=\"132.736343\" xlink:href=\"#mbbfdec7638\" y=\"185.735953\"/>\r\n     <use style=\"fill:#1f77b4;stroke:#1f77b4;\" x=\"169.302899\" xlink:href=\"#mbbfdec7638\" y=\"167.353547\"/>\r\n     <use style=\"fill:#1f77b4;stroke:#1f77b4;\" x=\"232.898717\" xlink:href=\"#mbbfdec7638\" y=\"111.432709\"/>\r\n     <use style=\"fill:#1f77b4;stroke:#1f77b4;\" x=\"196.187743\" xlink:href=\"#mbbfdec7638\" y=\"156.385512\"/>\r\n     <use style=\"fill:#1f77b4;stroke:#1f77b4;\" x=\"127.72888\" xlink:href=\"#mbbfdec7638\" y=\"167.79723\"/>\r\n     <use style=\"fill:#1f77b4;stroke:#1f77b4;\" x=\"166.433869\" xlink:href=\"#mbbfdec7638\" y=\"163.728552\"/>\r\n     <use style=\"fill:#1f77b4;stroke:#1f77b4;\" x=\"110.726769\" xlink:href=\"#mbbfdec7638\" y=\"195.566637\"/>\r\n     <use style=\"fill:#1f77b4;stroke:#1f77b4;\" x=\"232.898717\" xlink:href=\"#mbbfdec7638\" y=\"96.721583\"/>\r\n     <use style=\"fill:#1f77b4;stroke:#1f77b4;\" x=\"151.580504\" xlink:href=\"#mbbfdec7638\" y=\"160.015035\"/>\r\n     <use style=\"fill:#1f77b4;stroke:#1f77b4;\" x=\"111.49525\" xlink:href=\"#mbbfdec7638\" y=\"224.903717\"/>\r\n     <use style=\"fill:#1f77b4;stroke:#1f77b4;\" x=\"182.046744\" xlink:href=\"#mbbfdec7638\" y=\"138.514833\"/>\r\n     <use style=\"fill:#1f77b4;stroke:#1f77b4;\" x=\"135.440621\" xlink:href=\"#mbbfdec7638\" y=\"186.013414\"/>\r\n     <use style=\"fill:#1f77b4;stroke:#1f77b4;\" x=\"89.126104\" xlink:href=\"#mbbfdec7638\" y=\"196.676732\"/>\r\n     <use style=\"fill:#1f77b4;stroke:#1f77b4;\" x=\"126.017905\" xlink:href=\"#mbbfdec7638\" y=\"189.433728\"/>\r\n     <use style=\"fill:#1f77b4;stroke:#1f77b4;\" x=\"190.234793\" xlink:href=\"#mbbfdec7638\" y=\"134.33864\"/>\r\n     <use style=\"fill:#1f77b4;stroke:#1f77b4;\" x=\"127.615482\" xlink:href=\"#mbbfdec7638\" y=\"172.683414\"/>\r\n     <use style=\"fill:#1f77b4;stroke:#1f77b4;\" x=\"185.796174\" xlink:href=\"#mbbfdec7638\" y=\"128.3915\"/>\r\n     <use style=\"fill:#1f77b4;stroke:#1f77b4;\" x=\"162.541119\" xlink:href=\"#mbbfdec7638\" y=\"141.065954\"/>\r\n     <use style=\"fill:#1f77b4;stroke:#1f77b4;\" x=\"286.736148\" xlink:href=\"#mbbfdec7638\" y=\"52.416969\"/>\r\n     <use style=\"fill:#1f77b4;stroke:#1f77b4;\" x=\"141.719615\" xlink:href=\"#mbbfdec7638\" y=\"181.551378\"/>\r\n     <use style=\"fill:#1f77b4;stroke:#1f77b4;\" x=\"192.717639\" xlink:href=\"#mbbfdec7638\" y=\"129.016125\"/>\r\n     <use style=\"fill:#1f77b4;stroke:#1f77b4;\" x=\"238.032183\" xlink:href=\"#mbbfdec7638\" y=\"97.404218\"/>\r\n     <use style=\"fill:#1f77b4;stroke:#1f77b4;\" x=\"149.664688\" xlink:href=\"#mbbfdec7638\" y=\"158.171864\"/>\r\n     <use style=\"fill:#1f77b4;stroke:#1f77b4;\" x=\"154.404565\" xlink:href=\"#mbbfdec7638\" y=\"149.554517\"/>\r\n     <use style=\"fill:#1f77b4;stroke:#1f77b4;\" x=\"137.037751\" xlink:href=\"#mbbfdec7638\" y=\"183.700684\"/>\r\n     <use style=\"fill:#1f77b4;stroke:#1f77b4;\" x=\"179.823758\" xlink:href=\"#mbbfdec7638\" y=\"131.503306\"/>\r\n     <use style=\"fill:#1f77b4;stroke:#1f77b4;\" x=\"206.414721\" xlink:href=\"#mbbfdec7638\" y=\"121.142024\"/>\r\n     <use style=\"fill:#1f77b4;stroke:#1f77b4;\" x=\"211.406867\" xlink:href=\"#mbbfdec7638\" y=\"98.655893\"/>\r\n     <use style=\"fill:#1f77b4;stroke:#1f77b4;\" x=\"296.599214\" xlink:href=\"#mbbfdec7638\" y=\"63.464051\"/>\r\n     <use style=\"fill:#1f77b4;stroke:#1f77b4;\" x=\"188.614408\" xlink:href=\"#mbbfdec7638\" y=\"121.265204\"/>\r\n     <use style=\"fill:#1f77b4;stroke:#1f77b4;\" x=\"197.143716\" xlink:href=\"#mbbfdec7638\" y=\"120.17578\"/>\r\n     <use style=\"fill:#1f77b4;stroke:#1f77b4;\" x=\"182.880531\" xlink:href=\"#mbbfdec7638\" y=\"145.014252\"/>\r\n     <use style=\"fill:#1f77b4;stroke:#1f77b4;\" x=\"201.430297\" xlink:href=\"#mbbfdec7638\" y=\"137.96523\"/>\r\n     <use style=\"fill:#1f77b4;stroke:#1f77b4;\" x=\"193.06866\" xlink:href=\"#mbbfdec7638\" y=\"133.845449\"/>\r\n     <use style=\"fill:#1f77b4;stroke:#1f77b4;\" x=\"151.535791\" xlink:href=\"#mbbfdec7638\" y=\"165.634328\"/>\r\n     <use style=\"fill:#1f77b4;stroke:#1f77b4;\" x=\"185.05451\" xlink:href=\"#mbbfdec7638\" y=\"130.795997\"/>\r\n     <use style=\"fill:#1f77b4;stroke:#1f77b4;\" x=\"123.176184\" xlink:href=\"#mbbfdec7638\" y=\"211.86602\"/>\r\n     <use style=\"fill:#1f77b4;stroke:#1f77b4;\" x=\"205.937175\" xlink:href=\"#mbbfdec7638\" y=\"124.893953\"/>\r\n     <use style=\"fill:#1f77b4;stroke:#1f77b4;\" x=\"148.209907\" xlink:href=\"#mbbfdec7638\" y=\"161.817682\"/>\r\n     <use style=\"fill:#1f77b4;stroke:#1f77b4;\" x=\"182.122754\" xlink:href=\"#mbbfdec7638\" y=\"149.450258\"/>\r\n     <use style=\"fill:#1f77b4;stroke:#1f77b4;\" x=\"113.271665\" xlink:href=\"#mbbfdec7638\" y=\"201.58688\"/>\r\n     <use style=\"fill:#1f77b4;stroke:#1f77b4;\" x=\"179.746451\" xlink:href=\"#mbbfdec7638\" y=\"144.426272\"/>\r\n     <use style=\"fill:#1f77b4;stroke:#1f77b4;\" x=\"165.57839\" xlink:href=\"#mbbfdec7638\" y=\"149.71001\"/>\r\n     <use style=\"fill:#1f77b4;stroke:#1f77b4;\" x=\"153.469711\" xlink:href=\"#mbbfdec7638\" y=\"174.137617\"/>\r\n     <use style=\"fill:#1f77b4;stroke:#1f77b4;\" x=\"208.308311\" xlink:href=\"#mbbfdec7638\" y=\"114.970467\"/>\r\n     <use style=\"fill:#1f77b4;stroke:#1f77b4;\" x=\"158.533673\" xlink:href=\"#mbbfdec7638\" y=\"154.374242\"/>\r\n     <use style=\"fill:#1f77b4;stroke:#1f77b4;\" x=\"114.600151\" xlink:href=\"#mbbfdec7638\" y=\"176.053132\"/>\r\n     <use style=\"fill:#1f77b4;stroke:#1f77b4;\" x=\"171.538906\" xlink:href=\"#mbbfdec7638\" y=\"141.61803\"/>\r\n    </g>\r\n   </g>\r\n   <g id=\"matplotlib.axis_1\">\r\n    <g id=\"xtick_1\">\r\n     <g id=\"line2d_1\">\r\n      <defs>\r\n       <path d=\"M 0 0 \r\nL 0 3.5 \r\n\" id=\"m6e0d197800\" style=\"stroke:#000000;stroke-width:0.8;\"/>\r\n      </defs>\r\n      <g>\r\n       <use style=\"stroke:#000000;stroke-width:0.8;\" x=\"101.171242\" xlink:href=\"#m6e0d197800\" y=\"239.758125\"/>\r\n      </g>\r\n     </g>\r\n     <g id=\"text_1\">\r\n      <!-- 11.5 -->\r\n      <defs>\r\n       <path d=\"M 12.40625 8.296875 \r\nL 28.515625 8.296875 \r\nL 28.515625 63.921875 \r\nL 10.984375 60.40625 \r\nL 10.984375 69.390625 \r\nL 28.421875 72.90625 \r\nL 38.28125 72.90625 \r\nL 38.28125 8.296875 \r\nL 54.390625 8.296875 \r\nL 54.390625 0 \r\nL 12.40625 0 \r\nz\r\n\" id=\"DejaVuSans-49\"/>\r\n       <path d=\"M 10.6875 12.40625 \r\nL 21 12.40625 \r\nL 21 0 \r\nL 10.6875 0 \r\nz\r\n\" id=\"DejaVuSans-46\"/>\r\n       <path d=\"M 10.796875 72.90625 \r\nL 49.515625 72.90625 \r\nL 49.515625 64.59375 \r\nL 19.828125 64.59375 \r\nL 19.828125 46.734375 \r\nQ 21.96875 47.46875 24.109375 47.828125 \r\nQ 26.265625 48.1875 28.421875 48.1875 \r\nQ 40.625 48.1875 47.75 41.5 \r\nQ 54.890625 34.8125 54.890625 23.390625 \r\nQ 54.890625 11.625 47.5625 5.09375 \r\nQ 40.234375 -1.421875 26.90625 -1.421875 \r\nQ 22.3125 -1.421875 17.546875 -0.640625 \r\nQ 12.796875 0.140625 7.71875 1.703125 \r\nL 7.71875 11.625 \r\nQ 12.109375 9.234375 16.796875 8.0625 \r\nQ 21.484375 6.890625 26.703125 6.890625 \r\nQ 35.15625 6.890625 40.078125 11.328125 \r\nQ 45.015625 15.765625 45.015625 23.390625 \r\nQ 45.015625 31 40.078125 35.4375 \r\nQ 35.15625 39.890625 26.703125 39.890625 \r\nQ 22.75 39.890625 18.8125 39.015625 \r\nQ 14.890625 38.140625 10.796875 36.28125 \r\nz\r\n\" id=\"DejaVuSans-53\"/>\r\n      </defs>\r\n      <g transform=\"translate(90.03843 254.356562)scale(0.1 -0.1)\">\r\n       <use xlink:href=\"#DejaVuSans-49\"/>\r\n       <use x=\"63.623047\" xlink:href=\"#DejaVuSans-49\"/>\r\n       <use x=\"127.246094\" xlink:href=\"#DejaVuSans-46\"/>\r\n       <use x=\"159.033203\" xlink:href=\"#DejaVuSans-53\"/>\r\n      </g>\r\n     </g>\r\n    </g>\r\n    <g id=\"xtick_2\">\r\n     <g id=\"line2d_2\">\r\n      <g>\r\n       <use style=\"stroke:#000000;stroke-width:0.8;\" x=\"169.181596\" xlink:href=\"#m6e0d197800\" y=\"239.758125\"/>\r\n      </g>\r\n     </g>\r\n     <g id=\"text_2\">\r\n      <!-- 12.0 -->\r\n      <defs>\r\n       <path d=\"M 19.1875 8.296875 \r\nL 53.609375 8.296875 \r\nL 53.609375 0 \r\nL 7.328125 0 \r\nL 7.328125 8.296875 \r\nQ 12.9375 14.109375 22.625 23.890625 \r\nQ 32.328125 33.6875 34.8125 36.53125 \r\nQ 39.546875 41.84375 41.421875 45.53125 \r\nQ 43.3125 49.21875 43.3125 52.78125 \r\nQ 43.3125 58.59375 39.234375 62.25 \r\nQ 35.15625 65.921875 28.609375 65.921875 \r\nQ 23.96875 65.921875 18.8125 64.3125 \r\nQ 13.671875 62.703125 7.8125 59.421875 \r\nL 7.8125 69.390625 \r\nQ 13.765625 71.78125 18.9375 73 \r\nQ 24.125 74.21875 28.421875 74.21875 \r\nQ 39.75 74.21875 46.484375 68.546875 \r\nQ 53.21875 62.890625 53.21875 53.421875 \r\nQ 53.21875 48.921875 51.53125 44.890625 \r\nQ 49.859375 40.875 45.40625 35.40625 \r\nQ 44.1875 33.984375 37.640625 27.21875 \r\nQ 31.109375 20.453125 19.1875 8.296875 \r\nz\r\n\" id=\"DejaVuSans-50\"/>\r\n       <path d=\"M 31.78125 66.40625 \r\nQ 24.171875 66.40625 20.328125 58.90625 \r\nQ 16.5 51.421875 16.5 36.375 \r\nQ 16.5 21.390625 20.328125 13.890625 \r\nQ 24.171875 6.390625 31.78125 6.390625 \r\nQ 39.453125 6.390625 43.28125 13.890625 \r\nQ 47.125 21.390625 47.125 36.375 \r\nQ 47.125 51.421875 43.28125 58.90625 \r\nQ 39.453125 66.40625 31.78125 66.40625 \r\nz\r\nM 31.78125 74.21875 \r\nQ 44.046875 74.21875 50.515625 64.515625 \r\nQ 56.984375 54.828125 56.984375 36.375 \r\nQ 56.984375 17.96875 50.515625 8.265625 \r\nQ 44.046875 -1.421875 31.78125 -1.421875 \r\nQ 19.53125 -1.421875 13.0625 8.265625 \r\nQ 6.59375 17.96875 6.59375 36.375 \r\nQ 6.59375 54.828125 13.0625 64.515625 \r\nQ 19.53125 74.21875 31.78125 74.21875 \r\nz\r\n\" id=\"DejaVuSans-48\"/>\r\n      </defs>\r\n      <g transform=\"translate(158.048784 254.356562)scale(0.1 -0.1)\">\r\n       <use xlink:href=\"#DejaVuSans-49\"/>\r\n       <use x=\"63.623047\" xlink:href=\"#DejaVuSans-50\"/>\r\n       <use x=\"127.246094\" xlink:href=\"#DejaVuSans-46\"/>\r\n       <use x=\"159.033203\" xlink:href=\"#DejaVuSans-48\"/>\r\n      </g>\r\n     </g>\r\n    </g>\r\n    <g id=\"xtick_3\">\r\n     <g id=\"line2d_3\">\r\n      <g>\r\n       <use style=\"stroke:#000000;stroke-width:0.8;\" x=\"237.19195\" xlink:href=\"#m6e0d197800\" y=\"239.758125\"/>\r\n      </g>\r\n     </g>\r\n     <g id=\"text_3\">\r\n      <!-- 12.5 -->\r\n      <g transform=\"translate(226.059138 254.356562)scale(0.1 -0.1)\">\r\n       <use xlink:href=\"#DejaVuSans-49\"/>\r\n       <use x=\"63.623047\" xlink:href=\"#DejaVuSans-50\"/>\r\n       <use x=\"127.246094\" xlink:href=\"#DejaVuSans-46\"/>\r\n       <use x=\"159.033203\" xlink:href=\"#DejaVuSans-53\"/>\r\n      </g>\r\n     </g>\r\n    </g>\r\n    <g id=\"xtick_4\">\r\n     <g id=\"line2d_4\">\r\n      <g>\r\n       <use style=\"stroke:#000000;stroke-width:0.8;\" x=\"305.202305\" xlink:href=\"#m6e0d197800\" y=\"239.758125\"/>\r\n      </g>\r\n     </g>\r\n     <g id=\"text_4\">\r\n      <!-- 13.0 -->\r\n      <defs>\r\n       <path d=\"M 40.578125 39.3125 \r\nQ 47.65625 37.796875 51.625 33 \r\nQ 55.609375 28.21875 55.609375 21.1875 \r\nQ 55.609375 10.40625 48.1875 4.484375 \r\nQ 40.765625 -1.421875 27.09375 -1.421875 \r\nQ 22.515625 -1.421875 17.65625 -0.515625 \r\nQ 12.796875 0.390625 7.625 2.203125 \r\nL 7.625 11.71875 \r\nQ 11.71875 9.328125 16.59375 8.109375 \r\nQ 21.484375 6.890625 26.8125 6.890625 \r\nQ 36.078125 6.890625 40.9375 10.546875 \r\nQ 45.796875 14.203125 45.796875 21.1875 \r\nQ 45.796875 27.640625 41.28125 31.265625 \r\nQ 36.765625 34.90625 28.71875 34.90625 \r\nL 20.21875 34.90625 \r\nL 20.21875 43.015625 \r\nL 29.109375 43.015625 \r\nQ 36.375 43.015625 40.234375 45.921875 \r\nQ 44.09375 48.828125 44.09375 54.296875 \r\nQ 44.09375 59.90625 40.109375 62.90625 \r\nQ 36.140625 65.921875 28.71875 65.921875 \r\nQ 24.65625 65.921875 20.015625 65.03125 \r\nQ 15.375 64.15625 9.8125 62.3125 \r\nL 9.8125 71.09375 \r\nQ 15.4375 72.65625 20.34375 73.4375 \r\nQ 25.25 74.21875 29.59375 74.21875 \r\nQ 40.828125 74.21875 47.359375 69.109375 \r\nQ 53.90625 64.015625 53.90625 55.328125 \r\nQ 53.90625 49.265625 50.4375 45.09375 \r\nQ 46.96875 40.921875 40.578125 39.3125 \r\nz\r\n\" id=\"DejaVuSans-51\"/>\r\n      </defs>\r\n      <g transform=\"translate(294.069492 254.356562)scale(0.1 -0.1)\">\r\n       <use xlink:href=\"#DejaVuSans-49\"/>\r\n       <use x=\"63.623047\" xlink:href=\"#DejaVuSans-51\"/>\r\n       <use x=\"127.246094\" xlink:href=\"#DejaVuSans-46\"/>\r\n       <use x=\"159.033203\" xlink:href=\"#DejaVuSans-48\"/>\r\n      </g>\r\n     </g>\r\n    </g>\r\n    <g id=\"xtick_5\">\r\n     <g id=\"line2d_5\">\r\n      <g>\r\n       <use style=\"stroke:#000000;stroke-width:0.8;\" x=\"373.212659\" xlink:href=\"#m6e0d197800\" y=\"239.758125\"/>\r\n      </g>\r\n     </g>\r\n     <g id=\"text_5\">\r\n      <!-- 13.5 -->\r\n      <g transform=\"translate(362.079846 254.356562)scale(0.1 -0.1)\">\r\n       <use xlink:href=\"#DejaVuSans-49\"/>\r\n       <use x=\"63.623047\" xlink:href=\"#DejaVuSans-51\"/>\r\n       <use x=\"127.246094\" xlink:href=\"#DejaVuSans-46\"/>\r\n       <use x=\"159.033203\" xlink:href=\"#DejaVuSans-53\"/>\r\n      </g>\r\n     </g>\r\n    </g>\r\n    <g id=\"text_6\">\r\n     <!-- True House Price -->\r\n     <defs>\r\n      <path d=\"M -0.296875 72.90625 \r\nL 61.375 72.90625 \r\nL 61.375 64.59375 \r\nL 35.5 64.59375 \r\nL 35.5 0 \r\nL 25.59375 0 \r\nL 25.59375 64.59375 \r\nL -0.296875 64.59375 \r\nz\r\n\" id=\"DejaVuSans-84\"/>\r\n      <path d=\"M 41.109375 46.296875 \r\nQ 39.59375 47.171875 37.8125 47.578125 \r\nQ 36.03125 48 33.890625 48 \r\nQ 26.265625 48 22.1875 43.046875 \r\nQ 18.109375 38.09375 18.109375 28.8125 \r\nL 18.109375 0 \r\nL 9.078125 0 \r\nL 9.078125 54.6875 \r\nL 18.109375 54.6875 \r\nL 18.109375 46.1875 \r\nQ 20.953125 51.171875 25.484375 53.578125 \r\nQ 30.03125 56 36.53125 56 \r\nQ 37.453125 56 38.578125 55.875 \r\nQ 39.703125 55.765625 41.0625 55.515625 \r\nz\r\n\" id=\"DejaVuSans-114\"/>\r\n      <path d=\"M 8.5 21.578125 \r\nL 8.5 54.6875 \r\nL 17.484375 54.6875 \r\nL 17.484375 21.921875 \r\nQ 17.484375 14.15625 20.5 10.265625 \r\nQ 23.53125 6.390625 29.59375 6.390625 \r\nQ 36.859375 6.390625 41.078125 11.03125 \r\nQ 45.3125 15.671875 45.3125 23.6875 \r\nL 45.3125 54.6875 \r\nL 54.296875 54.6875 \r\nL 54.296875 0 \r\nL 45.3125 0 \r\nL 45.3125 8.40625 \r\nQ 42.046875 3.421875 37.71875 1 \r\nQ 33.40625 -1.421875 27.6875 -1.421875 \r\nQ 18.265625 -1.421875 13.375 4.4375 \r\nQ 8.5 10.296875 8.5 21.578125 \r\nz\r\nM 31.109375 56 \r\nz\r\n\" id=\"DejaVuSans-117\"/>\r\n      <path d=\"M 56.203125 29.59375 \r\nL 56.203125 25.203125 \r\nL 14.890625 25.203125 \r\nQ 15.484375 15.921875 20.484375 11.0625 \r\nQ 25.484375 6.203125 34.421875 6.203125 \r\nQ 39.59375 6.203125 44.453125 7.46875 \r\nQ 49.3125 8.734375 54.109375 11.28125 \r\nL 54.109375 2.78125 \r\nQ 49.265625 0.734375 44.1875 -0.34375 \r\nQ 39.109375 -1.421875 33.890625 -1.421875 \r\nQ 20.796875 -1.421875 13.15625 6.1875 \r\nQ 5.515625 13.8125 5.515625 26.8125 \r\nQ 5.515625 40.234375 12.765625 48.109375 \r\nQ 20.015625 56 32.328125 56 \r\nQ 43.359375 56 49.78125 48.890625 \r\nQ 56.203125 41.796875 56.203125 29.59375 \r\nz\r\nM 47.21875 32.234375 \r\nQ 47.125 39.59375 43.09375 43.984375 \r\nQ 39.0625 48.390625 32.421875 48.390625 \r\nQ 24.90625 48.390625 20.390625 44.140625 \r\nQ 15.875 39.890625 15.1875 32.171875 \r\nz\r\n\" id=\"DejaVuSans-101\"/>\r\n      <path id=\"DejaVuSans-32\"/>\r\n      <path d=\"M 9.8125 72.90625 \r\nL 19.671875 72.90625 \r\nL 19.671875 43.015625 \r\nL 55.515625 43.015625 \r\nL 55.515625 72.90625 \r\nL 65.375 72.90625 \r\nL 65.375 0 \r\nL 55.515625 0 \r\nL 55.515625 34.71875 \r\nL 19.671875 34.71875 \r\nL 19.671875 0 \r\nL 9.8125 0 \r\nz\r\n\" id=\"DejaVuSans-72\"/>\r\n      <path d=\"M 30.609375 48.390625 \r\nQ 23.390625 48.390625 19.1875 42.75 \r\nQ 14.984375 37.109375 14.984375 27.296875 \r\nQ 14.984375 17.484375 19.15625 11.84375 \r\nQ 23.34375 6.203125 30.609375 6.203125 \r\nQ 37.796875 6.203125 41.984375 11.859375 \r\nQ 46.1875 17.53125 46.1875 27.296875 \r\nQ 46.1875 37.015625 41.984375 42.703125 \r\nQ 37.796875 48.390625 30.609375 48.390625 \r\nz\r\nM 30.609375 56 \r\nQ 42.328125 56 49.015625 48.375 \r\nQ 55.71875 40.765625 55.71875 27.296875 \r\nQ 55.71875 13.875 49.015625 6.21875 \r\nQ 42.328125 -1.421875 30.609375 -1.421875 \r\nQ 18.84375 -1.421875 12.171875 6.21875 \r\nQ 5.515625 13.875 5.515625 27.296875 \r\nQ 5.515625 40.765625 12.171875 48.375 \r\nQ 18.84375 56 30.609375 56 \r\nz\r\n\" id=\"DejaVuSans-111\"/>\r\n      <path d=\"M 44.28125 53.078125 \r\nL 44.28125 44.578125 \r\nQ 40.484375 46.53125 36.375 47.5 \r\nQ 32.28125 48.484375 27.875 48.484375 \r\nQ 21.1875 48.484375 17.84375 46.4375 \r\nQ 14.5 44.390625 14.5 40.28125 \r\nQ 14.5 37.15625 16.890625 35.375 \r\nQ 19.28125 33.59375 26.515625 31.984375 \r\nL 29.59375 31.296875 \r\nQ 39.15625 29.25 43.1875 25.515625 \r\nQ 47.21875 21.78125 47.21875 15.09375 \r\nQ 47.21875 7.46875 41.1875 3.015625 \r\nQ 35.15625 -1.421875 24.609375 -1.421875 \r\nQ 20.21875 -1.421875 15.453125 -0.5625 \r\nQ 10.6875 0.296875 5.421875 2 \r\nL 5.421875 11.28125 \r\nQ 10.40625 8.6875 15.234375 7.390625 \r\nQ 20.0625 6.109375 24.8125 6.109375 \r\nQ 31.15625 6.109375 34.5625 8.28125 \r\nQ 37.984375 10.453125 37.984375 14.40625 \r\nQ 37.984375 18.0625 35.515625 20.015625 \r\nQ 33.0625 21.96875 24.703125 23.78125 \r\nL 21.578125 24.515625 \r\nQ 13.234375 26.265625 9.515625 29.90625 \r\nQ 5.8125 33.546875 5.8125 39.890625 \r\nQ 5.8125 47.609375 11.28125 51.796875 \r\nQ 16.75 56 26.8125 56 \r\nQ 31.78125 56 36.171875 55.265625 \r\nQ 40.578125 54.546875 44.28125 53.078125 \r\nz\r\n\" id=\"DejaVuSans-115\"/>\r\n      <path d=\"M 19.671875 64.796875 \r\nL 19.671875 37.40625 \r\nL 32.078125 37.40625 \r\nQ 38.96875 37.40625 42.71875 40.96875 \r\nQ 46.484375 44.53125 46.484375 51.125 \r\nQ 46.484375 57.671875 42.71875 61.234375 \r\nQ 38.96875 64.796875 32.078125 64.796875 \r\nz\r\nM 9.8125 72.90625 \r\nL 32.078125 72.90625 \r\nQ 44.34375 72.90625 50.609375 67.359375 \r\nQ 56.890625 61.8125 56.890625 51.125 \r\nQ 56.890625 40.328125 50.609375 34.8125 \r\nQ 44.34375 29.296875 32.078125 29.296875 \r\nL 19.671875 29.296875 \r\nL 19.671875 0 \r\nL 9.8125 0 \r\nz\r\n\" id=\"DejaVuSans-80\"/>\r\n      <path d=\"M 9.421875 54.6875 \r\nL 18.40625 54.6875 \r\nL 18.40625 0 \r\nL 9.421875 0 \r\nz\r\nM 9.421875 75.984375 \r\nL 18.40625 75.984375 \r\nL 18.40625 64.59375 \r\nL 9.421875 64.59375 \r\nz\r\n\" id=\"DejaVuSans-105\"/>\r\n      <path d=\"M 48.78125 52.59375 \r\nL 48.78125 44.1875 \r\nQ 44.96875 46.296875 41.140625 47.34375 \r\nQ 37.3125 48.390625 33.40625 48.390625 \r\nQ 24.65625 48.390625 19.8125 42.84375 \r\nQ 14.984375 37.3125 14.984375 27.296875 \r\nQ 14.984375 17.28125 19.8125 11.734375 \r\nQ 24.65625 6.203125 33.40625 6.203125 \r\nQ 37.3125 6.203125 41.140625 7.25 \r\nQ 44.96875 8.296875 48.78125 10.40625 \r\nL 48.78125 2.09375 \r\nQ 45.015625 0.34375 40.984375 -0.53125 \r\nQ 36.96875 -1.421875 32.421875 -1.421875 \r\nQ 20.0625 -1.421875 12.78125 6.34375 \r\nQ 5.515625 14.109375 5.515625 27.296875 \r\nQ 5.515625 40.671875 12.859375 48.328125 \r\nQ 20.21875 56 33.015625 56 \r\nQ 37.15625 56 41.109375 55.140625 \r\nQ 45.0625 54.296875 48.78125 52.59375 \r\nz\r\n\" id=\"DejaVuSans-99\"/>\r\n     </defs>\r\n     <g transform=\"translate(182.24375 268.034687)scale(0.1 -0.1)\">\r\n      <use xlink:href=\"#DejaVuSans-84\"/>\r\n      <use x=\"46.333984\" xlink:href=\"#DejaVuSans-114\"/>\r\n      <use x=\"87.447266\" xlink:href=\"#DejaVuSans-117\"/>\r\n      <use x=\"150.826172\" xlink:href=\"#DejaVuSans-101\"/>\r\n      <use x=\"212.349609\" xlink:href=\"#DejaVuSans-32\"/>\r\n      <use x=\"244.136719\" xlink:href=\"#DejaVuSans-72\"/>\r\n      <use x=\"319.332031\" xlink:href=\"#DejaVuSans-111\"/>\r\n      <use x=\"380.513672\" xlink:href=\"#DejaVuSans-117\"/>\r\n      <use x=\"443.892578\" xlink:href=\"#DejaVuSans-115\"/>\r\n      <use x=\"495.992188\" xlink:href=\"#DejaVuSans-101\"/>\r\n      <use x=\"557.515625\" xlink:href=\"#DejaVuSans-32\"/>\r\n      <use x=\"589.302734\" xlink:href=\"#DejaVuSans-80\"/>\r\n      <use x=\"647.855469\" xlink:href=\"#DejaVuSans-114\"/>\r\n      <use x=\"688.96875\" xlink:href=\"#DejaVuSans-105\"/>\r\n      <use x=\"716.751953\" xlink:href=\"#DejaVuSans-99\"/>\r\n      <use x=\"771.732422\" xlink:href=\"#DejaVuSans-101\"/>\r\n     </g>\r\n    </g>\r\n   </g>\r\n   <g id=\"matplotlib.axis_2\">\r\n    <g id=\"ytick_1\">\r\n     <g id=\"line2d_6\">\r\n      <defs>\r\n       <path d=\"M 0 0 \r\nL -3.5 0 \r\n\" id=\"m6fc6090535\" style=\"stroke:#000000;stroke-width:0.8;\"/>\r\n      </defs>\r\n      <g>\r\n       <use style=\"stroke:#000000;stroke-width:0.8;\" x=\"56.50625\" xlink:href=\"#m6fc6090535\" y=\"231.518643\"/>\r\n      </g>\r\n     </g>\r\n     <g id=\"text_7\">\r\n      <!-- 11.25 -->\r\n      <g transform=\"translate(20.878125 235.317862)scale(0.1 -0.1)\">\r\n       <use xlink:href=\"#DejaVuSans-49\"/>\r\n       <use x=\"63.623047\" xlink:href=\"#DejaVuSans-49\"/>\r\n       <use x=\"127.246094\" xlink:href=\"#DejaVuSans-46\"/>\r\n       <use x=\"159.033203\" xlink:href=\"#DejaVuSans-50\"/>\r\n       <use x=\"222.65625\" xlink:href=\"#DejaVuSans-53\"/>\r\n      </g>\r\n     </g>\r\n    </g>\r\n    <g id=\"ytick_2\">\r\n     <g id=\"line2d_7\">\r\n      <g>\r\n       <use style=\"stroke:#000000;stroke-width:0.8;\" x=\"56.50625\" xlink:href=\"#m6fc6090535\" y=\"204.199565\"/>\r\n      </g>\r\n     </g>\r\n     <g id=\"text_8\">\r\n      <!-- 11.50 -->\r\n      <g transform=\"translate(20.878125 207.998784)scale(0.1 -0.1)\">\r\n       <use xlink:href=\"#DejaVuSans-49\"/>\r\n       <use x=\"63.623047\" xlink:href=\"#DejaVuSans-49\"/>\r\n       <use x=\"127.246094\" xlink:href=\"#DejaVuSans-46\"/>\r\n       <use x=\"159.033203\" xlink:href=\"#DejaVuSans-53\"/>\r\n       <use x=\"222.65625\" xlink:href=\"#DejaVuSans-48\"/>\r\n      </g>\r\n     </g>\r\n    </g>\r\n    <g id=\"ytick_3\">\r\n     <g id=\"line2d_8\">\r\n      <g>\r\n       <use style=\"stroke:#000000;stroke-width:0.8;\" x=\"56.50625\" xlink:href=\"#m6fc6090535\" y=\"176.880487\"/>\r\n      </g>\r\n     </g>\r\n     <g id=\"text_9\">\r\n      <!-- 11.75 -->\r\n      <defs>\r\n       <path d=\"M 8.203125 72.90625 \r\nL 55.078125 72.90625 \r\nL 55.078125 68.703125 \r\nL 28.609375 0 \r\nL 18.3125 0 \r\nL 43.21875 64.59375 \r\nL 8.203125 64.59375 \r\nz\r\n\" id=\"DejaVuSans-55\"/>\r\n      </defs>\r\n      <g transform=\"translate(20.878125 180.679705)scale(0.1 -0.1)\">\r\n       <use xlink:href=\"#DejaVuSans-49\"/>\r\n       <use x=\"63.623047\" xlink:href=\"#DejaVuSans-49\"/>\r\n       <use x=\"127.246094\" xlink:href=\"#DejaVuSans-46\"/>\r\n       <use x=\"159.033203\" xlink:href=\"#DejaVuSans-55\"/>\r\n       <use x=\"222.65625\" xlink:href=\"#DejaVuSans-53\"/>\r\n      </g>\r\n     </g>\r\n    </g>\r\n    <g id=\"ytick_4\">\r\n     <g id=\"line2d_9\">\r\n      <g>\r\n       <use style=\"stroke:#000000;stroke-width:0.8;\" x=\"56.50625\" xlink:href=\"#m6fc6090535\" y=\"149.561408\"/>\r\n      </g>\r\n     </g>\r\n     <g id=\"text_10\">\r\n      <!-- 12.00 -->\r\n      <g transform=\"translate(20.878125 153.360627)scale(0.1 -0.1)\">\r\n       <use xlink:href=\"#DejaVuSans-49\"/>\r\n       <use x=\"63.623047\" xlink:href=\"#DejaVuSans-50\"/>\r\n       <use x=\"127.246094\" xlink:href=\"#DejaVuSans-46\"/>\r\n       <use x=\"159.033203\" xlink:href=\"#DejaVuSans-48\"/>\r\n       <use x=\"222.65625\" xlink:href=\"#DejaVuSans-48\"/>\r\n      </g>\r\n     </g>\r\n    </g>\r\n    <g id=\"ytick_5\">\r\n     <g id=\"line2d_10\">\r\n      <g>\r\n       <use style=\"stroke:#000000;stroke-width:0.8;\" x=\"56.50625\" xlink:href=\"#m6fc6090535\" y=\"122.24233\"/>\r\n      </g>\r\n     </g>\r\n     <g id=\"text_11\">\r\n      <!-- 12.25 -->\r\n      <g transform=\"translate(20.878125 126.041549)scale(0.1 -0.1)\">\r\n       <use xlink:href=\"#DejaVuSans-49\"/>\r\n       <use x=\"63.623047\" xlink:href=\"#DejaVuSans-50\"/>\r\n       <use x=\"127.246094\" xlink:href=\"#DejaVuSans-46\"/>\r\n       <use x=\"159.033203\" xlink:href=\"#DejaVuSans-50\"/>\r\n       <use x=\"222.65625\" xlink:href=\"#DejaVuSans-53\"/>\r\n      </g>\r\n     </g>\r\n    </g>\r\n    <g id=\"ytick_6\">\r\n     <g id=\"line2d_11\">\r\n      <g>\r\n       <use style=\"stroke:#000000;stroke-width:0.8;\" x=\"56.50625\" xlink:href=\"#m6fc6090535\" y=\"94.923252\"/>\r\n      </g>\r\n     </g>\r\n     <g id=\"text_12\">\r\n      <!-- 12.50 -->\r\n      <g transform=\"translate(20.878125 98.72247)scale(0.1 -0.1)\">\r\n       <use xlink:href=\"#DejaVuSans-49\"/>\r\n       <use x=\"63.623047\" xlink:href=\"#DejaVuSans-50\"/>\r\n       <use x=\"127.246094\" xlink:href=\"#DejaVuSans-46\"/>\r\n       <use x=\"159.033203\" xlink:href=\"#DejaVuSans-53\"/>\r\n       <use x=\"222.65625\" xlink:href=\"#DejaVuSans-48\"/>\r\n      </g>\r\n     </g>\r\n    </g>\r\n    <g id=\"ytick_7\">\r\n     <g id=\"line2d_12\">\r\n      <g>\r\n       <use style=\"stroke:#000000;stroke-width:0.8;\" x=\"56.50625\" xlink:href=\"#m6fc6090535\" y=\"67.604173\"/>\r\n      </g>\r\n     </g>\r\n     <g id=\"text_13\">\r\n      <!-- 12.75 -->\r\n      <g transform=\"translate(20.878125 71.403392)scale(0.1 -0.1)\">\r\n       <use xlink:href=\"#DejaVuSans-49\"/>\r\n       <use x=\"63.623047\" xlink:href=\"#DejaVuSans-50\"/>\r\n       <use x=\"127.246094\" xlink:href=\"#DejaVuSans-46\"/>\r\n       <use x=\"159.033203\" xlink:href=\"#DejaVuSans-55\"/>\r\n       <use x=\"222.65625\" xlink:href=\"#DejaVuSans-53\"/>\r\n      </g>\r\n     </g>\r\n    </g>\r\n    <g id=\"ytick_8\">\r\n     <g id=\"line2d_13\">\r\n      <g>\r\n       <use style=\"stroke:#000000;stroke-width:0.8;\" x=\"56.50625\" xlink:href=\"#m6fc6090535\" y=\"40.285095\"/>\r\n      </g>\r\n     </g>\r\n     <g id=\"text_14\">\r\n      <!-- 13.00 -->\r\n      <g transform=\"translate(20.878125 44.084314)scale(0.1 -0.1)\">\r\n       <use xlink:href=\"#DejaVuSans-49\"/>\r\n       <use x=\"63.623047\" xlink:href=\"#DejaVuSans-51\"/>\r\n       <use x=\"127.246094\" xlink:href=\"#DejaVuSans-46\"/>\r\n       <use x=\"159.033203\" xlink:href=\"#DejaVuSans-48\"/>\r\n       <use x=\"222.65625\" xlink:href=\"#DejaVuSans-48\"/>\r\n      </g>\r\n     </g>\r\n    </g>\r\n    <g id=\"text_15\">\r\n     <!-- Predicted House Price -->\r\n     <defs>\r\n      <path d=\"M 45.40625 46.390625 \r\nL 45.40625 75.984375 \r\nL 54.390625 75.984375 \r\nL 54.390625 0 \r\nL 45.40625 0 \r\nL 45.40625 8.203125 \r\nQ 42.578125 3.328125 38.25 0.953125 \r\nQ 33.9375 -1.421875 27.875 -1.421875 \r\nQ 17.96875 -1.421875 11.734375 6.484375 \r\nQ 5.515625 14.40625 5.515625 27.296875 \r\nQ 5.515625 40.1875 11.734375 48.09375 \r\nQ 17.96875 56 27.875 56 \r\nQ 33.9375 56 38.25 53.625 \r\nQ 42.578125 51.265625 45.40625 46.390625 \r\nz\r\nM 14.796875 27.296875 \r\nQ 14.796875 17.390625 18.875 11.75 \r\nQ 22.953125 6.109375 30.078125 6.109375 \r\nQ 37.203125 6.109375 41.296875 11.75 \r\nQ 45.40625 17.390625 45.40625 27.296875 \r\nQ 45.40625 37.203125 41.296875 42.84375 \r\nQ 37.203125 48.484375 30.078125 48.484375 \r\nQ 22.953125 48.484375 18.875 42.84375 \r\nQ 14.796875 37.203125 14.796875 27.296875 \r\nz\r\n\" id=\"DejaVuSans-100\"/>\r\n      <path d=\"M 18.3125 70.21875 \r\nL 18.3125 54.6875 \r\nL 36.8125 54.6875 \r\nL 36.8125 47.703125 \r\nL 18.3125 47.703125 \r\nL 18.3125 18.015625 \r\nQ 18.3125 11.328125 20.140625 9.421875 \r\nQ 21.96875 7.515625 27.59375 7.515625 \r\nL 36.8125 7.515625 \r\nL 36.8125 0 \r\nL 27.59375 0 \r\nQ 17.1875 0 13.234375 3.875 \r\nQ 9.28125 7.765625 9.28125 18.015625 \r\nL 9.28125 47.703125 \r\nL 2.6875 47.703125 \r\nL 2.6875 54.6875 \r\nL 9.28125 54.6875 \r\nL 9.28125 70.21875 \r\nz\r\n\" id=\"DejaVuSans-116\"/>\r\n     </defs>\r\n     <g transform=\"translate(14.798438 185.55375)rotate(-90)scale(0.1 -0.1)\">\r\n      <use xlink:href=\"#DejaVuSans-80\"/>\r\n      <use x=\"58.552734\" xlink:href=\"#DejaVuSans-114\"/>\r\n      <use x=\"97.416016\" xlink:href=\"#DejaVuSans-101\"/>\r\n      <use x=\"158.939453\" xlink:href=\"#DejaVuSans-100\"/>\r\n      <use x=\"222.416016\" xlink:href=\"#DejaVuSans-105\"/>\r\n      <use x=\"250.199219\" xlink:href=\"#DejaVuSans-99\"/>\r\n      <use x=\"305.179688\" xlink:href=\"#DejaVuSans-116\"/>\r\n      <use x=\"344.388672\" xlink:href=\"#DejaVuSans-101\"/>\r\n      <use x=\"405.912109\" xlink:href=\"#DejaVuSans-100\"/>\r\n      <use x=\"469.388672\" xlink:href=\"#DejaVuSans-32\"/>\r\n      <use x=\"501.175781\" xlink:href=\"#DejaVuSans-72\"/>\r\n      <use x=\"576.371094\" xlink:href=\"#DejaVuSans-111\"/>\r\n      <use x=\"637.552734\" xlink:href=\"#DejaVuSans-117\"/>\r\n      <use x=\"700.931641\" xlink:href=\"#DejaVuSans-115\"/>\r\n      <use x=\"753.03125\" xlink:href=\"#DejaVuSans-101\"/>\r\n      <use x=\"814.554688\" xlink:href=\"#DejaVuSans-32\"/>\r\n      <use x=\"846.341797\" xlink:href=\"#DejaVuSans-80\"/>\r\n      <use x=\"904.894531\" xlink:href=\"#DejaVuSans-114\"/>\r\n      <use x=\"946.007812\" xlink:href=\"#DejaVuSans-105\"/>\r\n      <use x=\"973.791016\" xlink:href=\"#DejaVuSans-99\"/>\r\n      <use x=\"1028.771484\" xlink:href=\"#DejaVuSans-101\"/>\r\n     </g>\r\n    </g>\r\n   </g>\r\n   <g id=\"patch_3\">\r\n    <path d=\"M 56.50625 239.758125 \r\nL 56.50625 22.318125 \r\n\" style=\"fill:none;stroke:#000000;stroke-linecap:square;stroke-linejoin:miter;stroke-width:0.8;\"/>\r\n   </g>\r\n   <g id=\"patch_4\">\r\n    <path d=\"M 391.30625 239.758125 \r\nL 391.30625 22.318125 \r\n\" style=\"fill:none;stroke:#000000;stroke-linecap:square;stroke-linejoin:miter;stroke-width:0.8;\"/>\r\n   </g>\r\n   <g id=\"patch_5\">\r\n    <path d=\"M 56.50625 239.758125 \r\nL 391.30625 239.758125 \r\n\" style=\"fill:none;stroke:#000000;stroke-linecap:square;stroke-linejoin:miter;stroke-width:0.8;\"/>\r\n   </g>\r\n   <g id=\"patch_6\">\r\n    <path d=\"M 56.50625 22.318125 \r\nL 391.30625 22.318125 \r\n\" style=\"fill:none;stroke:#000000;stroke-linecap:square;stroke-linejoin:miter;stroke-width:0.8;\"/>\r\n   </g>\r\n   <g id=\"text_16\">\r\n    <!-- Evaluation of Lasso Predictions -->\r\n    <defs>\r\n     <path d=\"M 9.8125 72.90625 \r\nL 55.90625 72.90625 \r\nL 55.90625 64.59375 \r\nL 19.671875 64.59375 \r\nL 19.671875 43.015625 \r\nL 54.390625 43.015625 \r\nL 54.390625 34.71875 \r\nL 19.671875 34.71875 \r\nL 19.671875 8.296875 \r\nL 56.78125 8.296875 \r\nL 56.78125 0 \r\nL 9.8125 0 \r\nz\r\n\" id=\"DejaVuSans-69\"/>\r\n     <path d=\"M 2.984375 54.6875 \r\nL 12.5 54.6875 \r\nL 29.59375 8.796875 \r\nL 46.6875 54.6875 \r\nL 56.203125 54.6875 \r\nL 35.6875 0 \r\nL 23.484375 0 \r\nz\r\n\" id=\"DejaVuSans-118\"/>\r\n     <path d=\"M 34.28125 27.484375 \r\nQ 23.390625 27.484375 19.1875 25 \r\nQ 14.984375 22.515625 14.984375 16.5 \r\nQ 14.984375 11.71875 18.140625 8.90625 \r\nQ 21.296875 6.109375 26.703125 6.109375 \r\nQ 34.1875 6.109375 38.703125 11.40625 \r\nQ 43.21875 16.703125 43.21875 25.484375 \r\nL 43.21875 27.484375 \r\nz\r\nM 52.203125 31.203125 \r\nL 52.203125 0 \r\nL 43.21875 0 \r\nL 43.21875 8.296875 \r\nQ 40.140625 3.328125 35.546875 0.953125 \r\nQ 30.953125 -1.421875 24.3125 -1.421875 \r\nQ 15.921875 -1.421875 10.953125 3.296875 \r\nQ 6 8.015625 6 15.921875 \r\nQ 6 25.140625 12.171875 29.828125 \r\nQ 18.359375 34.515625 30.609375 34.515625 \r\nL 43.21875 34.515625 \r\nL 43.21875 35.40625 \r\nQ 43.21875 41.609375 39.140625 45 \r\nQ 35.0625 48.390625 27.6875 48.390625 \r\nQ 23 48.390625 18.546875 47.265625 \r\nQ 14.109375 46.140625 10.015625 43.890625 \r\nL 10.015625 52.203125 \r\nQ 14.9375 54.109375 19.578125 55.046875 \r\nQ 24.21875 56 28.609375 56 \r\nQ 40.484375 56 46.34375 49.84375 \r\nQ 52.203125 43.703125 52.203125 31.203125 \r\nz\r\n\" id=\"DejaVuSans-97\"/>\r\n     <path d=\"M 9.421875 75.984375 \r\nL 18.40625 75.984375 \r\nL 18.40625 0 \r\nL 9.421875 0 \r\nz\r\n\" id=\"DejaVuSans-108\"/>\r\n     <path d=\"M 54.890625 33.015625 \r\nL 54.890625 0 \r\nL 45.90625 0 \r\nL 45.90625 32.71875 \r\nQ 45.90625 40.484375 42.875 44.328125 \r\nQ 39.84375 48.1875 33.796875 48.1875 \r\nQ 26.515625 48.1875 22.3125 43.546875 \r\nQ 18.109375 38.921875 18.109375 30.90625 \r\nL 18.109375 0 \r\nL 9.078125 0 \r\nL 9.078125 54.6875 \r\nL 18.109375 54.6875 \r\nL 18.109375 46.1875 \r\nQ 21.34375 51.125 25.703125 53.5625 \r\nQ 30.078125 56 35.796875 56 \r\nQ 45.21875 56 50.046875 50.171875 \r\nQ 54.890625 44.34375 54.890625 33.015625 \r\nz\r\n\" id=\"DejaVuSans-110\"/>\r\n     <path d=\"M 37.109375 75.984375 \r\nL 37.109375 68.5 \r\nL 28.515625 68.5 \r\nQ 23.6875 68.5 21.796875 66.546875 \r\nQ 19.921875 64.59375 19.921875 59.515625 \r\nL 19.921875 54.6875 \r\nL 34.71875 54.6875 \r\nL 34.71875 47.703125 \r\nL 19.921875 47.703125 \r\nL 19.921875 0 \r\nL 10.890625 0 \r\nL 10.890625 47.703125 \r\nL 2.296875 47.703125 \r\nL 2.296875 54.6875 \r\nL 10.890625 54.6875 \r\nL 10.890625 58.5 \r\nQ 10.890625 67.625 15.140625 71.796875 \r\nQ 19.390625 75.984375 28.609375 75.984375 \r\nz\r\n\" id=\"DejaVuSans-102\"/>\r\n     <path d=\"M 9.8125 72.90625 \r\nL 19.671875 72.90625 \r\nL 19.671875 8.296875 \r\nL 55.171875 8.296875 \r\nL 55.171875 0 \r\nL 9.8125 0 \r\nz\r\n\" id=\"DejaVuSans-76\"/>\r\n    </defs>\r\n    <g transform=\"translate(130.871563 16.318125)scale(0.12 -0.12)\">\r\n     <use xlink:href=\"#DejaVuSans-69\"/>\r\n     <use x=\"63.183594\" xlink:href=\"#DejaVuSans-118\"/>\r\n     <use x=\"122.363281\" xlink:href=\"#DejaVuSans-97\"/>\r\n     <use x=\"183.642578\" xlink:href=\"#DejaVuSans-108\"/>\r\n     <use x=\"211.425781\" xlink:href=\"#DejaVuSans-117\"/>\r\n     <use x=\"274.804688\" xlink:href=\"#DejaVuSans-97\"/>\r\n     <use x=\"336.083984\" xlink:href=\"#DejaVuSans-116\"/>\r\n     <use x=\"375.292969\" xlink:href=\"#DejaVuSans-105\"/>\r\n     <use x=\"403.076172\" xlink:href=\"#DejaVuSans-111\"/>\r\n     <use x=\"464.257812\" xlink:href=\"#DejaVuSans-110\"/>\r\n     <use x=\"527.636719\" xlink:href=\"#DejaVuSans-32\"/>\r\n     <use x=\"559.423828\" xlink:href=\"#DejaVuSans-111\"/>\r\n     <use x=\"620.605469\" xlink:href=\"#DejaVuSans-102\"/>\r\n     <use x=\"655.810547\" xlink:href=\"#DejaVuSans-32\"/>\r\n     <use x=\"687.597656\" xlink:href=\"#DejaVuSans-76\"/>\r\n     <use x=\"743.310547\" xlink:href=\"#DejaVuSans-97\"/>\r\n     <use x=\"804.589844\" xlink:href=\"#DejaVuSans-115\"/>\r\n     <use x=\"856.689453\" xlink:href=\"#DejaVuSans-115\"/>\r\n     <use x=\"908.789062\" xlink:href=\"#DejaVuSans-111\"/>\r\n     <use x=\"969.970703\" xlink:href=\"#DejaVuSans-32\"/>\r\n     <use x=\"1001.757812\" xlink:href=\"#DejaVuSans-80\"/>\r\n     <use x=\"1060.310547\" xlink:href=\"#DejaVuSans-114\"/>\r\n     <use x=\"1099.173828\" xlink:href=\"#DejaVuSans-101\"/>\r\n     <use x=\"1160.697266\" xlink:href=\"#DejaVuSans-100\"/>\r\n     <use x=\"1224.173828\" xlink:href=\"#DejaVuSans-105\"/>\r\n     <use x=\"1251.957031\" xlink:href=\"#DejaVuSans-99\"/>\r\n     <use x=\"1306.9375\" xlink:href=\"#DejaVuSans-116\"/>\r\n     <use x=\"1346.146484\" xlink:href=\"#DejaVuSans-105\"/>\r\n     <use x=\"1373.929688\" xlink:href=\"#DejaVuSans-111\"/>\r\n     <use x=\"1435.111328\" xlink:href=\"#DejaVuSans-110\"/>\r\n     <use x=\"1498.490234\" xlink:href=\"#DejaVuSans-115\"/>\r\n    </g>\r\n   </g>\r\n  </g>\r\n </g>\r\n <defs>\r\n  <clipPath id=\"p061e0111f7\">\r\n   <rect height=\"217.44\" width=\"334.8\" x=\"56.50625\" y=\"22.318125\"/>\r\n  </clipPath>\r\n </defs>\r\n</svg>\r\n",
      "image/png": "[encoded data removed]"
     },
     "metadata": {
      "needs_background": "light"
     }
    }
   ],
   "metadata": {
    "scrolled": true
   }
  },
  {
   "cell_type": "code",
   "execution_count": 12,
   "source": [
    "# let's evaluate the distribution of the errors: \r\n",
    "# they should be fairly normally distributed\r\n",
    "\r\n",
    "y_test.reset_index(drop=True, inplace=True)\r\n",
    "\r\n",
    "preds = pd.Series(price_pipe.predict(X_test))\r\n",
    "\r\n",
    "errors = y_test - preds\r\n",
    "errors.hist(bins=30)\r\n",
    "plt.show()"
   ],
   "outputs": [
    {
     "output_type": "display_data",
     "data": {
      "text/plain": [
       "<Figure size 432x288 with 1 Axes>"
      ],
      "image/svg+xml": "<?xml version=\"1.0\" encoding=\"utf-8\" standalone=\"no\"?>\r\n<!DOCTYPE svg PUBLIC \"-//W3C//DTD SVG 1.1//EN\"\r\n  \"http://www.w3.org/Graphics/SVG/1.1/DTD/svg11.dtd\">\r\n<!-- Created with matplotlib (https://matplotlib.org/) -->\r\n<svg height=\"248.518125pt\" version=\"1.1\" viewBox=\"0 0 368.925 248.518125\" width=\"368.925pt\" xmlns=\"http://www.w3.org/2000/svg\" xmlns:xlink=\"http://www.w3.org/1999/xlink\">\r\n <defs>\r\n  <style type=\"text/css\">\r\n*{stroke-linecap:butt;stroke-linejoin:round;}\r\n  </style>\r\n </defs>\r\n <g id=\"figure_1\">\r\n  <g id=\"patch_1\">\r\n   <path d=\"M -0 248.518125 \r\nL 368.925 248.518125 \r\nL 368.925 0 \r\nL -0 0 \r\nz\r\n\" style=\"fill:none;\"/>\r\n  </g>\r\n  <g id=\"axes_1\">\r\n   <g id=\"patch_2\">\r\n    <path d=\"M 26.925 224.64 \r\nL 361.725 224.64 \r\nL 361.725 7.2 \r\nL 26.925 7.2 \r\nz\r\n\" style=\"fill:#ffffff;\"/>\r\n   </g>\r\n   <g id=\"patch_3\">\r\n    <path clip-path=\"url(#p47eed539e5)\" d=\"M 42.143182 224.64 \r\nL 52.288636 224.64 \r\nL 52.288636 211.697143 \r\nL 42.143182 211.697143 \r\nz\r\n\" style=\"fill:#1f77b4;\"/>\r\n   </g>\r\n   <g id=\"patch_4\">\r\n    <path clip-path=\"url(#p47eed539e5)\" d=\"M 52.288636 224.64 \r\nL 62.434091 224.64 \r\nL 62.434091 224.64 \r\nL 52.288636 224.64 \r\nz\r\n\" style=\"fill:#1f77b4;\"/>\r\n   </g>\r\n   <g id=\"patch_5\">\r\n    <path clip-path=\"url(#p47eed539e5)\" d=\"M 62.434091 224.64 \r\nL 72.579545 224.64 \r\nL 72.579545 198.754286 \r\nL 62.434091 198.754286 \r\nz\r\n\" style=\"fill:#1f77b4;\"/>\r\n   </g>\r\n   <g id=\"patch_6\">\r\n    <path clip-path=\"url(#p47eed539e5)\" d=\"M 72.579545 224.64 \r\nL 82.725 224.64 \r\nL 82.725 224.64 \r\nL 72.579545 224.64 \r\nz\r\n\" style=\"fill:#1f77b4;\"/>\r\n   </g>\r\n   <g id=\"patch_7\">\r\n    <path clip-path=\"url(#p47eed539e5)\" d=\"M 82.725 224.64 \r\nL 92.870455 224.64 \r\nL 92.870455 211.697143 \r\nL 82.725 211.697143 \r\nz\r\n\" style=\"fill:#1f77b4;\"/>\r\n   </g>\r\n   <g id=\"patch_8\">\r\n    <path clip-path=\"url(#p47eed539e5)\" d=\"M 92.870455 224.64 \r\nL 103.015909 224.64 \r\nL 103.015909 159.925714 \r\nL 92.870455 159.925714 \r\nz\r\n\" style=\"fill:#1f77b4;\"/>\r\n   </g>\r\n   <g id=\"patch_9\">\r\n    <path clip-path=\"url(#p47eed539e5)\" d=\"M 103.015909 224.64 \r\nL 113.161364 224.64 \r\nL 113.161364 172.868571 \r\nL 103.015909 172.868571 \r\nz\r\n\" style=\"fill:#1f77b4;\"/>\r\n   </g>\r\n   <g id=\"patch_10\">\r\n    <path clip-path=\"url(#p47eed539e5)\" d=\"M 113.161364 224.64 \r\nL 123.306818 224.64 \r\nL 123.306818 146.982857 \r\nL 113.161364 146.982857 \r\nz\r\n\" style=\"fill:#1f77b4;\"/>\r\n   </g>\r\n   <g id=\"patch_11\">\r\n    <path clip-path=\"url(#p47eed539e5)\" d=\"M 123.306818 224.64 \r\nL 133.452273 224.64 \r\nL 133.452273 121.097143 \r\nL 123.306818 121.097143 \r\nz\r\n\" style=\"fill:#1f77b4;\"/>\r\n   </g>\r\n   <g id=\"patch_12\">\r\n    <path clip-path=\"url(#p47eed539e5)\" d=\"M 133.452273 224.64 \r\nL 143.597727 224.64 \r\nL 143.597727 121.097143 \r\nL 133.452273 121.097143 \r\nz\r\n\" style=\"fill:#1f77b4;\"/>\r\n   </g>\r\n   <g id=\"patch_13\">\r\n    <path clip-path=\"url(#p47eed539e5)\" d=\"M 143.597727 224.64 \r\nL 153.743182 224.64 \r\nL 153.743182 43.44 \r\nL 143.597727 43.44 \r\nz\r\n\" style=\"fill:#1f77b4;\"/>\r\n   </g>\r\n   <g id=\"patch_14\">\r\n    <path clip-path=\"url(#p47eed539e5)\" d=\"M 153.743182 224.64 \r\nL 163.888636 224.64 \r\nL 163.888636 17.554286 \r\nL 153.743182 17.554286 \r\nz\r\n\" style=\"fill:#1f77b4;\"/>\r\n   </g>\r\n   <g id=\"patch_15\">\r\n    <path clip-path=\"url(#p47eed539e5)\" d=\"M 163.888636 224.64 \r\nL 174.034091 224.64 \r\nL 174.034091 108.154286 \r\nL 163.888636 108.154286 \r\nz\r\n\" style=\"fill:#1f77b4;\"/>\r\n   </g>\r\n   <g id=\"patch_16\">\r\n    <path clip-path=\"url(#p47eed539e5)\" d=\"M 174.034091 224.64 \r\nL 184.179545 224.64 \r\nL 184.179545 82.268571 \r\nL 174.034091 82.268571 \r\nz\r\n\" style=\"fill:#1f77b4;\"/>\r\n   </g>\r\n   <g id=\"patch_17\">\r\n    <path clip-path=\"url(#p47eed539e5)\" d=\"M 184.179545 224.64 \r\nL 194.325 224.64 \r\nL 194.325 108.154286 \r\nL 184.179545 108.154286 \r\nz\r\n\" style=\"fill:#1f77b4;\"/>\r\n   </g>\r\n   <g id=\"patch_18\">\r\n    <path clip-path=\"url(#p47eed539e5)\" d=\"M 194.325 224.64 \r\nL 204.470455 224.64 \r\nL 204.470455 82.268571 \r\nL 194.325 82.268571 \r\nz\r\n\" style=\"fill:#1f77b4;\"/>\r\n   </g>\r\n   <g id=\"patch_19\">\r\n    <path clip-path=\"url(#p47eed539e5)\" d=\"M 204.470455 224.64 \r\nL 214.615909 224.64 \r\nL 214.615909 30.497143 \r\nL 204.470455 30.497143 \r\nz\r\n\" style=\"fill:#1f77b4;\"/>\r\n   </g>\r\n   <g id=\"patch_20\">\r\n    <path clip-path=\"url(#p47eed539e5)\" d=\"M 214.615909 224.64 \r\nL 224.761364 224.64 \r\nL 224.761364 108.154286 \r\nL 214.615909 108.154286 \r\nz\r\n\" style=\"fill:#1f77b4;\"/>\r\n   </g>\r\n   <g id=\"patch_21\">\r\n    <path clip-path=\"url(#p47eed539e5)\" d=\"M 224.761364 224.64 \r\nL 234.906818 224.64 \r\nL 234.906818 185.811429 \r\nL 224.761364 185.811429 \r\nz\r\n\" style=\"fill:#1f77b4;\"/>\r\n   </g>\r\n   <g id=\"patch_22\">\r\n    <path clip-path=\"url(#p47eed539e5)\" d=\"M 234.906818 224.64 \r\nL 245.052273 224.64 \r\nL 245.052273 172.868571 \r\nL 234.906818 172.868571 \r\nz\r\n\" style=\"fill:#1f77b4;\"/>\r\n   </g>\r\n   <g id=\"patch_23\">\r\n    <path clip-path=\"url(#p47eed539e5)\" d=\"M 245.052273 224.64 \r\nL 255.197727 224.64 \r\nL 255.197727 198.754286 \r\nL 245.052273 198.754286 \r\nz\r\n\" style=\"fill:#1f77b4;\"/>\r\n   </g>\r\n   <g id=\"patch_24\">\r\n    <path clip-path=\"url(#p47eed539e5)\" d=\"M 255.197727 224.64 \r\nL 265.343182 224.64 \r\nL 265.343182 185.811429 \r\nL 255.197727 185.811429 \r\nz\r\n\" style=\"fill:#1f77b4;\"/>\r\n   </g>\r\n   <g id=\"patch_25\">\r\n    <path clip-path=\"url(#p47eed539e5)\" d=\"M 265.343182 224.64 \r\nL 275.488636 224.64 \r\nL 275.488636 198.754286 \r\nL 265.343182 198.754286 \r\nz\r\n\" style=\"fill:#1f77b4;\"/>\r\n   </g>\r\n   <g id=\"patch_26\">\r\n    <path clip-path=\"url(#p47eed539e5)\" d=\"M 275.488636 224.64 \r\nL 285.634091 224.64 \r\nL 285.634091 224.64 \r\nL 275.488636 224.64 \r\nz\r\n\" style=\"fill:#1f77b4;\"/>\r\n   </g>\r\n   <g id=\"patch_27\">\r\n    <path clip-path=\"url(#p47eed539e5)\" d=\"M 285.634091 224.64 \r\nL 295.779545 224.64 \r\nL 295.779545 211.697143 \r\nL 285.634091 211.697143 \r\nz\r\n\" style=\"fill:#1f77b4;\"/>\r\n   </g>\r\n   <g id=\"patch_28\">\r\n    <path clip-path=\"url(#p47eed539e5)\" d=\"M 295.779545 224.64 \r\nL 305.925 224.64 \r\nL 305.925 224.64 \r\nL 295.779545 224.64 \r\nz\r\n\" style=\"fill:#1f77b4;\"/>\r\n   </g>\r\n   <g id=\"patch_29\">\r\n    <path clip-path=\"url(#p47eed539e5)\" d=\"M 305.925 224.64 \r\nL 316.070455 224.64 \r\nL 316.070455 224.64 \r\nL 305.925 224.64 \r\nz\r\n\" style=\"fill:#1f77b4;\"/>\r\n   </g>\r\n   <g id=\"patch_30\">\r\n    <path clip-path=\"url(#p47eed539e5)\" d=\"M 316.070455 224.64 \r\nL 326.215909 224.64 \r\nL 326.215909 224.64 \r\nL 316.070455 224.64 \r\nz\r\n\" style=\"fill:#1f77b4;\"/>\r\n   </g>\r\n   <g id=\"patch_31\">\r\n    <path clip-path=\"url(#p47eed539e5)\" d=\"M 326.215909 224.64 \r\nL 336.361364 224.64 \r\nL 336.361364 211.697143 \r\nL 326.215909 211.697143 \r\nz\r\n\" style=\"fill:#1f77b4;\"/>\r\n   </g>\r\n   <g id=\"patch_32\">\r\n    <path clip-path=\"url(#p47eed539e5)\" d=\"M 336.361364 224.64 \r\nL 346.506818 224.64 \r\nL 346.506818 211.697143 \r\nL 336.361364 211.697143 \r\nz\r\n\" style=\"fill:#1f77b4;\"/>\r\n   </g>\r\n   <g id=\"matplotlib.axis_1\">\r\n    <g id=\"xtick_1\">\r\n     <g id=\"line2d_1\">\r\n      <path clip-path=\"url(#p47eed539e5)\" d=\"M 52.045869 224.64 \r\nL 52.045869 7.2 \r\n\" style=\"fill:none;stroke:#b0b0b0;stroke-linecap:square;stroke-width:0.8;\"/>\r\n     </g>\r\n     <g id=\"line2d_2\">\r\n      <defs>\r\n       <path d=\"M 0 0 \r\nL 0 3.5 \r\n\" id=\"mdc08b9d1cf\" style=\"stroke:#000000;stroke-width:0.8;\"/>\r\n      </defs>\r\n      <g>\r\n       <use style=\"stroke:#000000;stroke-width:0.8;\" x=\"52.045869\" xlink:href=\"#mdc08b9d1cf\" y=\"224.64\"/>\r\n      </g>\r\n     </g>\r\n     <g id=\"text_1\">\r\n      <!-- −0.3 -->\r\n      <defs>\r\n       <path d=\"M 10.59375 35.5 \r\nL 73.1875 35.5 \r\nL 73.1875 27.203125 \r\nL 10.59375 27.203125 \r\nz\r\n\" id=\"DejaVuSans-8722\"/>\r\n       <path d=\"M 31.78125 66.40625 \r\nQ 24.171875 66.40625 20.328125 58.90625 \r\nQ 16.5 51.421875 16.5 36.375 \r\nQ 16.5 21.390625 20.328125 13.890625 \r\nQ 24.171875 6.390625 31.78125 6.390625 \r\nQ 39.453125 6.390625 43.28125 13.890625 \r\nQ 47.125 21.390625 47.125 36.375 \r\nQ 47.125 51.421875 43.28125 58.90625 \r\nQ 39.453125 66.40625 31.78125 66.40625 \r\nz\r\nM 31.78125 74.21875 \r\nQ 44.046875 74.21875 50.515625 64.515625 \r\nQ 56.984375 54.828125 56.984375 36.375 \r\nQ 56.984375 17.96875 50.515625 8.265625 \r\nQ 44.046875 -1.421875 31.78125 -1.421875 \r\nQ 19.53125 -1.421875 13.0625 8.265625 \r\nQ 6.59375 17.96875 6.59375 36.375 \r\nQ 6.59375 54.828125 13.0625 64.515625 \r\nQ 19.53125 74.21875 31.78125 74.21875 \r\nz\r\n\" id=\"DejaVuSans-48\"/>\r\n       <path d=\"M 10.6875 12.40625 \r\nL 21 12.40625 \r\nL 21 0 \r\nL 10.6875 0 \r\nz\r\n\" id=\"DejaVuSans-46\"/>\r\n       <path d=\"M 40.578125 39.3125 \r\nQ 47.65625 37.796875 51.625 33 \r\nQ 55.609375 28.21875 55.609375 21.1875 \r\nQ 55.609375 10.40625 48.1875 4.484375 \r\nQ 40.765625 -1.421875 27.09375 -1.421875 \r\nQ 22.515625 -1.421875 17.65625 -0.515625 \r\nQ 12.796875 0.390625 7.625 2.203125 \r\nL 7.625 11.71875 \r\nQ 11.71875 9.328125 16.59375 8.109375 \r\nQ 21.484375 6.890625 26.8125 6.890625 \r\nQ 36.078125 6.890625 40.9375 10.546875 \r\nQ 45.796875 14.203125 45.796875 21.1875 \r\nQ 45.796875 27.640625 41.28125 31.265625 \r\nQ 36.765625 34.90625 28.71875 34.90625 \r\nL 20.21875 34.90625 \r\nL 20.21875 43.015625 \r\nL 29.109375 43.015625 \r\nQ 36.375 43.015625 40.234375 45.921875 \r\nQ 44.09375 48.828125 44.09375 54.296875 \r\nQ 44.09375 59.90625 40.109375 62.90625 \r\nQ 36.140625 65.921875 28.71875 65.921875 \r\nQ 24.65625 65.921875 20.015625 65.03125 \r\nQ 15.375 64.15625 9.8125 62.3125 \r\nL 9.8125 71.09375 \r\nQ 15.4375 72.65625 20.34375 73.4375 \r\nQ 25.25 74.21875 29.59375 74.21875 \r\nQ 40.828125 74.21875 47.359375 69.109375 \r\nQ 53.90625 64.015625 53.90625 55.328125 \r\nQ 53.90625 49.265625 50.4375 45.09375 \r\nQ 46.96875 40.921875 40.578125 39.3125 \r\nz\r\n\" id=\"DejaVuSans-51\"/>\r\n      </defs>\r\n      <g transform=\"translate(39.904463 239.238437)scale(0.1 -0.1)\">\r\n       <use xlink:href=\"#DejaVuSans-8722\"/>\r\n       <use x=\"83.789062\" xlink:href=\"#DejaVuSans-48\"/>\r\n       <use x=\"147.412109\" xlink:href=\"#DejaVuSans-46\"/>\r\n       <use x=\"179.199219\" xlink:href=\"#DejaVuSans-51\"/>\r\n      </g>\r\n     </g>\r\n    </g>\r\n    <g id=\"xtick_2\">\r\n     <g id=\"line2d_3\">\r\n      <path clip-path=\"url(#p47eed539e5)\" d=\"M 91.456143 224.64 \r\nL 91.456143 7.2 \r\n\" style=\"fill:none;stroke:#b0b0b0;stroke-linecap:square;stroke-width:0.8;\"/>\r\n     </g>\r\n     <g id=\"line2d_4\">\r\n      <g>\r\n       <use style=\"stroke:#000000;stroke-width:0.8;\" x=\"91.456143\" xlink:href=\"#mdc08b9d1cf\" y=\"224.64\"/>\r\n      </g>\r\n     </g>\r\n     <g id=\"text_2\">\r\n      <!-- −0.2 -->\r\n      <defs>\r\n       <path d=\"M 19.1875 8.296875 \r\nL 53.609375 8.296875 \r\nL 53.609375 0 \r\nL 7.328125 0 \r\nL 7.328125 8.296875 \r\nQ 12.9375 14.109375 22.625 23.890625 \r\nQ 32.328125 33.6875 34.8125 36.53125 \r\nQ 39.546875 41.84375 41.421875 45.53125 \r\nQ 43.3125 49.21875 43.3125 52.78125 \r\nQ 43.3125 58.59375 39.234375 62.25 \r\nQ 35.15625 65.921875 28.609375 65.921875 \r\nQ 23.96875 65.921875 18.8125 64.3125 \r\nQ 13.671875 62.703125 7.8125 59.421875 \r\nL 7.8125 69.390625 \r\nQ 13.765625 71.78125 18.9375 73 \r\nQ 24.125 74.21875 28.421875 74.21875 \r\nQ 39.75 74.21875 46.484375 68.546875 \r\nQ 53.21875 62.890625 53.21875 53.421875 \r\nQ 53.21875 48.921875 51.53125 44.890625 \r\nQ 49.859375 40.875 45.40625 35.40625 \r\nQ 44.1875 33.984375 37.640625 27.21875 \r\nQ 31.109375 20.453125 19.1875 8.296875 \r\nz\r\n\" id=\"DejaVuSans-50\"/>\r\n      </defs>\r\n      <g transform=\"translate(79.314737 239.238437)scale(0.1 -0.1)\">\r\n       <use xlink:href=\"#DejaVuSans-8722\"/>\r\n       <use x=\"83.789062\" xlink:href=\"#DejaVuSans-48\"/>\r\n       <use x=\"147.412109\" xlink:href=\"#DejaVuSans-46\"/>\r\n       <use x=\"179.199219\" xlink:href=\"#DejaVuSans-50\"/>\r\n      </g>\r\n     </g>\r\n    </g>\r\n    <g id=\"xtick_3\">\r\n     <g id=\"line2d_5\">\r\n      <path clip-path=\"url(#p47eed539e5)\" d=\"M 130.866416 224.64 \r\nL 130.866416 7.2 \r\n\" style=\"fill:none;stroke:#b0b0b0;stroke-linecap:square;stroke-width:0.8;\"/>\r\n     </g>\r\n     <g id=\"line2d_6\">\r\n      <g>\r\n       <use style=\"stroke:#000000;stroke-width:0.8;\" x=\"130.866416\" xlink:href=\"#mdc08b9d1cf\" y=\"224.64\"/>\r\n      </g>\r\n     </g>\r\n     <g id=\"text_3\">\r\n      <!-- −0.1 -->\r\n      <defs>\r\n       <path d=\"M 12.40625 8.296875 \r\nL 28.515625 8.296875 \r\nL 28.515625 63.921875 \r\nL 10.984375 60.40625 \r\nL 10.984375 69.390625 \r\nL 28.421875 72.90625 \r\nL 38.28125 72.90625 \r\nL 38.28125 8.296875 \r\nL 54.390625 8.296875 \r\nL 54.390625 0 \r\nL 12.40625 0 \r\nz\r\n\" id=\"DejaVuSans-49\"/>\r\n      </defs>\r\n      <g transform=\"translate(118.72501 239.238437)scale(0.1 -0.1)\">\r\n       <use xlink:href=\"#DejaVuSans-8722\"/>\r\n       <use x=\"83.789062\" xlink:href=\"#DejaVuSans-48\"/>\r\n       <use x=\"147.412109\" xlink:href=\"#DejaVuSans-46\"/>\r\n       <use x=\"179.199219\" xlink:href=\"#DejaVuSans-49\"/>\r\n      </g>\r\n     </g>\r\n    </g>\r\n    <g id=\"xtick_4\">\r\n     <g id=\"line2d_7\">\r\n      <path clip-path=\"url(#p47eed539e5)\" d=\"M 170.27669 224.64 \r\nL 170.27669 7.2 \r\n\" style=\"fill:none;stroke:#b0b0b0;stroke-linecap:square;stroke-width:0.8;\"/>\r\n     </g>\r\n     <g id=\"line2d_8\">\r\n      <g>\r\n       <use style=\"stroke:#000000;stroke-width:0.8;\" x=\"170.27669\" xlink:href=\"#mdc08b9d1cf\" y=\"224.64\"/>\r\n      </g>\r\n     </g>\r\n     <g id=\"text_4\">\r\n      <!-- 0.0 -->\r\n      <g transform=\"translate(162.325127 239.238437)scale(0.1 -0.1)\">\r\n       <use xlink:href=\"#DejaVuSans-48\"/>\r\n       <use x=\"63.623047\" xlink:href=\"#DejaVuSans-46\"/>\r\n       <use x=\"95.410156\" xlink:href=\"#DejaVuSans-48\"/>\r\n      </g>\r\n     </g>\r\n    </g>\r\n    <g id=\"xtick_5\">\r\n     <g id=\"line2d_9\">\r\n      <path clip-path=\"url(#p47eed539e5)\" d=\"M 209.686964 224.64 \r\nL 209.686964 7.2 \r\n\" style=\"fill:none;stroke:#b0b0b0;stroke-linecap:square;stroke-width:0.8;\"/>\r\n     </g>\r\n     <g id=\"line2d_10\">\r\n      <g>\r\n       <use style=\"stroke:#000000;stroke-width:0.8;\" x=\"209.686964\" xlink:href=\"#mdc08b9d1cf\" y=\"224.64\"/>\r\n      </g>\r\n     </g>\r\n     <g id=\"text_5\">\r\n      <!-- 0.1 -->\r\n      <g transform=\"translate(201.735401 239.238437)scale(0.1 -0.1)\">\r\n       <use xlink:href=\"#DejaVuSans-48\"/>\r\n       <use x=\"63.623047\" xlink:href=\"#DejaVuSans-46\"/>\r\n       <use x=\"95.410156\" xlink:href=\"#DejaVuSans-49\"/>\r\n      </g>\r\n     </g>\r\n    </g>\r\n    <g id=\"xtick_6\">\r\n     <g id=\"line2d_11\">\r\n      <path clip-path=\"url(#p47eed539e5)\" d=\"M 249.097237 224.64 \r\nL 249.097237 7.2 \r\n\" style=\"fill:none;stroke:#b0b0b0;stroke-linecap:square;stroke-width:0.8;\"/>\r\n     </g>\r\n     <g id=\"line2d_12\">\r\n      <g>\r\n       <use style=\"stroke:#000000;stroke-width:0.8;\" x=\"249.097237\" xlink:href=\"#mdc08b9d1cf\" y=\"224.64\"/>\r\n      </g>\r\n     </g>\r\n     <g id=\"text_6\">\r\n      <!-- 0.2 -->\r\n      <g transform=\"translate(241.145675 239.238437)scale(0.1 -0.1)\">\r\n       <use xlink:href=\"#DejaVuSans-48\"/>\r\n       <use x=\"63.623047\" xlink:href=\"#DejaVuSans-46\"/>\r\n       <use x=\"95.410156\" xlink:href=\"#DejaVuSans-50\"/>\r\n      </g>\r\n     </g>\r\n    </g>\r\n    <g id=\"xtick_7\">\r\n     <g id=\"line2d_13\">\r\n      <path clip-path=\"url(#p47eed539e5)\" d=\"M 288.507511 224.64 \r\nL 288.507511 7.2 \r\n\" style=\"fill:none;stroke:#b0b0b0;stroke-linecap:square;stroke-width:0.8;\"/>\r\n     </g>\r\n     <g id=\"line2d_14\">\r\n      <g>\r\n       <use style=\"stroke:#000000;stroke-width:0.8;\" x=\"288.507511\" xlink:href=\"#mdc08b9d1cf\" y=\"224.64\"/>\r\n      </g>\r\n     </g>\r\n     <g id=\"text_7\">\r\n      <!-- 0.3 -->\r\n      <g transform=\"translate(280.555948 239.238437)scale(0.1 -0.1)\">\r\n       <use xlink:href=\"#DejaVuSans-48\"/>\r\n       <use x=\"63.623047\" xlink:href=\"#DejaVuSans-46\"/>\r\n       <use x=\"95.410156\" xlink:href=\"#DejaVuSans-51\"/>\r\n      </g>\r\n     </g>\r\n    </g>\r\n    <g id=\"xtick_8\">\r\n     <g id=\"line2d_15\">\r\n      <path clip-path=\"url(#p47eed539e5)\" d=\"M 327.917784 224.64 \r\nL 327.917784 7.2 \r\n\" style=\"fill:none;stroke:#b0b0b0;stroke-linecap:square;stroke-width:0.8;\"/>\r\n     </g>\r\n     <g id=\"line2d_16\">\r\n      <g>\r\n       <use style=\"stroke:#000000;stroke-width:0.8;\" x=\"327.917784\" xlink:href=\"#mdc08b9d1cf\" y=\"224.64\"/>\r\n      </g>\r\n     </g>\r\n     <g id=\"text_8\">\r\n      <!-- 0.4 -->\r\n      <defs>\r\n       <path d=\"M 37.796875 64.3125 \r\nL 12.890625 25.390625 \r\nL 37.796875 25.390625 \r\nz\r\nM 35.203125 72.90625 \r\nL 47.609375 72.90625 \r\nL 47.609375 25.390625 \r\nL 58.015625 25.390625 \r\nL 58.015625 17.1875 \r\nL 47.609375 17.1875 \r\nL 47.609375 0 \r\nL 37.796875 0 \r\nL 37.796875 17.1875 \r\nL 4.890625 17.1875 \r\nL 4.890625 26.703125 \r\nz\r\n\" id=\"DejaVuSans-52\"/>\r\n      </defs>\r\n      <g transform=\"translate(319.966222 239.238437)scale(0.1 -0.1)\">\r\n       <use xlink:href=\"#DejaVuSans-48\"/>\r\n       <use x=\"63.623047\" xlink:href=\"#DejaVuSans-46\"/>\r\n       <use x=\"95.410156\" xlink:href=\"#DejaVuSans-52\"/>\r\n      </g>\r\n     </g>\r\n    </g>\r\n   </g>\r\n   <g id=\"matplotlib.axis_2\">\r\n    <g id=\"ytick_1\">\r\n     <g id=\"line2d_17\">\r\n      <path clip-path=\"url(#p47eed539e5)\" d=\"M 26.925 224.64 \r\nL 361.725 224.64 \r\n\" style=\"fill:none;stroke:#b0b0b0;stroke-linecap:square;stroke-width:0.8;\"/>\r\n     </g>\r\n     <g id=\"line2d_18\">\r\n      <defs>\r\n       <path d=\"M 0 0 \r\nL -3.5 0 \r\n\" id=\"m55e4541bd3\" style=\"stroke:#000000;stroke-width:0.8;\"/>\r\n      </defs>\r\n      <g>\r\n       <use style=\"stroke:#000000;stroke-width:0.8;\" x=\"26.925\" xlink:href=\"#m55e4541bd3\" y=\"224.64\"/>\r\n      </g>\r\n     </g>\r\n     <g id=\"text_9\">\r\n      <!-- 0 -->\r\n      <g transform=\"translate(13.5625 228.439219)scale(0.1 -0.1)\">\r\n       <use xlink:href=\"#DejaVuSans-48\"/>\r\n      </g>\r\n     </g>\r\n    </g>\r\n    <g id=\"ytick_2\">\r\n     <g id=\"line2d_19\">\r\n      <path clip-path=\"url(#p47eed539e5)\" d=\"M 26.925 198.754286 \r\nL 361.725 198.754286 \r\n\" style=\"fill:none;stroke:#b0b0b0;stroke-linecap:square;stroke-width:0.8;\"/>\r\n     </g>\r\n     <g id=\"line2d_20\">\r\n      <g>\r\n       <use style=\"stroke:#000000;stroke-width:0.8;\" x=\"26.925\" xlink:href=\"#m55e4541bd3\" y=\"198.754286\"/>\r\n      </g>\r\n     </g>\r\n     <g id=\"text_10\">\r\n      <!-- 2 -->\r\n      <g transform=\"translate(13.5625 202.553504)scale(0.1 -0.1)\">\r\n       <use xlink:href=\"#DejaVuSans-50\"/>\r\n      </g>\r\n     </g>\r\n    </g>\r\n    <g id=\"ytick_3\">\r\n     <g id=\"line2d_21\">\r\n      <path clip-path=\"url(#p47eed539e5)\" d=\"M 26.925 172.868571 \r\nL 361.725 172.868571 \r\n\" style=\"fill:none;stroke:#b0b0b0;stroke-linecap:square;stroke-width:0.8;\"/>\r\n     </g>\r\n     <g id=\"line2d_22\">\r\n      <g>\r\n       <use style=\"stroke:#000000;stroke-width:0.8;\" x=\"26.925\" xlink:href=\"#m55e4541bd3\" y=\"172.868571\"/>\r\n      </g>\r\n     </g>\r\n     <g id=\"text_11\">\r\n      <!-- 4 -->\r\n      <g transform=\"translate(13.5625 176.66779)scale(0.1 -0.1)\">\r\n       <use xlink:href=\"#DejaVuSans-52\"/>\r\n      </g>\r\n     </g>\r\n    </g>\r\n    <g id=\"ytick_4\">\r\n     <g id=\"line2d_23\">\r\n      <path clip-path=\"url(#p47eed539e5)\" d=\"M 26.925 146.982857 \r\nL 361.725 146.982857 \r\n\" style=\"fill:none;stroke:#b0b0b0;stroke-linecap:square;stroke-width:0.8;\"/>\r\n     </g>\r\n     <g id=\"line2d_24\">\r\n      <g>\r\n       <use style=\"stroke:#000000;stroke-width:0.8;\" x=\"26.925\" xlink:href=\"#m55e4541bd3\" y=\"146.982857\"/>\r\n      </g>\r\n     </g>\r\n     <g id=\"text_12\">\r\n      <!-- 6 -->\r\n      <defs>\r\n       <path d=\"M 33.015625 40.375 \r\nQ 26.375 40.375 22.484375 35.828125 \r\nQ 18.609375 31.296875 18.609375 23.390625 \r\nQ 18.609375 15.53125 22.484375 10.953125 \r\nQ 26.375 6.390625 33.015625 6.390625 \r\nQ 39.65625 6.390625 43.53125 10.953125 \r\nQ 47.40625 15.53125 47.40625 23.390625 \r\nQ 47.40625 31.296875 43.53125 35.828125 \r\nQ 39.65625 40.375 33.015625 40.375 \r\nz\r\nM 52.59375 71.296875 \r\nL 52.59375 62.3125 \r\nQ 48.875 64.0625 45.09375 64.984375 \r\nQ 41.3125 65.921875 37.59375 65.921875 \r\nQ 27.828125 65.921875 22.671875 59.328125 \r\nQ 17.53125 52.734375 16.796875 39.40625 \r\nQ 19.671875 43.65625 24.015625 45.921875 \r\nQ 28.375 48.1875 33.59375 48.1875 \r\nQ 44.578125 48.1875 50.953125 41.515625 \r\nQ 57.328125 34.859375 57.328125 23.390625 \r\nQ 57.328125 12.15625 50.6875 5.359375 \r\nQ 44.046875 -1.421875 33.015625 -1.421875 \r\nQ 20.359375 -1.421875 13.671875 8.265625 \r\nQ 6.984375 17.96875 6.984375 36.375 \r\nQ 6.984375 53.65625 15.1875 63.9375 \r\nQ 23.390625 74.21875 37.203125 74.21875 \r\nQ 40.921875 74.21875 44.703125 73.484375 \r\nQ 48.484375 72.75 52.59375 71.296875 \r\nz\r\n\" id=\"DejaVuSans-54\"/>\r\n      </defs>\r\n      <g transform=\"translate(13.5625 150.782076)scale(0.1 -0.1)\">\r\n       <use xlink:href=\"#DejaVuSans-54\"/>\r\n      </g>\r\n     </g>\r\n    </g>\r\n    <g id=\"ytick_5\">\r\n     <g id=\"line2d_25\">\r\n      <path clip-path=\"url(#p47eed539e5)\" d=\"M 26.925 121.097143 \r\nL 361.725 121.097143 \r\n\" style=\"fill:none;stroke:#b0b0b0;stroke-linecap:square;stroke-width:0.8;\"/>\r\n     </g>\r\n     <g id=\"line2d_26\">\r\n      <g>\r\n       <use style=\"stroke:#000000;stroke-width:0.8;\" x=\"26.925\" xlink:href=\"#m55e4541bd3\" y=\"121.097143\"/>\r\n      </g>\r\n     </g>\r\n     <g id=\"text_13\">\r\n      <!-- 8 -->\r\n      <defs>\r\n       <path d=\"M 31.78125 34.625 \r\nQ 24.75 34.625 20.71875 30.859375 \r\nQ 16.703125 27.09375 16.703125 20.515625 \r\nQ 16.703125 13.921875 20.71875 10.15625 \r\nQ 24.75 6.390625 31.78125 6.390625 \r\nQ 38.8125 6.390625 42.859375 10.171875 \r\nQ 46.921875 13.96875 46.921875 20.515625 \r\nQ 46.921875 27.09375 42.890625 30.859375 \r\nQ 38.875 34.625 31.78125 34.625 \r\nz\r\nM 21.921875 38.8125 \r\nQ 15.578125 40.375 12.03125 44.71875 \r\nQ 8.5 49.078125 8.5 55.328125 \r\nQ 8.5 64.0625 14.71875 69.140625 \r\nQ 20.953125 74.21875 31.78125 74.21875 \r\nQ 42.671875 74.21875 48.875 69.140625 \r\nQ 55.078125 64.0625 55.078125 55.328125 \r\nQ 55.078125 49.078125 51.53125 44.71875 \r\nQ 48 40.375 41.703125 38.8125 \r\nQ 48.828125 37.15625 52.796875 32.3125 \r\nQ 56.78125 27.484375 56.78125 20.515625 \r\nQ 56.78125 9.90625 50.3125 4.234375 \r\nQ 43.84375 -1.421875 31.78125 -1.421875 \r\nQ 19.734375 -1.421875 13.25 4.234375 \r\nQ 6.78125 9.90625 6.78125 20.515625 \r\nQ 6.78125 27.484375 10.78125 32.3125 \r\nQ 14.796875 37.15625 21.921875 38.8125 \r\nz\r\nM 18.3125 54.390625 \r\nQ 18.3125 48.734375 21.84375 45.5625 \r\nQ 25.390625 42.390625 31.78125 42.390625 \r\nQ 38.140625 42.390625 41.71875 45.5625 \r\nQ 45.3125 48.734375 45.3125 54.390625 \r\nQ 45.3125 60.0625 41.71875 63.234375 \r\nQ 38.140625 66.40625 31.78125 66.40625 \r\nQ 25.390625 66.40625 21.84375 63.234375 \r\nQ 18.3125 60.0625 18.3125 54.390625 \r\nz\r\n\" id=\"DejaVuSans-56\"/>\r\n      </defs>\r\n      <g transform=\"translate(13.5625 124.896362)scale(0.1 -0.1)\">\r\n       <use xlink:href=\"#DejaVuSans-56\"/>\r\n      </g>\r\n     </g>\r\n    </g>\r\n    <g id=\"ytick_6\">\r\n     <g id=\"line2d_27\">\r\n      <path clip-path=\"url(#p47eed539e5)\" d=\"M 26.925 95.211429 \r\nL 361.725 95.211429 \r\n\" style=\"fill:none;stroke:#b0b0b0;stroke-linecap:square;stroke-width:0.8;\"/>\r\n     </g>\r\n     <g id=\"line2d_28\">\r\n      <g>\r\n       <use style=\"stroke:#000000;stroke-width:0.8;\" x=\"26.925\" xlink:href=\"#m55e4541bd3\" y=\"95.211429\"/>\r\n      </g>\r\n     </g>\r\n     <g id=\"text_14\">\r\n      <!-- 10 -->\r\n      <g transform=\"translate(7.2 99.010647)scale(0.1 -0.1)\">\r\n       <use xlink:href=\"#DejaVuSans-49\"/>\r\n       <use x=\"63.623047\" xlink:href=\"#DejaVuSans-48\"/>\r\n      </g>\r\n     </g>\r\n    </g>\r\n    <g id=\"ytick_7\">\r\n     <g id=\"line2d_29\">\r\n      <path clip-path=\"url(#p47eed539e5)\" d=\"M 26.925 69.325714 \r\nL 361.725 69.325714 \r\n\" style=\"fill:none;stroke:#b0b0b0;stroke-linecap:square;stroke-width:0.8;\"/>\r\n     </g>\r\n     <g id=\"line2d_30\">\r\n      <g>\r\n       <use style=\"stroke:#000000;stroke-width:0.8;\" x=\"26.925\" xlink:href=\"#m55e4541bd3\" y=\"69.325714\"/>\r\n      </g>\r\n     </g>\r\n     <g id=\"text_15\">\r\n      <!-- 12 -->\r\n      <g transform=\"translate(7.2 73.124933)scale(0.1 -0.1)\">\r\n       <use xlink:href=\"#DejaVuSans-49\"/>\r\n       <use x=\"63.623047\" xlink:href=\"#DejaVuSans-50\"/>\r\n      </g>\r\n     </g>\r\n    </g>\r\n    <g id=\"ytick_8\">\r\n     <g id=\"line2d_31\">\r\n      <path clip-path=\"url(#p47eed539e5)\" d=\"M 26.925 43.44 \r\nL 361.725 43.44 \r\n\" style=\"fill:none;stroke:#b0b0b0;stroke-linecap:square;stroke-width:0.8;\"/>\r\n     </g>\r\n     <g id=\"line2d_32\">\r\n      <g>\r\n       <use style=\"stroke:#000000;stroke-width:0.8;\" x=\"26.925\" xlink:href=\"#m55e4541bd3\" y=\"43.44\"/>\r\n      </g>\r\n     </g>\r\n     <g id=\"text_16\">\r\n      <!-- 14 -->\r\n      <g transform=\"translate(7.2 47.239219)scale(0.1 -0.1)\">\r\n       <use xlink:href=\"#DejaVuSans-49\"/>\r\n       <use x=\"63.623047\" xlink:href=\"#DejaVuSans-52\"/>\r\n      </g>\r\n     </g>\r\n    </g>\r\n    <g id=\"ytick_9\">\r\n     <g id=\"line2d_33\">\r\n      <path clip-path=\"url(#p47eed539e5)\" d=\"M 26.925 17.554286 \r\nL 361.725 17.554286 \r\n\" style=\"fill:none;stroke:#b0b0b0;stroke-linecap:square;stroke-width:0.8;\"/>\r\n     </g>\r\n     <g id=\"line2d_34\">\r\n      <g>\r\n       <use style=\"stroke:#000000;stroke-width:0.8;\" x=\"26.925\" xlink:href=\"#m55e4541bd3\" y=\"17.554286\"/>\r\n      </g>\r\n     </g>\r\n     <g id=\"text_17\">\r\n      <!-- 16 -->\r\n      <g transform=\"translate(7.2 21.353504)scale(0.1 -0.1)\">\r\n       <use xlink:href=\"#DejaVuSans-49\"/>\r\n       <use x=\"63.623047\" xlink:href=\"#DejaVuSans-54\"/>\r\n      </g>\r\n     </g>\r\n    </g>\r\n   </g>\r\n   <g id=\"patch_33\">\r\n    <path d=\"M 26.925 224.64 \r\nL 26.925 7.2 \r\n\" style=\"fill:none;stroke:#000000;stroke-linecap:square;stroke-linejoin:miter;stroke-width:0.8;\"/>\r\n   </g>\r\n   <g id=\"patch_34\">\r\n    <path d=\"M 361.725 224.64 \r\nL 361.725 7.2 \r\n\" style=\"fill:none;stroke:#000000;stroke-linecap:square;stroke-linejoin:miter;stroke-width:0.8;\"/>\r\n   </g>\r\n   <g id=\"patch_35\">\r\n    <path d=\"M 26.925 224.64 \r\nL 361.725 224.64 \r\n\" style=\"fill:none;stroke:#000000;stroke-linecap:square;stroke-linejoin:miter;stroke-width:0.8;\"/>\r\n   </g>\r\n   <g id=\"patch_36\">\r\n    <path d=\"M 26.925 7.2 \r\nL 361.725 7.2 \r\n\" style=\"fill:none;stroke:#000000;stroke-linecap:square;stroke-linejoin:miter;stroke-width:0.8;\"/>\r\n   </g>\r\n  </g>\r\n </g>\r\n <defs>\r\n  <clipPath id=\"p47eed539e5\">\r\n   <rect height=\"217.44\" width=\"334.8\" x=\"26.925\" y=\"7.2\"/>\r\n  </clipPath>\r\n </defs>\r\n</svg>\r\n",
      "image/png": "[encoded data removed]"
     },
     "metadata": {
      "needs_background": "light"
     }
    }
   ],
   "metadata": {}
  },
  {
   "cell_type": "code",
   "execution_count": 13,
   "source": [
    "# now let's save the scaler\r\n",
    "\r\n",
    "joblib.dump(price_pipe, 'price_pipe.joblib') "
   ],
   "outputs": [
    {
     "output_type": "execute_result",
     "data": {
      "text/plain": [
       "['price_pipe.joblib']"
      ]
     },
     "metadata": {},
     "execution_count": 13
    }
   ],
   "metadata": {}
  },
  {
   "cell_type": "markdown",
   "source": [
    "# Score new data"
   ],
   "metadata": {}
  },
  {
   "cell_type": "code",
   "execution_count": 14,
   "source": [
    "# load the unseen / new dataset\r\n",
    "data = pd.read_csv('test.csv')\r\n",
    "\r\n",
    "data.drop('Id', axis=1, inplace=True)\r\n",
    "\r\n",
    "data['MSSubClass'] = data['MSSubClass'].astype('O')\r\n",
    "\r\n",
    "data = data[FEATURES]\r\n",
    "\r\n",
    "print(data.shape)"
   ],
   "outputs": [
    {
     "output_type": "stream",
     "name": "stdout",
     "text": [
      "(1459, 37)\n"
     ]
    }
   ],
   "metadata": {}
  },
  {
   "cell_type": "code",
   "execution_count": 15,
   "source": [
    "new_vars_with_na = [\r\n",
    "    var for var in FEATURES\r\n",
    "    if var not in CATEGORICAL_VARS_WITH_NA_FREQUENT +\r\n",
    "    CATEGORICAL_VARS_WITH_NA_MISSING +\r\n",
    "    NUMERICAL_VARS_WITH_NA\r\n",
    "    and data[var].isnull().sum() > 0]\r\n",
    "\r\n",
    "new_vars_with_na"
   ],
   "outputs": [
    {
     "output_type": "execute_result",
     "data": {
      "text/plain": [
       "['MSZoning',\n",
       " 'Exterior1st',\n",
       " 'BsmtFullBath',\n",
       " 'KitchenQual',\n",
       " 'Functional',\n",
       " 'GarageCars',\n",
       " 'GarageArea']"
      ]
     },
     "metadata": {},
     "execution_count": 15
    }
   ],
   "metadata": {}
  },
  {
   "cell_type": "code",
   "execution_count": 16,
   "source": [
    "data[new_vars_with_na].head()"
   ],
   "outputs": [
    {
     "output_type": "execute_result",
     "data": {
      "text/plain": [
       "  MSZoning Exterior1st  BsmtFullBath KitchenQual Functional  GarageCars  \\\n",
       "0       RH     VinylSd           0.0          TA        Typ         1.0   \n",
       "1       RL     Wd Sdng           0.0          Gd        Typ         1.0   \n",
       "2       RL     VinylSd           0.0          TA        Typ         2.0   \n",
       "3       RL     VinylSd           0.0          Gd        Typ         2.0   \n",
       "4       RL     HdBoard           0.0          Gd        Typ         2.0   \n",
       "\n",
       "   GarageArea  \n",
       "0       730.0  \n",
       "1       312.0  \n",
       "2       482.0  \n",
       "3       470.0  \n",
       "4       506.0  "
      ],
      "text/html": [
       "<div>\n",
       "<style scoped>\n",
       "    .dataframe tbody tr th:only-of-type {\n",
       "        vertical-align: middle;\n",
       "    }\n",
       "\n",
       "    .dataframe tbody tr th {\n",
       "        vertical-align: top;\n",
       "    }\n",
       "\n",
       "    .dataframe thead th {\n",
       "        text-align: right;\n",
       "    }\n",
       "</style>\n",
       "<table border=\"1\" class=\"dataframe\">\n",
       "  <thead>\n",
       "    <tr style=\"text-align: right;\">\n",
       "      <th></th>\n",
       "      <th>MSZoning</th>\n",
       "      <th>Exterior1st</th>\n",
       "      <th>BsmtFullBath</th>\n",
       "      <th>KitchenQual</th>\n",
       "      <th>Functional</th>\n",
       "      <th>GarageCars</th>\n",
       "      <th>GarageArea</th>\n",
       "    </tr>\n",
       "  </thead>\n",
       "  <tbody>\n",
       "    <tr>\n",
       "      <th>0</th>\n",
       "      <td>RH</td>\n",
       "      <td>VinylSd</td>\n",
       "      <td>0.0</td>\n",
       "      <td>TA</td>\n",
       "      <td>Typ</td>\n",
       "      <td>1.0</td>\n",
       "      <td>730.0</td>\n",
       "    </tr>\n",
       "    <tr>\n",
       "      <th>1</th>\n",
       "      <td>RL</td>\n",
       "      <td>Wd Sdng</td>\n",
       "      <td>0.0</td>\n",
       "      <td>Gd</td>\n",
       "      <td>Typ</td>\n",
       "      <td>1.0</td>\n",
       "      <td>312.0</td>\n",
       "    </tr>\n",
       "    <tr>\n",
       "      <th>2</th>\n",
       "      <td>RL</td>\n",
       "      <td>VinylSd</td>\n",
       "      <td>0.0</td>\n",
       "      <td>TA</td>\n",
       "      <td>Typ</td>\n",
       "      <td>2.0</td>\n",
       "      <td>482.0</td>\n",
       "    </tr>\n",
       "    <tr>\n",
       "      <th>3</th>\n",
       "      <td>RL</td>\n",
       "      <td>VinylSd</td>\n",
       "      <td>0.0</td>\n",
       "      <td>Gd</td>\n",
       "      <td>Typ</td>\n",
       "      <td>2.0</td>\n",
       "      <td>470.0</td>\n",
       "    </tr>\n",
       "    <tr>\n",
       "      <th>4</th>\n",
       "      <td>RL</td>\n",
       "      <td>HdBoard</td>\n",
       "      <td>0.0</td>\n",
       "      <td>Gd</td>\n",
       "      <td>Typ</td>\n",
       "      <td>2.0</td>\n",
       "      <td>506.0</td>\n",
       "    </tr>\n",
       "  </tbody>\n",
       "</table>\n",
       "</div>"
      ]
     },
     "metadata": {},
     "execution_count": 16
    }
   ],
   "metadata": {}
  },
  {
   "cell_type": "code",
   "execution_count": 17,
   "source": [
    "data[new_vars_with_na].isnull().mean()"
   ],
   "outputs": [
    {
     "output_type": "execute_result",
     "data": {
      "text/plain": [
       "MSZoning        0.002742\n",
       "Exterior1st     0.000685\n",
       "BsmtFullBath    0.001371\n",
       "KitchenQual     0.000685\n",
       "Functional      0.001371\n",
       "GarageCars      0.000685\n",
       "GarageArea      0.000685\n",
       "dtype: float64"
      ]
     },
     "metadata": {},
     "execution_count": 17
    }
   ],
   "metadata": {}
  },
  {
   "cell_type": "code",
   "execution_count": 18,
   "source": [
    "data.dropna(subset=new_vars_with_na, inplace=True)\r\n",
    "\r\n",
    "print(data.shape)"
   ],
   "outputs": [
    {
     "output_type": "stream",
     "name": "stdout",
     "text": [
      "(1449, 37)\n"
     ]
    }
   ],
   "metadata": {}
  },
  {
   "cell_type": "code",
   "execution_count": 19,
   "source": [
    "new_preds = price_pipe.predict(data)"
   ],
   "outputs": [],
   "metadata": {}
  },
  {
   "cell_type": "code",
   "execution_count": 20,
   "source": [
    "# let's plot the predicted sale prices\r\n",
    "pd.Series(np.exp(new_preds)).hist(bins=50)"
   ],
   "outputs": [
    {
     "output_type": "execute_result",
     "data": {
      "text/plain": [
       "<matplotlib.axes._subplots.AxesSubplot at 0x21ce2f00588>"
      ]
     },
     "metadata": {},
     "execution_count": 20
    },
    {
     "output_type": "display_data",
     "data": {
      "text/plain": [
       "<Figure size 432x288 with 1 Axes>"
      ],
      "image/svg+xml": "<?xml version=\"1.0\" encoding=\"utf-8\" standalone=\"no\"?>\r\n<!DOCTYPE svg PUBLIC \"-//W3C//DTD SVG 1.1//EN\"\r\n  \"http://www.w3.org/Graphics/SVG/1.1/DTD/svg11.dtd\">\r\n<!-- Created with matplotlib (https://matplotlib.org/) -->\r\n<svg height=\"248.518125pt\" version=\"1.1\" viewBox=\"0 0 375.2875 248.518125\" width=\"375.2875pt\" xmlns=\"http://www.w3.org/2000/svg\" xmlns:xlink=\"http://www.w3.org/1999/xlink\">\r\n <defs>\r\n  <style type=\"text/css\">\r\n*{stroke-linecap:butt;stroke-linejoin:round;}\r\n  </style>\r\n </defs>\r\n <g id=\"figure_1\">\r\n  <g id=\"patch_1\">\r\n   <path d=\"M 0 248.518125 \r\nL 375.2875 248.518125 \r\nL 375.2875 0 \r\nL 0 0 \r\nz\r\n\" style=\"fill:none;\"/>\r\n  </g>\r\n  <g id=\"axes_1\">\r\n   <g id=\"patch_2\">\r\n    <path d=\"M 33.2875 224.64 \r\nL 368.0875 224.64 \r\nL 368.0875 7.2 \r\nL 33.2875 7.2 \r\nz\r\n\" style=\"fill:#ffffff;\"/>\r\n   </g>\r\n   <g id=\"patch_3\">\r\n    <path clip-path=\"url(#p35b415683f)\" d=\"M 48.505682 224.64 \r\nL 54.592955 224.64 \r\nL 54.592955 209.156956 \r\nL 48.505682 209.156956 \r\nz\r\n\" style=\"fill:#1f77b4;\"/>\r\n   </g>\r\n   <g id=\"patch_4\">\r\n    <path clip-path=\"url(#p35b415683f)\" d=\"M 54.592955 224.64 \r\nL 60.680227 224.64 \r\nL 60.680227 203.350814 \r\nL 54.592955 203.350814 \r\nz\r\n\" style=\"fill:#1f77b4;\"/>\r\n   </g>\r\n   <g id=\"patch_5\">\r\n    <path clip-path=\"url(#p35b415683f)\" d=\"M 60.680227 224.64 \r\nL 66.7675 224.64 \r\nL 66.7675 205.286195 \r\nL 60.680227 205.286195 \r\nz\r\n\" style=\"fill:#1f77b4;\"/>\r\n   </g>\r\n   <g id=\"patch_6\">\r\n    <path clip-path=\"url(#p35b415683f)\" d=\"M 66.7675 224.64 \r\nL 72.854773 224.64 \r\nL 72.854773 170.449346 \r\nL 66.7675 170.449346 \r\nz\r\n\" style=\"fill:#1f77b4;\"/>\r\n   </g>\r\n   <g id=\"patch_7\">\r\n    <path clip-path=\"url(#p35b415683f)\" d=\"M 72.854773 224.64 \r\nL 78.942045 224.64 \r\nL 78.942045 139.483258 \r\nL 72.854773 139.483258 \r\nz\r\n\" style=\"fill:#1f77b4;\"/>\r\n   </g>\r\n   <g id=\"patch_8\">\r\n    <path clip-path=\"url(#p35b415683f)\" d=\"M 78.942045 224.64 \r\nL 85.029318 224.64 \r\nL 85.029318 114.323311 \r\nL 78.942045 114.323311 \r\nz\r\n\" style=\"fill:#1f77b4;\"/>\r\n   </g>\r\n   <g id=\"patch_9\">\r\n    <path clip-path=\"url(#p35b415683f)\" d=\"M 85.029318 224.64 \r\nL 91.116591 224.64 \r\nL 91.116591 77.551081 \r\nL 85.029318 77.551081 \r\nz\r\n\" style=\"fill:#1f77b4;\"/>\r\n   </g>\r\n   <g id=\"patch_10\">\r\n    <path clip-path=\"url(#p35b415683f)\" d=\"M 91.116591 224.64 \r\nL 97.203864 224.64 \r\nL 97.203864 17.554286 \r\nL 91.116591 17.554286 \r\nz\r\n\" style=\"fill:#1f77b4;\"/>\r\n   </g>\r\n   <g id=\"patch_11\">\r\n    <path clip-path=\"url(#p35b415683f)\" d=\"M 97.203864 224.64 \r\nL 103.291136 224.64 \r\nL 103.291136 23.360427 \r\nL 97.203864 23.360427 \r\nz\r\n\" style=\"fill:#1f77b4;\"/>\r\n   </g>\r\n   <g id=\"patch_12\">\r\n    <path clip-path=\"url(#p35b415683f)\" d=\"M 103.291136 224.64 \r\nL 109.378409 224.64 \r\nL 109.378409 25.295808 \r\nL 103.291136 25.295808 \r\nz\r\n\" style=\"fill:#1f77b4;\"/>\r\n   </g>\r\n   <g id=\"patch_13\">\r\n    <path clip-path=\"url(#p35b415683f)\" d=\"M 109.378409 224.64 \r\nL 115.465682 224.64 \r\nL 115.465682 17.554286 \r\nL 109.378409 17.554286 \r\nz\r\n\" style=\"fill:#1f77b4;\"/>\r\n   </g>\r\n   <g id=\"patch_14\">\r\n    <path clip-path=\"url(#p35b415683f)\" d=\"M 115.465682 224.64 \r\nL 121.552955 224.64 \r\nL 121.552955 67.874179 \r\nL 115.465682 67.874179 \r\nz\r\n\" style=\"fill:#1f77b4;\"/>\r\n   </g>\r\n   <g id=\"patch_15\">\r\n    <path clip-path=\"url(#p35b415683f)\" d=\"M 121.552955 224.64 \r\nL 127.640227 224.64 \r\nL 127.640227 108.51717 \r\nL 121.552955 108.51717 \r\nz\r\n\" style=\"fill:#1f77b4;\"/>\r\n   </g>\r\n   <g id=\"patch_16\">\r\n    <path clip-path=\"url(#p35b415683f)\" d=\"M 127.640227 224.64 \r\nL 133.7275 224.64 \r\nL 133.7275 79.486462 \r\nL 127.640227 79.486462 \r\nz\r\n\" style=\"fill:#1f77b4;\"/>\r\n   </g>\r\n   <g id=\"patch_17\">\r\n    <path clip-path=\"url(#p35b415683f)\" d=\"M 133.7275 224.64 \r\nL 139.814773 224.64 \r\nL 139.814773 79.486462 \r\nL 133.7275 79.486462 \r\nz\r\n\" style=\"fill:#1f77b4;\"/>\r\n   </g>\r\n   <g id=\"patch_18\">\r\n    <path clip-path=\"url(#p35b415683f)\" d=\"M 139.814773 224.64 \r\nL 145.902045 224.64 \r\nL 145.902045 94.969506 \r\nL 139.814773 94.969506 \r\nz\r\n\" style=\"fill:#1f77b4;\"/>\r\n   </g>\r\n   <g id=\"patch_19\">\r\n    <path clip-path=\"url(#p35b415683f)\" d=\"M 145.902045 224.64 \r\nL 151.989318 224.64 \r\nL 151.989318 133.677116 \r\nL 145.902045 133.677116 \r\nz\r\n\" style=\"fill:#1f77b4;\"/>\r\n   </g>\r\n   <g id=\"patch_20\">\r\n    <path clip-path=\"url(#p35b415683f)\" d=\"M 151.989318 224.64 \r\nL 158.076591 224.64 \r\nL 158.076591 145.289399 \r\nL 151.989318 145.289399 \r\nz\r\n\" style=\"fill:#1f77b4;\"/>\r\n   </g>\r\n   <g id=\"patch_21\">\r\n    <path clip-path=\"url(#p35b415683f)\" d=\"M 158.076591 224.64 \r\nL 164.163864 224.64 \r\nL 164.163864 135.612497 \r\nL 158.076591 135.612497 \r\nz\r\n\" style=\"fill:#1f77b4;\"/>\r\n   </g>\r\n   <g id=\"patch_22\">\r\n    <path clip-path=\"url(#p35b415683f)\" d=\"M 164.163864 224.64 \r\nL 170.251136 224.64 \r\nL 170.251136 158.837063 \r\nL 164.163864 158.837063 \r\nz\r\n\" style=\"fill:#1f77b4;\"/>\r\n   </g>\r\n   <g id=\"patch_23\">\r\n    <path clip-path=\"url(#p35b415683f)\" d=\"M 170.251136 224.64 \r\nL 176.338409 224.64 \r\nL 176.338409 156.901682 \r\nL 170.251136 156.901682 \r\nz\r\n\" style=\"fill:#1f77b4;\"/>\r\n   </g>\r\n   <g id=\"patch_24\">\r\n    <path clip-path=\"url(#p35b415683f)\" d=\"M 176.338409 224.64 \r\nL 182.425682 224.64 \r\nL 182.425682 170.449346 \r\nL 176.338409 170.449346 \r\nz\r\n\" style=\"fill:#1f77b4;\"/>\r\n   </g>\r\n   <g id=\"patch_25\">\r\n    <path clip-path=\"url(#p35b415683f)\" d=\"M 182.425682 224.64 \r\nL 188.512955 224.64 \r\nL 188.512955 182.061629 \r\nL 182.425682 182.061629 \r\nz\r\n\" style=\"fill:#1f77b4;\"/>\r\n   </g>\r\n   <g id=\"patch_26\">\r\n    <path clip-path=\"url(#p35b415683f)\" d=\"M 188.512955 224.64 \r\nL 194.600227 224.64 \r\nL 194.600227 178.190868 \r\nL 188.512955 178.190868 \r\nz\r\n\" style=\"fill:#1f77b4;\"/>\r\n   </g>\r\n   <g id=\"patch_27\">\r\n    <path clip-path=\"url(#p35b415683f)\" d=\"M 194.600227 224.64 \r\nL 200.6875 224.64 \r\nL 200.6875 183.997009 \r\nL 194.600227 183.997009 \r\nz\r\n\" style=\"fill:#1f77b4;\"/>\r\n   </g>\r\n   <g id=\"patch_28\">\r\n    <path clip-path=\"url(#p35b415683f)\" d=\"M 200.6875 224.64 \r\nL 206.774773 224.64 \r\nL 206.774773 185.93239 \r\nL 200.6875 185.93239 \r\nz\r\n\" style=\"fill:#1f77b4;\"/>\r\n   </g>\r\n   <g id=\"patch_29\">\r\n    <path clip-path=\"url(#p35b415683f)\" d=\"M 206.774773 224.64 \r\nL 212.862045 224.64 \r\nL 212.862045 203.350814 \r\nL 206.774773 203.350814 \r\nz\r\n\" style=\"fill:#1f77b4;\"/>\r\n   </g>\r\n   <g id=\"patch_30\">\r\n    <path clip-path=\"url(#p35b415683f)\" d=\"M 212.862045 224.64 \r\nL 218.949318 224.64 \r\nL 218.949318 193.673912 \r\nL 212.862045 193.673912 \r\nz\r\n\" style=\"fill:#1f77b4;\"/>\r\n   </g>\r\n   <g id=\"patch_31\">\r\n    <path clip-path=\"url(#p35b415683f)\" d=\"M 218.949318 224.64 \r\nL 225.036591 224.64 \r\nL 225.036591 203.350814 \r\nL 218.949318 203.350814 \r\nz\r\n\" style=\"fill:#1f77b4;\"/>\r\n   </g>\r\n   <g id=\"patch_32\">\r\n    <path clip-path=\"url(#p35b415683f)\" d=\"M 225.036591 224.64 \r\nL 231.123864 224.64 \r\nL 231.123864 201.415434 \r\nL 225.036591 201.415434 \r\nz\r\n\" style=\"fill:#1f77b4;\"/>\r\n   </g>\r\n   <g id=\"patch_33\">\r\n    <path clip-path=\"url(#p35b415683f)\" d=\"M 231.123864 224.64 \r\nL 237.211136 224.64 \r\nL 237.211136 199.480053 \r\nL 231.123864 199.480053 \r\nz\r\n\" style=\"fill:#1f77b4;\"/>\r\n   </g>\r\n   <g id=\"patch_34\">\r\n    <path clip-path=\"url(#p35b415683f)\" d=\"M 237.211136 224.64 \r\nL 243.298409 224.64 \r\nL 243.298409 203.350814 \r\nL 237.211136 203.350814 \r\nz\r\n\" style=\"fill:#1f77b4;\"/>\r\n   </g>\r\n   <g id=\"patch_35\">\r\n    <path clip-path=\"url(#p35b415683f)\" d=\"M 243.298409 224.64 \r\nL 249.385682 224.64 \r\nL 249.385682 211.092336 \r\nL 243.298409 211.092336 \r\nz\r\n\" style=\"fill:#1f77b4;\"/>\r\n   </g>\r\n   <g id=\"patch_36\">\r\n    <path clip-path=\"url(#p35b415683f)\" d=\"M 249.385682 224.64 \r\nL 255.472955 224.64 \r\nL 255.472955 211.092336 \r\nL 249.385682 211.092336 \r\nz\r\n\" style=\"fill:#1f77b4;\"/>\r\n   </g>\r\n   <g id=\"patch_37\">\r\n    <path clip-path=\"url(#p35b415683f)\" d=\"M 255.472955 224.64 \r\nL 261.560227 224.64 \r\nL 261.560227 216.898478 \r\nL 255.472955 216.898478 \r\nz\r\n\" style=\"fill:#1f77b4;\"/>\r\n   </g>\r\n   <g id=\"patch_38\">\r\n    <path clip-path=\"url(#p35b415683f)\" d=\"M 261.560227 224.64 \r\nL 267.6475 224.64 \r\nL 267.6475 218.833858 \r\nL 261.560227 218.833858 \r\nz\r\n\" style=\"fill:#1f77b4;\"/>\r\n   </g>\r\n   <g id=\"patch_39\">\r\n    <path clip-path=\"url(#p35b415683f)\" d=\"M 267.6475 224.64 \r\nL 273.734773 224.64 \r\nL 273.734773 211.092336 \r\nL 267.6475 211.092336 \r\nz\r\n\" style=\"fill:#1f77b4;\"/>\r\n   </g>\r\n   <g id=\"patch_40\">\r\n    <path clip-path=\"url(#p35b415683f)\" d=\"M 273.734773 224.64 \r\nL 279.822045 224.64 \r\nL 279.822045 222.704619 \r\nL 273.734773 222.704619 \r\nz\r\n\" style=\"fill:#1f77b4;\"/>\r\n   </g>\r\n   <g id=\"patch_41\">\r\n    <path clip-path=\"url(#p35b415683f)\" d=\"M 279.822045 224.64 \r\nL 285.909318 224.64 \r\nL 285.909318 218.833858 \r\nL 279.822045 218.833858 \r\nz\r\n\" style=\"fill:#1f77b4;\"/>\r\n   </g>\r\n   <g id=\"patch_42\">\r\n    <path clip-path=\"url(#p35b415683f)\" d=\"M 285.909318 224.64 \r\nL 291.996591 224.64 \r\nL 291.996591 218.833858 \r\nL 285.909318 218.833858 \r\nz\r\n\" style=\"fill:#1f77b4;\"/>\r\n   </g>\r\n   <g id=\"patch_43\">\r\n    <path clip-path=\"url(#p35b415683f)\" d=\"M 291.996591 224.64 \r\nL 298.083864 224.64 \r\nL 298.083864 220.769239 \r\nL 291.996591 220.769239 \r\nz\r\n\" style=\"fill:#1f77b4;\"/>\r\n   </g>\r\n   <g id=\"patch_44\">\r\n    <path clip-path=\"url(#p35b415683f)\" d=\"M 298.083864 224.64 \r\nL 304.171136 224.64 \r\nL 304.171136 222.704619 \r\nL 298.083864 222.704619 \r\nz\r\n\" style=\"fill:#1f77b4;\"/>\r\n   </g>\r\n   <g id=\"patch_45\">\r\n    <path clip-path=\"url(#p35b415683f)\" d=\"M 304.171136 224.64 \r\nL 310.258409 224.64 \r\nL 310.258409 220.769239 \r\nL 304.171136 220.769239 \r\nz\r\n\" style=\"fill:#1f77b4;\"/>\r\n   </g>\r\n   <g id=\"patch_46\">\r\n    <path clip-path=\"url(#p35b415683f)\" d=\"M 310.258409 224.64 \r\nL 316.345682 224.64 \r\nL 316.345682 220.769239 \r\nL 310.258409 220.769239 \r\nz\r\n\" style=\"fill:#1f77b4;\"/>\r\n   </g>\r\n   <g id=\"patch_47\">\r\n    <path clip-path=\"url(#p35b415683f)\" d=\"M 316.345682 224.64 \r\nL 322.432955 224.64 \r\nL 322.432955 222.704619 \r\nL 316.345682 222.704619 \r\nz\r\n\" style=\"fill:#1f77b4;\"/>\r\n   </g>\r\n   <g id=\"patch_48\">\r\n    <path clip-path=\"url(#p35b415683f)\" d=\"M 322.432955 224.64 \r\nL 328.520227 224.64 \r\nL 328.520227 224.64 \r\nL 322.432955 224.64 \r\nz\r\n\" style=\"fill:#1f77b4;\"/>\r\n   </g>\r\n   <g id=\"patch_49\">\r\n    <path clip-path=\"url(#p35b415683f)\" d=\"M 328.520227 224.64 \r\nL 334.6075 224.64 \r\nL 334.6075 224.64 \r\nL 328.520227 224.64 \r\nz\r\n\" style=\"fill:#1f77b4;\"/>\r\n   </g>\r\n   <g id=\"patch_50\">\r\n    <path clip-path=\"url(#p35b415683f)\" d=\"M 334.6075 224.64 \r\nL 340.694773 224.64 \r\nL 340.694773 224.64 \r\nL 334.6075 224.64 \r\nz\r\n\" style=\"fill:#1f77b4;\"/>\r\n   </g>\r\n   <g id=\"patch_51\">\r\n    <path clip-path=\"url(#p35b415683f)\" d=\"M 340.694773 224.64 \r\nL 346.782045 224.64 \r\nL 346.782045 224.64 \r\nL 340.694773 224.64 \r\nz\r\n\" style=\"fill:#1f77b4;\"/>\r\n   </g>\r\n   <g id=\"patch_52\">\r\n    <path clip-path=\"url(#p35b415683f)\" d=\"M 346.782045 224.64 \r\nL 352.869318 224.64 \r\nL 352.869318 222.704619 \r\nL 346.782045 222.704619 \r\nz\r\n\" style=\"fill:#1f77b4;\"/>\r\n   </g>\r\n   <g id=\"matplotlib.axis_1\">\r\n    <g id=\"xtick_1\">\r\n     <g id=\"line2d_1\">\r\n      <path clip-path=\"url(#p35b415683f)\" d=\"M 81.022537 224.64 \r\nL 81.022537 7.2 \r\n\" style=\"fill:none;stroke:#b0b0b0;stroke-linecap:square;stroke-width:0.8;\"/>\r\n     </g>\r\n     <g id=\"line2d_2\">\r\n      <defs>\r\n       <path d=\"M 0 0 \r\nL 0 3.5 \r\n\" id=\"mc69c65e1ca\" style=\"stroke:#000000;stroke-width:0.8;\"/>\r\n      </defs>\r\n      <g>\r\n       <use style=\"stroke:#000000;stroke-width:0.8;\" x=\"81.022537\" xlink:href=\"#mc69c65e1ca\" y=\"224.64\"/>\r\n      </g>\r\n     </g>\r\n     <g id=\"text_1\">\r\n      <!-- 100000 -->\r\n      <defs>\r\n       <path d=\"M 12.40625 8.296875 \r\nL 28.515625 8.296875 \r\nL 28.515625 63.921875 \r\nL 10.984375 60.40625 \r\nL 10.984375 69.390625 \r\nL 28.421875 72.90625 \r\nL 38.28125 72.90625 \r\nL 38.28125 8.296875 \r\nL 54.390625 8.296875 \r\nL 54.390625 0 \r\nL 12.40625 0 \r\nz\r\n\" id=\"DejaVuSans-49\"/>\r\n       <path d=\"M 31.78125 66.40625 \r\nQ 24.171875 66.40625 20.328125 58.90625 \r\nQ 16.5 51.421875 16.5 36.375 \r\nQ 16.5 21.390625 20.328125 13.890625 \r\nQ 24.171875 6.390625 31.78125 6.390625 \r\nQ 39.453125 6.390625 43.28125 13.890625 \r\nQ 47.125 21.390625 47.125 36.375 \r\nQ 47.125 51.421875 43.28125 58.90625 \r\nQ 39.453125 66.40625 31.78125 66.40625 \r\nz\r\nM 31.78125 74.21875 \r\nQ 44.046875 74.21875 50.515625 64.515625 \r\nQ 56.984375 54.828125 56.984375 36.375 \r\nQ 56.984375 17.96875 50.515625 8.265625 \r\nQ 44.046875 -1.421875 31.78125 -1.421875 \r\nQ 19.53125 -1.421875 13.0625 8.265625 \r\nQ 6.59375 17.96875 6.59375 36.375 \r\nQ 6.59375 54.828125 13.0625 64.515625 \r\nQ 19.53125 74.21875 31.78125 74.21875 \r\nz\r\n\" id=\"DejaVuSans-48\"/>\r\n      </defs>\r\n      <g transform=\"translate(61.935037 239.238437)scale(0.1 -0.1)\">\r\n       <use xlink:href=\"#DejaVuSans-49\"/>\r\n       <use x=\"63.623047\" xlink:href=\"#DejaVuSans-48\"/>\r\n       <use x=\"127.246094\" xlink:href=\"#DejaVuSans-48\"/>\r\n       <use x=\"190.869141\" xlink:href=\"#DejaVuSans-48\"/>\r\n       <use x=\"254.492188\" xlink:href=\"#DejaVuSans-48\"/>\r\n       <use x=\"318.115234\" xlink:href=\"#DejaVuSans-48\"/>\r\n      </g>\r\n     </g>\r\n    </g>\r\n    <g id=\"xtick_2\">\r\n     <g id=\"line2d_3\">\r\n      <path clip-path=\"url(#p35b415683f)\" d=\"M 147.539437 224.64 \r\nL 147.539437 7.2 \r\n\" style=\"fill:none;stroke:#b0b0b0;stroke-linecap:square;stroke-width:0.8;\"/>\r\n     </g>\r\n     <g id=\"line2d_4\">\r\n      <g>\r\n       <use style=\"stroke:#000000;stroke-width:0.8;\" x=\"147.539437\" xlink:href=\"#mc69c65e1ca\" y=\"224.64\"/>\r\n      </g>\r\n     </g>\r\n     <g id=\"text_2\">\r\n      <!-- 200000 -->\r\n      <defs>\r\n       <path d=\"M 19.1875 8.296875 \r\nL 53.609375 8.296875 \r\nL 53.609375 0 \r\nL 7.328125 0 \r\nL 7.328125 8.296875 \r\nQ 12.9375 14.109375 22.625 23.890625 \r\nQ 32.328125 33.6875 34.8125 36.53125 \r\nQ 39.546875 41.84375 41.421875 45.53125 \r\nQ 43.3125 49.21875 43.3125 52.78125 \r\nQ 43.3125 58.59375 39.234375 62.25 \r\nQ 35.15625 65.921875 28.609375 65.921875 \r\nQ 23.96875 65.921875 18.8125 64.3125 \r\nQ 13.671875 62.703125 7.8125 59.421875 \r\nL 7.8125 69.390625 \r\nQ 13.765625 71.78125 18.9375 73 \r\nQ 24.125 74.21875 28.421875 74.21875 \r\nQ 39.75 74.21875 46.484375 68.546875 \r\nQ 53.21875 62.890625 53.21875 53.421875 \r\nQ 53.21875 48.921875 51.53125 44.890625 \r\nQ 49.859375 40.875 45.40625 35.40625 \r\nQ 44.1875 33.984375 37.640625 27.21875 \r\nQ 31.109375 20.453125 19.1875 8.296875 \r\nz\r\n\" id=\"DejaVuSans-50\"/>\r\n      </defs>\r\n      <g transform=\"translate(128.451937 239.238437)scale(0.1 -0.1)\">\r\n       <use xlink:href=\"#DejaVuSans-50\"/>\r\n       <use x=\"63.623047\" xlink:href=\"#DejaVuSans-48\"/>\r\n       <use x=\"127.246094\" xlink:href=\"#DejaVuSans-48\"/>\r\n       <use x=\"190.869141\" xlink:href=\"#DejaVuSans-48\"/>\r\n       <use x=\"254.492188\" xlink:href=\"#DejaVuSans-48\"/>\r\n       <use x=\"318.115234\" xlink:href=\"#DejaVuSans-48\"/>\r\n      </g>\r\n     </g>\r\n    </g>\r\n    <g id=\"xtick_3\">\r\n     <g id=\"line2d_5\">\r\n      <path clip-path=\"url(#p35b415683f)\" d=\"M 214.056336 224.64 \r\nL 214.056336 7.2 \r\n\" style=\"fill:none;stroke:#b0b0b0;stroke-linecap:square;stroke-width:0.8;\"/>\r\n     </g>\r\n     <g id=\"line2d_6\">\r\n      <g>\r\n       <use style=\"stroke:#000000;stroke-width:0.8;\" x=\"214.056336\" xlink:href=\"#mc69c65e1ca\" y=\"224.64\"/>\r\n      </g>\r\n     </g>\r\n     <g id=\"text_3\">\r\n      <!-- 300000 -->\r\n      <defs>\r\n       <path d=\"M 40.578125 39.3125 \r\nQ 47.65625 37.796875 51.625 33 \r\nQ 55.609375 28.21875 55.609375 21.1875 \r\nQ 55.609375 10.40625 48.1875 4.484375 \r\nQ 40.765625 -1.421875 27.09375 -1.421875 \r\nQ 22.515625 -1.421875 17.65625 -0.515625 \r\nQ 12.796875 0.390625 7.625 2.203125 \r\nL 7.625 11.71875 \r\nQ 11.71875 9.328125 16.59375 8.109375 \r\nQ 21.484375 6.890625 26.8125 6.890625 \r\nQ 36.078125 6.890625 40.9375 10.546875 \r\nQ 45.796875 14.203125 45.796875 21.1875 \r\nQ 45.796875 27.640625 41.28125 31.265625 \r\nQ 36.765625 34.90625 28.71875 34.90625 \r\nL 20.21875 34.90625 \r\nL 20.21875 43.015625 \r\nL 29.109375 43.015625 \r\nQ 36.375 43.015625 40.234375 45.921875 \r\nQ 44.09375 48.828125 44.09375 54.296875 \r\nQ 44.09375 59.90625 40.109375 62.90625 \r\nQ 36.140625 65.921875 28.71875 65.921875 \r\nQ 24.65625 65.921875 20.015625 65.03125 \r\nQ 15.375 64.15625 9.8125 62.3125 \r\nL 9.8125 71.09375 \r\nQ 15.4375 72.65625 20.34375 73.4375 \r\nQ 25.25 74.21875 29.59375 74.21875 \r\nQ 40.828125 74.21875 47.359375 69.109375 \r\nQ 53.90625 64.015625 53.90625 55.328125 \r\nQ 53.90625 49.265625 50.4375 45.09375 \r\nQ 46.96875 40.921875 40.578125 39.3125 \r\nz\r\n\" id=\"DejaVuSans-51\"/>\r\n      </defs>\r\n      <g transform=\"translate(194.968836 239.238437)scale(0.1 -0.1)\">\r\n       <use xlink:href=\"#DejaVuSans-51\"/>\r\n       <use x=\"63.623047\" xlink:href=\"#DejaVuSans-48\"/>\r\n       <use x=\"127.246094\" xlink:href=\"#DejaVuSans-48\"/>\r\n       <use x=\"190.869141\" xlink:href=\"#DejaVuSans-48\"/>\r\n       <use x=\"254.492188\" xlink:href=\"#DejaVuSans-48\"/>\r\n       <use x=\"318.115234\" xlink:href=\"#DejaVuSans-48\"/>\r\n      </g>\r\n     </g>\r\n    </g>\r\n    <g id=\"xtick_4\">\r\n     <g id=\"line2d_7\">\r\n      <path clip-path=\"url(#p35b415683f)\" d=\"M 280.573235 224.64 \r\nL 280.573235 7.2 \r\n\" style=\"fill:none;stroke:#b0b0b0;stroke-linecap:square;stroke-width:0.8;\"/>\r\n     </g>\r\n     <g id=\"line2d_8\">\r\n      <g>\r\n       <use style=\"stroke:#000000;stroke-width:0.8;\" x=\"280.573235\" xlink:href=\"#mc69c65e1ca\" y=\"224.64\"/>\r\n      </g>\r\n     </g>\r\n     <g id=\"text_4\">\r\n      <!-- 400000 -->\r\n      <defs>\r\n       <path d=\"M 37.796875 64.3125 \r\nL 12.890625 25.390625 \r\nL 37.796875 25.390625 \r\nz\r\nM 35.203125 72.90625 \r\nL 47.609375 72.90625 \r\nL 47.609375 25.390625 \r\nL 58.015625 25.390625 \r\nL 58.015625 17.1875 \r\nL 47.609375 17.1875 \r\nL 47.609375 0 \r\nL 37.796875 0 \r\nL 37.796875 17.1875 \r\nL 4.890625 17.1875 \r\nL 4.890625 26.703125 \r\nz\r\n\" id=\"DejaVuSans-52\"/>\r\n      </defs>\r\n      <g transform=\"translate(261.485735 239.238437)scale(0.1 -0.1)\">\r\n       <use xlink:href=\"#DejaVuSans-52\"/>\r\n       <use x=\"63.623047\" xlink:href=\"#DejaVuSans-48\"/>\r\n       <use x=\"127.246094\" xlink:href=\"#DejaVuSans-48\"/>\r\n       <use x=\"190.869141\" xlink:href=\"#DejaVuSans-48\"/>\r\n       <use x=\"254.492188\" xlink:href=\"#DejaVuSans-48\"/>\r\n       <use x=\"318.115234\" xlink:href=\"#DejaVuSans-48\"/>\r\n      </g>\r\n     </g>\r\n    </g>\r\n    <g id=\"xtick_5\">\r\n     <g id=\"line2d_9\">\r\n      <path clip-path=\"url(#p35b415683f)\" d=\"M 347.090134 224.64 \r\nL 347.090134 7.2 \r\n\" style=\"fill:none;stroke:#b0b0b0;stroke-linecap:square;stroke-width:0.8;\"/>\r\n     </g>\r\n     <g id=\"line2d_10\">\r\n      <g>\r\n       <use style=\"stroke:#000000;stroke-width:0.8;\" x=\"347.090134\" xlink:href=\"#mc69c65e1ca\" y=\"224.64\"/>\r\n      </g>\r\n     </g>\r\n     <g id=\"text_5\">\r\n      <!-- 500000 -->\r\n      <defs>\r\n       <path d=\"M 10.796875 72.90625 \r\nL 49.515625 72.90625 \r\nL 49.515625 64.59375 \r\nL 19.828125 64.59375 \r\nL 19.828125 46.734375 \r\nQ 21.96875 47.46875 24.109375 47.828125 \r\nQ 26.265625 48.1875 28.421875 48.1875 \r\nQ 40.625 48.1875 47.75 41.5 \r\nQ 54.890625 34.8125 54.890625 23.390625 \r\nQ 54.890625 11.625 47.5625 5.09375 \r\nQ 40.234375 -1.421875 26.90625 -1.421875 \r\nQ 22.3125 -1.421875 17.546875 -0.640625 \r\nQ 12.796875 0.140625 7.71875 1.703125 \r\nL 7.71875 11.625 \r\nQ 12.109375 9.234375 16.796875 8.0625 \r\nQ 21.484375 6.890625 26.703125 6.890625 \r\nQ 35.15625 6.890625 40.078125 11.328125 \r\nQ 45.015625 15.765625 45.015625 23.390625 \r\nQ 45.015625 31 40.078125 35.4375 \r\nQ 35.15625 39.890625 26.703125 39.890625 \r\nQ 22.75 39.890625 18.8125 39.015625 \r\nQ 14.890625 38.140625 10.796875 36.28125 \r\nz\r\n\" id=\"DejaVuSans-53\"/>\r\n      </defs>\r\n      <g transform=\"translate(328.002634 239.238437)scale(0.1 -0.1)\">\r\n       <use xlink:href=\"#DejaVuSans-53\"/>\r\n       <use x=\"63.623047\" xlink:href=\"#DejaVuSans-48\"/>\r\n       <use x=\"127.246094\" xlink:href=\"#DejaVuSans-48\"/>\r\n       <use x=\"190.869141\" xlink:href=\"#DejaVuSans-48\"/>\r\n       <use x=\"254.492188\" xlink:href=\"#DejaVuSans-48\"/>\r\n       <use x=\"318.115234\" xlink:href=\"#DejaVuSans-48\"/>\r\n      </g>\r\n     </g>\r\n    </g>\r\n   </g>\r\n   <g id=\"matplotlib.axis_2\">\r\n    <g id=\"ytick_1\">\r\n     <g id=\"line2d_11\">\r\n      <path clip-path=\"url(#p35b415683f)\" d=\"M 33.2875 224.64 \r\nL 368.0875 224.64 \r\n\" style=\"fill:none;stroke:#b0b0b0;stroke-linecap:square;stroke-width:0.8;\"/>\r\n     </g>\r\n     <g id=\"line2d_12\">\r\n      <defs>\r\n       <path d=\"M 0 0 \r\nL -3.5 0 \r\n\" id=\"m48d8c02bbb\" style=\"stroke:#000000;stroke-width:0.8;\"/>\r\n      </defs>\r\n      <g>\r\n       <use style=\"stroke:#000000;stroke-width:0.8;\" x=\"33.2875\" xlink:href=\"#m48d8c02bbb\" y=\"224.64\"/>\r\n      </g>\r\n     </g>\r\n     <g id=\"text_6\">\r\n      <!-- 0 -->\r\n      <g transform=\"translate(19.925 228.439219)scale(0.1 -0.1)\">\r\n       <use xlink:href=\"#DejaVuSans-48\"/>\r\n      </g>\r\n     </g>\r\n    </g>\r\n    <g id=\"ytick_2\">\r\n     <g id=\"line2d_13\">\r\n      <path clip-path=\"url(#p35b415683f)\" d=\"M 33.2875 185.93239 \r\nL 368.0875 185.93239 \r\n\" style=\"fill:none;stroke:#b0b0b0;stroke-linecap:square;stroke-width:0.8;\"/>\r\n     </g>\r\n     <g id=\"line2d_14\">\r\n      <g>\r\n       <use style=\"stroke:#000000;stroke-width:0.8;\" x=\"33.2875\" xlink:href=\"#m48d8c02bbb\" y=\"185.93239\"/>\r\n      </g>\r\n     </g>\r\n     <g id=\"text_7\">\r\n      <!-- 20 -->\r\n      <g transform=\"translate(13.5625 189.731609)scale(0.1 -0.1)\">\r\n       <use xlink:href=\"#DejaVuSans-50\"/>\r\n       <use x=\"63.623047\" xlink:href=\"#DejaVuSans-48\"/>\r\n      </g>\r\n     </g>\r\n    </g>\r\n    <g id=\"ytick_3\">\r\n     <g id=\"line2d_15\">\r\n      <path clip-path=\"url(#p35b415683f)\" d=\"M 33.2875 147.22478 \r\nL 368.0875 147.22478 \r\n\" style=\"fill:none;stroke:#b0b0b0;stroke-linecap:square;stroke-width:0.8;\"/>\r\n     </g>\r\n     <g id=\"line2d_16\">\r\n      <g>\r\n       <use style=\"stroke:#000000;stroke-width:0.8;\" x=\"33.2875\" xlink:href=\"#m48d8c02bbb\" y=\"147.22478\"/>\r\n      </g>\r\n     </g>\r\n     <g id=\"text_8\">\r\n      <!-- 40 -->\r\n      <g transform=\"translate(13.5625 151.023998)scale(0.1 -0.1)\">\r\n       <use xlink:href=\"#DejaVuSans-52\"/>\r\n       <use x=\"63.623047\" xlink:href=\"#DejaVuSans-48\"/>\r\n      </g>\r\n     </g>\r\n    </g>\r\n    <g id=\"ytick_4\">\r\n     <g id=\"line2d_17\">\r\n      <path clip-path=\"url(#p35b415683f)\" d=\"M 33.2875 108.51717 \r\nL 368.0875 108.51717 \r\n\" style=\"fill:none;stroke:#b0b0b0;stroke-linecap:square;stroke-width:0.8;\"/>\r\n     </g>\r\n     <g id=\"line2d_18\">\r\n      <g>\r\n       <use style=\"stroke:#000000;stroke-width:0.8;\" x=\"33.2875\" xlink:href=\"#m48d8c02bbb\" y=\"108.51717\"/>\r\n      </g>\r\n     </g>\r\n     <g id=\"text_9\">\r\n      <!-- 60 -->\r\n      <defs>\r\n       <path d=\"M 33.015625 40.375 \r\nQ 26.375 40.375 22.484375 35.828125 \r\nQ 18.609375 31.296875 18.609375 23.390625 \r\nQ 18.609375 15.53125 22.484375 10.953125 \r\nQ 26.375 6.390625 33.015625 6.390625 \r\nQ 39.65625 6.390625 43.53125 10.953125 \r\nQ 47.40625 15.53125 47.40625 23.390625 \r\nQ 47.40625 31.296875 43.53125 35.828125 \r\nQ 39.65625 40.375 33.015625 40.375 \r\nz\r\nM 52.59375 71.296875 \r\nL 52.59375 62.3125 \r\nQ 48.875 64.0625 45.09375 64.984375 \r\nQ 41.3125 65.921875 37.59375 65.921875 \r\nQ 27.828125 65.921875 22.671875 59.328125 \r\nQ 17.53125 52.734375 16.796875 39.40625 \r\nQ 19.671875 43.65625 24.015625 45.921875 \r\nQ 28.375 48.1875 33.59375 48.1875 \r\nQ 44.578125 48.1875 50.953125 41.515625 \r\nQ 57.328125 34.859375 57.328125 23.390625 \r\nQ 57.328125 12.15625 50.6875 5.359375 \r\nQ 44.046875 -1.421875 33.015625 -1.421875 \r\nQ 20.359375 -1.421875 13.671875 8.265625 \r\nQ 6.984375 17.96875 6.984375 36.375 \r\nQ 6.984375 53.65625 15.1875 63.9375 \r\nQ 23.390625 74.21875 37.203125 74.21875 \r\nQ 40.921875 74.21875 44.703125 73.484375 \r\nQ 48.484375 72.75 52.59375 71.296875 \r\nz\r\n\" id=\"DejaVuSans-54\"/>\r\n      </defs>\r\n      <g transform=\"translate(13.5625 112.316388)scale(0.1 -0.1)\">\r\n       <use xlink:href=\"#DejaVuSans-54\"/>\r\n       <use x=\"63.623047\" xlink:href=\"#DejaVuSans-48\"/>\r\n      </g>\r\n     </g>\r\n    </g>\r\n    <g id=\"ytick_5\">\r\n     <g id=\"line2d_19\">\r\n      <path clip-path=\"url(#p35b415683f)\" d=\"M 33.2875 69.809559 \r\nL 368.0875 69.809559 \r\n\" style=\"fill:none;stroke:#b0b0b0;stroke-linecap:square;stroke-width:0.8;\"/>\r\n     </g>\r\n     <g id=\"line2d_20\">\r\n      <g>\r\n       <use style=\"stroke:#000000;stroke-width:0.8;\" x=\"33.2875\" xlink:href=\"#m48d8c02bbb\" y=\"69.809559\"/>\r\n      </g>\r\n     </g>\r\n     <g id=\"text_10\">\r\n      <!-- 80 -->\r\n      <defs>\r\n       <path d=\"M 31.78125 34.625 \r\nQ 24.75 34.625 20.71875 30.859375 \r\nQ 16.703125 27.09375 16.703125 20.515625 \r\nQ 16.703125 13.921875 20.71875 10.15625 \r\nQ 24.75 6.390625 31.78125 6.390625 \r\nQ 38.8125 6.390625 42.859375 10.171875 \r\nQ 46.921875 13.96875 46.921875 20.515625 \r\nQ 46.921875 27.09375 42.890625 30.859375 \r\nQ 38.875 34.625 31.78125 34.625 \r\nz\r\nM 21.921875 38.8125 \r\nQ 15.578125 40.375 12.03125 44.71875 \r\nQ 8.5 49.078125 8.5 55.328125 \r\nQ 8.5 64.0625 14.71875 69.140625 \r\nQ 20.953125 74.21875 31.78125 74.21875 \r\nQ 42.671875 74.21875 48.875 69.140625 \r\nQ 55.078125 64.0625 55.078125 55.328125 \r\nQ 55.078125 49.078125 51.53125 44.71875 \r\nQ 48 40.375 41.703125 38.8125 \r\nQ 48.828125 37.15625 52.796875 32.3125 \r\nQ 56.78125 27.484375 56.78125 20.515625 \r\nQ 56.78125 9.90625 50.3125 4.234375 \r\nQ 43.84375 -1.421875 31.78125 -1.421875 \r\nQ 19.734375 -1.421875 13.25 4.234375 \r\nQ 6.78125 9.90625 6.78125 20.515625 \r\nQ 6.78125 27.484375 10.78125 32.3125 \r\nQ 14.796875 37.15625 21.921875 38.8125 \r\nz\r\nM 18.3125 54.390625 \r\nQ 18.3125 48.734375 21.84375 45.5625 \r\nQ 25.390625 42.390625 31.78125 42.390625 \r\nQ 38.140625 42.390625 41.71875 45.5625 \r\nQ 45.3125 48.734375 45.3125 54.390625 \r\nQ 45.3125 60.0625 41.71875 63.234375 \r\nQ 38.140625 66.40625 31.78125 66.40625 \r\nQ 25.390625 66.40625 21.84375 63.234375 \r\nQ 18.3125 60.0625 18.3125 54.390625 \r\nz\r\n\" id=\"DejaVuSans-56\"/>\r\n      </defs>\r\n      <g transform=\"translate(13.5625 73.608778)scale(0.1 -0.1)\">\r\n       <use xlink:href=\"#DejaVuSans-56\"/>\r\n       <use x=\"63.623047\" xlink:href=\"#DejaVuSans-48\"/>\r\n      </g>\r\n     </g>\r\n    </g>\r\n    <g id=\"ytick_6\">\r\n     <g id=\"line2d_21\">\r\n      <path clip-path=\"url(#p35b415683f)\" d=\"M 33.2875 31.101949 \r\nL 368.0875 31.101949 \r\n\" style=\"fill:none;stroke:#b0b0b0;stroke-linecap:square;stroke-width:0.8;\"/>\r\n     </g>\r\n     <g id=\"line2d_22\">\r\n      <g>\r\n       <use style=\"stroke:#000000;stroke-width:0.8;\" x=\"33.2875\" xlink:href=\"#m48d8c02bbb\" y=\"31.101949\"/>\r\n      </g>\r\n     </g>\r\n     <g id=\"text_11\">\r\n      <!-- 100 -->\r\n      <g transform=\"translate(7.2 34.901168)scale(0.1 -0.1)\">\r\n       <use xlink:href=\"#DejaVuSans-49\"/>\r\n       <use x=\"63.623047\" xlink:href=\"#DejaVuSans-48\"/>\r\n       <use x=\"127.246094\" xlink:href=\"#DejaVuSans-48\"/>\r\n      </g>\r\n     </g>\r\n    </g>\r\n   </g>\r\n   <g id=\"patch_53\">\r\n    <path d=\"M 33.2875 224.64 \r\nL 33.2875 7.2 \r\n\" style=\"fill:none;stroke:#000000;stroke-linecap:square;stroke-linejoin:miter;stroke-width:0.8;\"/>\r\n   </g>\r\n   <g id=\"patch_54\">\r\n    <path d=\"M 368.0875 224.64 \r\nL 368.0875 7.2 \r\n\" style=\"fill:none;stroke:#000000;stroke-linecap:square;stroke-linejoin:miter;stroke-width:0.8;\"/>\r\n   </g>\r\n   <g id=\"patch_55\">\r\n    <path d=\"M 33.2875 224.64 \r\nL 368.0875 224.64 \r\n\" style=\"fill:none;stroke:#000000;stroke-linecap:square;stroke-linejoin:miter;stroke-width:0.8;\"/>\r\n   </g>\r\n   <g id=\"patch_56\">\r\n    <path d=\"M 33.2875 7.2 \r\nL 368.0875 7.2 \r\n\" style=\"fill:none;stroke:#000000;stroke-linecap:square;stroke-linejoin:miter;stroke-width:0.8;\"/>\r\n   </g>\r\n  </g>\r\n </g>\r\n <defs>\r\n  <clipPath id=\"p35b415683f\">\r\n   <rect height=\"217.44\" width=\"334.8\" x=\"33.2875\" y=\"7.2\"/>\r\n  </clipPath>\r\n </defs>\r\n</svg>\r\n",
      "image/png": "[encoded data removed]"
     },
     "metadata": {
      "needs_background": "light"
     }
    }
   ],
   "metadata": {}
  },
  {
   "cell_type": "markdown",
   "source": [
    "# Conclusion\n",
    "\n",
    "Now we are ready for deployment!!!"
   ],
   "metadata": {
    "collapsed": true
   }
  },
  {
   "cell_type": "code",
   "execution_count": null,
   "source": [],
   "outputs": [],
   "metadata": {}
  }
 ],
 "metadata": {
  "kernelspec": {
   "name": "python3",
   "display_name": "Python 3.7.6 64-bit"
  },
  "language_info": {
   "codemirror_mode": {
    "name": "ipython",
    "version": 3
   },
   "file_extension": ".py",
   "mimetype": "text/x-python",
   "name": "python",
   "nbconvert_exporter": "python",
   "pygments_lexer": "ipython3",
   "version": "3.7.6"
  },
  "toc": {
   "base_numbering": 1,
   "nav_menu": {},
   "number_sections": true,
   "sideBar": true,
   "skip_h1_title": false,
   "title_cell": "Table of Contents",
   "title_sidebar": "Contents",
   "toc_cell": false,
   "toc_position": {
    "height": "583px",
    "left": "0px",
    "right": "1324px",
    "top": "107px",
    "width": "212px"
   },
   "toc_section_display": "block",
   "toc_window_display": true
  },
  "interpreter": {
   "hash": "0324020fe755b756d5e9249bc75ed4fcf51343e603e75a0fab098c18d1e425e0"
  }
 },
 "nbformat": 4,
 "nbformat_minor": 2
}