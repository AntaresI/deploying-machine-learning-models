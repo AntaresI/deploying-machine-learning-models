{
 "cells": [
  {
   "cell_type": "code",
   "execution_count": 1,
   "metadata": {},
   "outputs": [
    {
     "name": "stdout",
     "output_type": "stream",
     "text": [
      "Collecting pandas\n",
      "  Downloading pandas-1.4.3-cp38-cp38-manylinux_2_17_x86_64.manylinux2014_x86_64.whl (11.7 MB)\n",
      "\u001b[K     |████████████████████████████████| 11.7 MB 3.8 MB/s eta 0:00:01\n",
      "\u001b[?25hRequirement already satisfied: python-dateutil>=2.8.1 in /usr/local/lib/python3.8/dist-packages (from pandas) (2.8.2)\n",
      "Requirement already satisfied: numpy>=1.18.5; platform_machine != \"aarch64\" and platform_machine != \"arm64\" and python_version < \"3.10\" in /usr/local/lib/python3.8/dist-packages (from pandas) (1.22.1)\n",
      "Collecting pytz>=2020.1\n",
      "  Downloading pytz-2022.1-py2.py3-none-any.whl (503 kB)\n",
      "\u001b[K     |████████████████████████████████| 503 kB 3.4 MB/s eta 0:00:01\n",
      "\u001b[?25hRequirement already satisfied: six>=1.5 in /usr/lib/python3/dist-packages (from python-dateutil>=2.8.1->pandas) (1.14.0)\n",
      "Installing collected packages: pytz, pandas\n",
      "Successfully installed pandas-1.4.3 pytz-2022.1\n",
      "\u001b[33mWARNING: You are using pip version 20.2.4; however, version 22.1.2 is available.\n",
      "You should consider upgrading via the '/usr/bin/python3 -m pip install --upgrade pip' command.\u001b[0m\n"
     ]
    }
   ],
   "source": [
    "!pip install pandas"
   ]
  },
  {
   "cell_type": "code",
   "execution_count": 2,
   "metadata": {},
   "outputs": [
    {
     "name": "stdout",
     "output_type": "stream",
     "text": [
      "Collecting sklearn\n",
      "  Downloading sklearn-0.0.tar.gz (1.1 kB)\n",
      "Collecting scikit-learn\n",
      "  Downloading scikit_learn-1.1.1-cp38-cp38-manylinux_2_17_x86_64.manylinux2014_x86_64.whl (31.2 MB)\n",
      "\u001b[K     |████████████████████████████████| 31.2 MB 3.2 MB/s eta 0:00:01\n",
      "\u001b[?25hCollecting threadpoolctl>=2.0.0\n",
      "  Downloading threadpoolctl-3.1.0-py3-none-any.whl (14 kB)\n",
      "Requirement already satisfied: numpy>=1.17.3 in /usr/local/lib/python3.8/dist-packages (from scikit-learn->sklearn) (1.22.1)\n",
      "Collecting joblib>=1.0.0\n",
      "  Downloading joblib-1.1.0-py2.py3-none-any.whl (306 kB)\n",
      "\u001b[K     |████████████████████████████████| 306 kB 3.3 MB/s eta 0:00:01\n",
      "\u001b[?25hCollecting scipy>=1.3.2\n",
      "  Downloading scipy-1.8.1-cp38-cp38-manylinux_2_17_x86_64.manylinux2014_x86_64.whl (41.6 MB)\n",
      "\u001b[K     |████████████████████████████████| 41.6 MB 3.6 MB/s eta 0:00:01     |███████████████                 | 19.6 MB 3.2 MB/s eta 0:00:07\n",
      "\u001b[?25hBuilding wheels for collected packages: sklearn\n",
      "  Building wheel for sklearn (setup.py) ... \u001b[?25ldone\n",
      "\u001b[?25h  Created wheel for sklearn: filename=sklearn-0.0-py2.py3-none-any.whl size=1308 sha256=9c58ad3fa36b09f823305336a58b25faccce9c13fb9c8a19c06dd8cbb404e424\n",
      "  Stored in directory: /root/.cache/pip/wheels/22/0b/40/fd3f795caaa1fb4c6cb738bc1f56100be1e57da95849bfc897\n",
      "Successfully built sklearn\n",
      "Installing collected packages: threadpoolctl, joblib, scipy, scikit-learn, sklearn\n",
      "Successfully installed joblib-1.1.0 scikit-learn-1.1.1 scipy-1.8.1 sklearn-0.0 threadpoolctl-3.1.0\n",
      "\u001b[33mWARNING: You are using pip version 20.2.4; however, version 22.1.2 is available.\n",
      "You should consider upgrading via the '/usr/bin/python3 -m pip install --upgrade pip' command.\u001b[0m\n"
     ]
    }
   ],
   "source": [
    "!pip install sklearn"
   ]
  },
  {
   "cell_type": "code",
   "execution_count": 5,
   "metadata": {},
   "outputs": [
    {
     "name": "stdout",
     "output_type": "stream",
     "text": [
      "Found existing installation: regression-model 0.1.2\r\n",
      "Uninstalling regression-model-0.1.2:\r\n",
      "  Successfully uninstalled regression-model-0.1.2\r\n"
     ]
    }
   ],
   "source": [
    "!pip uninstall regression_model -y"
   ]
  },
  {
   "cell_type": "code",
   "execution_count": 38,
   "metadata": {},
   "outputs": [
    {
     "name": "stdout",
     "output_type": "stream",
     "text": [
      "__init__.py  __pycache__  test.csv  train.csv\r\n"
     ]
    }
   ],
   "source": [
    "!ls /usr/local/lib/python3.8/dist-packages/regression_model/datasets"
   ]
  },
  {
   "cell_type": "code",
   "execution_count": 28,
   "metadata": {},
   "outputs": [
    {
     "name": "stdout",
     "output_type": "stream",
     "text": [
      "CMD.ipynb  build  dockerfile  regression_model.egg-info\r\n",
      "README.md  dist   packages\r\n"
     ]
    }
   ],
   "source": [
    "!dir"
   ]
  },
  {
   "cell_type": "code",
   "execution_count": 55,
   "metadata": {
    "scrolled": true
   },
   "outputs": [
    {
     "name": "stdout",
     "output_type": "stream",
     "text": [
      "['/tf/packages/regression_model/regression_model', '/usr/lib/python38.zip', '/usr/lib/python3.8', '/usr/lib/python3.8/lib-dynload', '/usr/local/lib/python3.8/dist-packages', '/usr/lib/python3/dist-packages', '/tf/packages/regression_model/', '/tf/packages/regression_model/']\n",
      "Training...\n",
      "/usr/local/lib/python3.8/dist-packages/regression_model/datasets/train.csv\n",
      "train.csv\n",
      "****\n",
      "2022-07-06 21:20:38,170 - test - INFO -save_pipeline:29 - saved pipeline: regression_model_0.1.2.pkl\n",
      "model trained\n"
     ]
    }
   ],
   "source": [
    "!python packages/regression_model/regression_model/train_pipeline.py"
   ]
  },
  {
   "cell_type": "code",
   "execution_count": 4,
   "metadata": {},
   "outputs": [
    {
     "name": "stdout",
     "output_type": "stream",
     "text": [
      "Collecting pytest\n",
      "  Downloading pytest-7.1.2-py3-none-any.whl (297 kB)\n",
      "\u001b[K     |████████████████████████████████| 297 kB 1.4 MB/s eta 0:00:01\n",
      "\u001b[?25hCollecting iniconfig\n",
      "  Downloading iniconfig-1.1.1-py2.py3-none-any.whl (5.0 kB)\n",
      "Requirement already satisfied: packaging in /usr/local/lib/python3.8/dist-packages (from pytest) (21.3)\n",
      "Requirement already satisfied: attrs>=19.2.0 in /usr/local/lib/python3.8/dist-packages (from pytest) (21.4.0)\n",
      "Requirement already satisfied: tomli>=1.0.0 in /usr/local/lib/python3.8/dist-packages (from pytest) (2.0.0)\n",
      "Collecting py>=1.8.2\n",
      "  Downloading py-1.11.0-py2.py3-none-any.whl (98 kB)\n",
      "\u001b[K     |████████████████████████████████| 98 kB 3.5 MB/s eta 0:00:01\n",
      "\u001b[?25hCollecting pluggy<2.0,>=0.12\n",
      "  Downloading pluggy-1.0.0-py2.py3-none-any.whl (13 kB)\n",
      "Requirement already satisfied: pyparsing!=3.0.5,>=2.0.2 in /usr/local/lib/python3.8/dist-packages (from packaging->pytest) (3.0.7)\n",
      "Installing collected packages: iniconfig, py, pluggy, pytest\n",
      "Successfully installed iniconfig-1.1.1 pluggy-1.0.0 py-1.11.0 pytest-7.1.2\n",
      "\u001b[33mWARNING: You are using pip version 20.2.4; however, version 22.1.2 is available.\n",
      "You should consider upgrading via the '/usr/bin/python3 -m pip install --upgrade pip' command.\u001b[0m\n"
     ]
    }
   ],
   "source": [
    "!pip install pytest"
   ]
  },
  {
   "cell_type": "code",
   "execution_count": 54,
   "metadata": {},
   "outputs": [
    {
     "name": "stdout",
     "output_type": "stream",
     "text": [
      "\u001b[1m============================= test session starts ==============================\u001b[0m\n",
      "platform linux -- Python 3.8.10, pytest-7.1.2, pluggy-1.0.0\n",
      "rootdir: /tf/packages/regression_model\n",
      "collected 2 items                                                              \u001b[0m\u001b[1m\n",
      "\n",
      "packages/regression_model/regression_model/tests/test_predict.py \u001b[32m.\u001b[0m\u001b[32m.\u001b[0m\u001b[32m      [100%]\u001b[0m\n",
      "\n",
      "\u001b[32m============================== \u001b[32m\u001b[1m2 passed\u001b[0m\u001b[32m in 1.61s\u001b[0m\u001b[32m ===============================\u001b[0m\n"
     ]
    }
   ],
   "source": [
    "!pytest packages/regression_model/regression_model"
   ]
  },
  {
   "cell_type": "code",
   "execution_count": 6,
   "metadata": {},
   "outputs": [
    {
     "name": "stdout",
     "output_type": "stream",
     "text": [
      "Collecting pipreqs\n",
      "  Downloading pipreqs-0.4.11-py2.py3-none-any.whl (32 kB)\n",
      "Collecting yarg\n",
      "  Downloading yarg-0.1.9-py2.py3-none-any.whl (19 kB)\n",
      "Collecting docopt\n",
      "  Downloading docopt-0.6.2.tar.gz (25 kB)\n",
      "Requirement already satisfied: requests in /usr/lib/python3/dist-packages (from yarg->pipreqs) (2.22.0)\n",
      "Building wheels for collected packages: docopt\n",
      "  Building wheel for docopt (setup.py) ... \u001b[?25ldone\n",
      "\u001b[?25h  Created wheel for docopt: filename=docopt-0.6.2-py2.py3-none-any.whl size=13723 sha256=13f8da4b2d018e43bf2ef862a40940eb432c1b9e208f0d8b1b9ebba74045db0c\n",
      "  Stored in directory: /root/.cache/pip/wheels/56/ea/58/ead137b087d9e326852a851351d1debf4ada529b6ac0ec4e8c\n",
      "Successfully built docopt\n",
      "Installing collected packages: yarg, docopt, pipreqs\n",
      "Successfully installed docopt-0.6.2 pipreqs-0.4.11 yarg-0.1.9\n",
      "\u001b[33mWARNING: You are using pip version 20.2.4; however, version 22.1.2 is available.\n",
      "You should consider upgrading via the '/usr/bin/python3 -m pip install --upgrade pip' command.\u001b[0m\n"
     ]
    }
   ],
   "source": [
    "!pip install pipreqs\n",
    "\n"
   ]
  },
  {
   "cell_type": "code",
   "execution_count": 7,
   "metadata": {},
   "outputs": [
    {
     "name": "stdout",
     "output_type": "stream",
     "text": [
      "WARNING: requirements.txt already exists, use --force to overwrite it\r\n"
     ]
    }
   ],
   "source": [
    "!pipreqs packages/regression_model/regression_model"
   ]
  },
  {
   "cell_type": "code",
   "execution_count": 52,
   "metadata": {},
   "outputs": [
    {
     "name": "stdout",
     "output_type": "stream",
     "text": [
      "['# Production requirements', 'numpy==1.22.1', 'scikit-learn==1.1.1', 'pandas==1.4.3', 'itsdangerous==2.0.1', 'flask==1.0.2', '', '# packaging', 'setuptools==60.7.0', 'wheel==0.34.2', '', '# testing requirements', 'pytest==7.1.2']\n",
      "running sdist\n",
      "running egg_info\n",
      "writing regression_model.egg-info/PKG-INFO\n",
      "writing dependency_links to regression_model.egg-info/dependency_links.txt\n",
      "writing top-level names to regression_model.egg-info/top_level.txt\n",
      "reading manifest file 'regression_model.egg-info/SOURCES.txt'\n",
      "running check\n",
      "copying files to regression_model-0.1.2...\n",
      "Writing regression_model-0.1.2/setup.cfg\n",
      "running bdist_wheel\n",
      "running build\n",
      "/usr/local/lib/python3.8/dist-packages/setuptools/command/install.py:34: SetuptoolsDeprecationWarning: setup.py install is deprecated. Use build and pip and other standards-based tools.\n",
      "  warnings.warn(\n",
      "installing to build/bdist.linux-x86_64/wheel\n",
      "running install\n",
      "running install_egg_info\n",
      "running install_scripts\n",
      "creating build/bdist.linux-x86_64/wheel/regression_model-0.1.2.dist-info/WHEEL\n",
      "creating 'dist/regression_model-0.1.2-py3-none-any.whl' and adding 'build/bdist.linux-x86_64/wheel' to it\n",
      "adding 'regression_model-0.1.2.dist-info/METADATA'\n",
      "adding 'regression_model-0.1.2.dist-info/WHEEL'\n",
      "adding 'regression_model-0.1.2.dist-info/top_level.txt'\n",
      "adding 'regression_model-0.1.2.dist-info/RECORD'\n",
      "removing build/bdist.linux-x86_64/wheel\n"
     ]
    }
   ],
   "source": [
    "!python packages/regression_model/setup.py sdist bdist_wheel"
   ]
  },
  {
   "cell_type": "code",
   "execution_count": 53,
   "metadata": {},
   "outputs": [
    {
     "name": "stdout",
     "output_type": "stream",
     "text": [
      "Processing ./packages/regression_model\n",
      "Building wheels for collected packages: regression-model\n",
      "  Building wheel for regression-model (setup.py) ... \u001b[?25ldone\n",
      "\u001b[?25h  Created wheel for regression-model: filename=regression_model-0.1.2-py3-none-any.whl size=187944 sha256=926cdbd625c8a088f9c4b7e74881b2a86c6d8d5bb1d4d9b2a4d56aa72fe6fd19\n",
      "  Stored in directory: /tmp/pip-ephem-wheel-cache-yjorlm6z/wheels/1e/be/b8/a1f6c07cc0fe317ff11c29c22f76f2c912a99af85e7cf3b6cb\n",
      "Successfully built regression-model\n",
      "Installing collected packages: regression-model\n",
      "  Attempting uninstall: regression-model\n",
      "    Found existing installation: regression-model 0.1.2\n",
      "    Uninstalling regression-model-0.1.2:\n",
      "      Successfully uninstalled regression-model-0.1.2\n",
      "Successfully installed regression-model-0.1.2\n",
      "\u001b[33mWARNING: You are using pip version 20.2.4; however, version 22.1.2 is available.\n",
      "You should consider upgrading via the '/usr/bin/python3 -m pip install --upgrade pip' command.\u001b[0m\n"
     ]
    }
   ],
   "source": [
    "!pip install packages/regression_model --no-cache"
   ]
  },
  {
   "cell_type": "code",
   "execution_count": 10,
   "metadata": {},
   "outputs": [
    {
     "name": "stdout",
     "output_type": "stream",
     "text": [
      "Package                      Version\n",
      "---------------------------- --------------------\n",
      "absl-py                      1.0.0\n",
      "argon2-cffi                  21.3.0\n",
      "argon2-cffi-bindings         21.2.0\n",
      "asttokens                    2.0.5\n",
      "astunparse                   1.6.3\n",
      "attrs                        21.4.0\n",
      "backcall                     0.2.0\n",
      "black                        22.1.0\n",
      "bleach                       4.1.0\n",
      "cachetools                   5.0.0\n",
      "certifi                      2019.11.28\n",
      "cffi                         1.15.0\n",
      "chardet                      3.0.4\n",
      "click                        8.0.3\n",
      "cycler                       0.11.0\n",
      "dbus-python                  1.2.16\n",
      "debugpy                      1.5.1\n",
      "decorator                    5.1.1\n",
      "defusedxml                   0.7.1\n",
      "docopt                       0.6.2\n",
      "entrypoints                  0.3\n",
      "executing                    0.8.2\n",
      "flatbuffers                  2.0\n",
      "fonttools                    4.29.1\n",
      "gast                         0.5.3\n",
      "google-auth                  2.6.0\n",
      "google-auth-oauthlib         0.4.6\n",
      "google-pasta                 0.2.0\n",
      "grpcio                       1.43.0\n",
      "h5py                         3.6.0\n",
      "idna                         2.8\n",
      "importlib-metadata           4.10.1\n",
      "importlib-resources          5.4.0\n",
      "iniconfig                    1.1.1\n",
      "ipykernel                    5.1.1\n",
      "ipython                      8.0.1\n",
      "ipython-genutils             0.2.0\n",
      "ipywidgets                   7.6.5\n",
      "jedi                         0.17.2\n",
      "Jinja2                       3.0.3\n",
      "joblib                       1.1.0\n",
      "jsonschema                   4.4.0\n",
      "jupyter                      1.0.0\n",
      "jupyter-client               7.1.2\n",
      "jupyter-console              6.4.0\n",
      "jupyter-core                 4.9.1\n",
      "jupyter-http-over-ws         0.0.8\n",
      "jupyterlab-pygments          0.1.2\n",
      "jupyterlab-widgets           1.0.2\n",
      "keras                        2.8.0\n",
      "Keras-Preprocessing          1.1.2\n",
      "kiwisolver                   1.3.2\n",
      "libclang                     13.0.0\n",
      "Markdown                     3.3.6\n",
      "MarkupSafe                   2.0.1\n",
      "matplotlib                   3.5.1\n",
      "matplotlib-inline            0.1.3\n",
      "mistune                      0.8.4\n",
      "mypy-extensions              0.4.3\n",
      "nbclient                     0.5.10\n",
      "nbconvert                    6.4.1\n",
      "nbformat                     4.4.0\n",
      "nest-asyncio                 1.5.4\n",
      "notebook                     6.4.8\n",
      "numpy                        1.22.1\n",
      "oauthlib                     3.2.0\n",
      "opt-einsum                   3.3.0\n",
      "packaging                    21.3\n",
      "pandas                       1.4.3\n",
      "pandocfilters                1.5.0\n",
      "parso                        0.7.1\n",
      "pathspec                     0.9.0\n",
      "pexpect                      4.8.0\n",
      "pickleshare                  0.7.5\n",
      "Pillow                       9.0.0\n",
      "pip                          20.2.4\n",
      "pipreqs                      0.4.11\n",
      "platformdirs                 2.4.1\n",
      "pluggy                       1.0.0\n",
      "prometheus-client            0.13.1\n",
      "prompt-toolkit               3.0.26\n",
      "protobuf                     3.19.4\n",
      "ptyprocess                   0.7.0\n",
      "pure-eval                    0.2.2\n",
      "py                           1.11.0\n",
      "pyasn1                       0.4.8\n",
      "pyasn1-modules               0.2.8\n",
      "pycparser                    2.21\n",
      "Pygments                     2.11.2\n",
      "PyGObject                    3.36.0\n",
      "pyparsing                    3.0.7\n",
      "pyrsistent                   0.18.1\n",
      "pytest                       7.1.2\n",
      "python-apt                   2.0.0+ubuntu0.20.4.6\n",
      "python-dateutil              2.8.2\n",
      "pytz                         2022.1\n",
      "pyzmq                        22.3.0\n",
      "qtconsole                    5.2.2\n",
      "QtPy                         2.0.1\n",
      "regression-model             0.1.2\n",
      "requests                     2.22.0\n",
      "requests-oauthlib            1.3.1\n",
      "requests-unixsocket          0.2.0\n",
      "rsa                          4.8\n",
      "scikit-learn                 1.1.1\n",
      "scipy                        1.8.1\n",
      "Send2Trash                   1.8.0\n",
      "setuptools                   60.7.0\n",
      "six                          1.14.0\n",
      "sklearn                      0.0\n",
      "stack-data                   0.1.4\n",
      "tensorboard                  2.8.0\n",
      "tensorboard-data-server      0.6.1\n",
      "tensorboard-plugin-wit       1.8.1\n",
      "tensorflow                   2.8.0\n",
      "tensorflow-io-gcs-filesystem 0.23.1\n",
      "termcolor                    1.1.0\n",
      "terminado                    0.13.1\n",
      "testpath                     0.5.0\n",
      "tf-estimator-nightly         2.8.0.dev2021122109\n",
      "threadpoolctl                3.1.0\n",
      "tomli                        2.0.0\n",
      "tornado                      6.1\n",
      "traitlets                    5.1.1\n",
      "typing-extensions            4.0.1\n",
      "urllib3                      1.25.8\n",
      "wcwidth                      0.2.5\n",
      "webencodings                 0.5.1\n",
      "Werkzeug                     2.0.2\n",
      "wheel                        0.34.2\n",
      "widgetsnbextension           3.5.2\n",
      "wrapt                        1.13.3\n",
      "yarg                         0.1.9\n",
      "zipp                         3.7.0\n",
      "\u001b[33mWARNING: You are using pip version 20.2.4; however, version 22.1.2 is available.\n",
      "You should consider upgrading via the '/usr/bin/python3 -m pip install --upgrade pip' command.\u001b[0m\n"
     ]
    }
   ],
   "source": [
    "!pip list"
   ]
  },
  {
   "cell_type": "code",
   "execution_count": 10,
   "metadata": {},
   "outputs": [
    {
     "name": "stdout",
     "output_type": "stream",
     "text": [
      "['/tf', '/usr/lib/python38.zip', '/usr/lib/python3.8', '/usr/lib/python3.8/lib-dynload', '', '/usr/local/lib/python3.8/dist-packages', '/usr/lib/python3/dist-packages', '/tf/packages/regression_model/']\n"
     ]
    }
   ],
   "source": [
    "import regression_model"
   ]
  },
  {
   "cell_type": "code",
   "execution_count": 11,
   "metadata": {},
   "outputs": [],
   "source": [
    "from regression_model import train_pipeline"
   ]
  },
  {
   "cell_type": "code",
   "execution_count": 12,
   "metadata": {},
   "outputs": [],
   "source": [
    "import regression_model"
   ]
  },
  {
   "cell_type": "code",
   "execution_count": 13,
   "metadata": {},
   "outputs": [],
   "source": [
    "from regression_model import train_pipeline"
   ]
  },
  {
   "cell_type": "code",
   "execution_count": 17,
   "metadata": {},
   "outputs": [
    {
     "name": "stdout",
     "output_type": "stream",
     "text": [
      "Processing ./packages/regression_model\n",
      "Collecting flask==1.0.2\n",
      "  Downloading Flask-1.0.2-py2.py3-none-any.whl (91 kB)\n",
      "\u001b[K     |████████████████████████████████| 91 kB 1.3 MB/s eta 0:00:01\n",
      "\u001b[?25hRequirement already satisfied: click>=5.1 in /usr/local/lib/python3.8/dist-packages (from flask==1.0.2->-r packages/ml_api/requirements.txt (line 2)) (8.0.3)\n",
      "Collecting itsdangerous>=0.24\n",
      "  Downloading itsdangerous-2.1.2-py3-none-any.whl (15 kB)\n",
      "Requirement already satisfied: Werkzeug>=0.14 in /usr/local/lib/python3.8/dist-packages (from flask==1.0.2->-r packages/ml_api/requirements.txt (line 2)) (2.0.2)\n",
      "Requirement already satisfied: Jinja2>=2.10 in /usr/local/lib/python3.8/dist-packages (from flask==1.0.2->-r packages/ml_api/requirements.txt (line 2)) (3.0.3)\n",
      "Requirement already satisfied: MarkupSafe>=2.0 in /usr/local/lib/python3.8/dist-packages (from Jinja2>=2.10->flask==1.0.2->-r packages/ml_api/requirements.txt (line 2)) (2.0.1)\n",
      "Building wheels for collected packages: regression-model\n",
      "  Building wheel for regression-model (setup.py) ... \u001b[?25ldone\n",
      "\u001b[?25h  Created wheel for regression-model: filename=regression_model-0.1.2-py3-none-any.whl size=9514 sha256=801be341d195efd65b5a759994f5f17a00178e44725f4f4b3b84069d3fd3573a\n",
      "  Stored in directory: /tmp/pip-ephem-wheel-cache-zw7llmrg/wheels/1e/be/b8/a1f6c07cc0fe317ff11c29c22f76f2c912a99af85e7cf3b6cb\n",
      "Successfully built regression-model\n",
      "Installing collected packages: itsdangerous, flask, regression-model\n",
      "  Attempting uninstall: regression-model\n",
      "    Found existing installation: regression-model 0.1.2\n",
      "    Uninstalling regression-model-0.1.2:\n",
      "      Successfully uninstalled regression-model-0.1.2\n",
      "Successfully installed flask-1.0.2 itsdangerous-2.1.2 regression-model-0.1.2\n",
      "\u001b[33mWARNING: You are using pip version 20.2.4; however, version 22.1.2 is available.\n",
      "You should consider upgrading via the '/usr/bin/python3 -m pip install --upgrade pip' command.\u001b[0m\n"
     ]
    }
   ],
   "source": [
    "!pip install -r packages/ml_api/requirements.txt"
   ]
  },
  {
   "cell_type": "code",
   "execution_count": 20,
   "metadata": {},
   "outputs": [
    {
     "name": "stdout",
     "output_type": "stream",
     "text": [
      "Collecting itsdangerous==2.0.1\n",
      "  Downloading itsdangerous-2.0.1-py3-none-any.whl (18 kB)\n",
      "Installing collected packages: itsdangerous\n",
      "  Attempting uninstall: itsdangerous\n",
      "    Found existing installation: itsdangerous 2.1.2\n",
      "    Uninstalling itsdangerous-2.1.2:\n",
      "      Successfully uninstalled itsdangerous-2.1.2\n",
      "Successfully installed itsdangerous-2.0.1\n",
      "\u001b[33mWARNING: You are using pip version 20.2.4; however, version 22.1.2 is available.\n",
      "You should consider upgrading via the '/usr/bin/python3 -m pip install --upgrade pip' command.\u001b[0m\n"
     ]
    }
   ],
   "source": [
    "!pip install itsdangerous==2.0.1"
   ]
  },
  {
   "cell_type": "code",
   "execution_count": 128,
   "metadata": {},
   "outputs": [
    {
     "name": "stdout",
     "output_type": "stream",
     "text": [
      "\u001b[1m============================= test session starts ==============================\u001b[0m\n",
      "platform linux -- Python 3.8.10, pytest-7.1.2, pluggy-1.0.0\n",
      "rootdir: /tf\n",
      "collected 4 items                                                              \u001b[0m\u001b[1m\n",
      "\n",
      "packages/ml_api/tests/test_controller.py \u001b[32m.\u001b[0m\u001b[31mF\u001b[0m\u001b[32m.\u001b[0m\u001b[31m                             [ 75%]\u001b[0m\n",
      "packages/ml_api/tests/test_validation.py \u001b[31mF\u001b[0m\u001b[31m                               [100%]\u001b[0m\n",
      "\n",
      "=================================== FAILURES ===================================\n",
      "\u001b[31m\u001b[1m_________________ test_prediction_endpoint_returns_prediction __________________\u001b[0m\n",
      "\n",
      "flask_test_client = <FlaskClient <Flask 'ml_api'>>\n",
      "\n",
      "    \u001b[94mdef\u001b[39;49;00m \u001b[92mtest_prediction_endpoint_returns_prediction\u001b[39;49;00m(flask_test_client):\n",
      "    \n",
      "        \u001b[90m# Given\u001b[39;49;00m\n",
      "    \n",
      "        \u001b[90m# Load the test data from the regression_model\u001b[39;49;00m\n",
      "    \n",
      "        \u001b[90m# This is important as it makes it harder for the test\u001b[39;49;00m\n",
      "    \n",
      "        \u001b[90m# data versions to get confused by not spreading it across the packages\u001b[39;49;00m\n",
      "    \n",
      "        test_data = load_dataset(file_name=model_config.TESTING_DATA_FILE)\n",
      "        post_json = test_data[\u001b[94m0\u001b[39;49;00m:\u001b[94m1\u001b[39;49;00m].to_json(orient=\u001b[33m'\u001b[39;49;00m\u001b[33mrecords\u001b[39;49;00m\u001b[33m'\u001b[39;49;00m)\n",
      "    \n",
      "        \u001b[90m# When\u001b[39;49;00m\n",
      "    \n",
      ">       response = flask_test_client.post(\u001b[33m'\u001b[39;49;00m\u001b[33mv1/predict/regression\u001b[39;49;00m\u001b[33m'\u001b[39;49;00m, json=post_json)\n",
      "\n",
      "\u001b[1m\u001b[31mpackages/ml_api/tests/test_controller.py\u001b[0m:36: \n",
      "_ _ _ _ _ _ _ _ _ _ _ _ _ _ _ _ _ _ _ _ _ _ _ _ _ _ _ _ _ _ _ _ _ _ _ _ _ _ _ _ \n",
      "\u001b[1m\u001b[31m/usr/local/lib/python3.8/dist-packages/werkzeug/test.py\u001b[0m:1134: in post\n",
      "    \u001b[94mreturn\u001b[39;49;00m \u001b[96mself\u001b[39;49;00m.open(*args, **kw)\n",
      "\u001b[1m\u001b[31m/usr/local/lib/python3.8/dist-packages/flask/testing.py\u001b[0m:196: in open\n",
      "    \u001b[94mreturn\u001b[39;49;00m Client.open(\n",
      "\u001b[1m\u001b[31m/usr/local/lib/python3.8/dist-packages/werkzeug/test.py\u001b[0m:1074: in open\n",
      "    response = \u001b[96mself\u001b[39;49;00m.run_wsgi_app(request.environ, buffered=buffered)\n",
      "\u001b[1m\u001b[31m/usr/local/lib/python3.8/dist-packages/werkzeug/test.py\u001b[0m:945: in run_wsgi_app\n",
      "    rv = run_wsgi_app(\u001b[96mself\u001b[39;49;00m.application, environ, buffered=buffered)\n",
      "\u001b[1m\u001b[31m/usr/local/lib/python3.8/dist-packages/werkzeug/test.py\u001b[0m:1231: in run_wsgi_app\n",
      "    app_rv = app(environ, start_response)\n",
      "\u001b[1m\u001b[31m/usr/local/lib/python3.8/dist-packages/flask/app.py\u001b[0m:2309: in __call__\n",
      "    \u001b[94mreturn\u001b[39;49;00m \u001b[96mself\u001b[39;49;00m.wsgi_app(environ, start_response)\n",
      "\u001b[1m\u001b[31m/usr/local/lib/python3.8/dist-packages/flask/app.py\u001b[0m:2295: in wsgi_app\n",
      "    response = \u001b[96mself\u001b[39;49;00m.handle_exception(e)\n",
      "\u001b[1m\u001b[31m/usr/local/lib/python3.8/dist-packages/flask/app.py\u001b[0m:1741: in handle_exception\n",
      "    reraise(exc_type, exc_value, tb)\n",
      "\u001b[1m\u001b[31m/usr/local/lib/python3.8/dist-packages/flask/_compat.py\u001b[0m:35: in reraise\n",
      "    \u001b[94mraise\u001b[39;49;00m value\n",
      "\u001b[1m\u001b[31m/usr/local/lib/python3.8/dist-packages/flask/app.py\u001b[0m:2292: in wsgi_app\n",
      "    response = \u001b[96mself\u001b[39;49;00m.full_dispatch_request()\n",
      "\u001b[1m\u001b[31m/usr/local/lib/python3.8/dist-packages/flask/app.py\u001b[0m:1815: in full_dispatch_request\n",
      "    rv = \u001b[96mself\u001b[39;49;00m.handle_user_exception(e)\n",
      "\u001b[1m\u001b[31m/usr/local/lib/python3.8/dist-packages/flask/app.py\u001b[0m:1718: in handle_user_exception\n",
      "    reraise(exc_type, exc_value, tb)\n",
      "\u001b[1m\u001b[31m/usr/local/lib/python3.8/dist-packages/flask/_compat.py\u001b[0m:35: in reraise\n",
      "    \u001b[94mraise\u001b[39;49;00m value\n",
      "\u001b[1m\u001b[31m/usr/local/lib/python3.8/dist-packages/flask/app.py\u001b[0m:1813: in full_dispatch_request\n",
      "    rv = \u001b[96mself\u001b[39;49;00m.dispatch_request()\n",
      "\u001b[1m\u001b[31m/usr/local/lib/python3.8/dist-packages/flask/app.py\u001b[0m:1799: in dispatch_request\n",
      "    \u001b[94mreturn\u001b[39;49;00m \u001b[96mself\u001b[39;49;00m.view_functions[rule.endpoint](**req.view_args)\n",
      "_ _ _ _ _ _ _ _ _ _ _ _ _ _ _ _ _ _ _ _ _ _ _ _ _ _ _ _ _ _ _ _ _ _ _ _ _ _ _ _ \n",
      "\n",
      "    \u001b[37m@prediction_app\u001b[39;49;00m.route(\u001b[33m'\u001b[39;49;00m\u001b[33m/v1/predict/regression\u001b[39;49;00m\u001b[33m'\u001b[39;49;00m, methods=[\u001b[33m'\u001b[39;49;00m\u001b[33mPOST\u001b[39;49;00m\u001b[33m'\u001b[39;49;00m])\n",
      "    \u001b[94mdef\u001b[39;49;00m \u001b[92mpredict\u001b[39;49;00m():\n",
      "        \u001b[94mif\u001b[39;49;00m request.method==\u001b[33m'\u001b[39;49;00m\u001b[33mPOST\u001b[39;49;00m\u001b[33m'\u001b[39;49;00m:\n",
      "            \u001b[90m# Step 1 extract data from  request body as JSON\u001b[39;49;00m\n",
      "            json_data = request.get_json()\n",
      "           \u001b[90m# _logger.info(f'Inputs: {json_data}')\u001b[39;49;00m\n",
      "    \n",
      "            _logger.info(\u001b[33mf\u001b[39;49;00m\u001b[33m'\u001b[39;49;00m\u001b[33m***len of input \u001b[39;49;00m\u001b[33m{\u001b[39;49;00m\u001b[96mlen\u001b[39;49;00m(json_data)\u001b[33m}\u001b[39;49;00m\u001b[33m'\u001b[39;49;00m)\n",
      "            \u001b[90m# Step 2 validate the input using marshmellow schema\u001b[39;49;00m\n",
      "            input_data , errors = validate_inputs(input_json = json_data)\n",
      "            _logger.info(\u001b[33mf\u001b[39;49;00m\u001b[33m'\u001b[39;49;00m\u001b[33m***type of json \u001b[39;49;00m\u001b[33m{\u001b[39;49;00m\u001b[96mtype\u001b[39;49;00m(json_data)\u001b[33m}\u001b[39;49;00m\u001b[33m'\u001b[39;49;00m)\n",
      "            \u001b[90m#_logger.info(f'***type of json {json_data}')\u001b[39;49;00m\n",
      ">           _logger.info(\u001b[33mf\u001b[39;49;00m\u001b[33m'\u001b[39;49;00m\u001b[33m***type of filtered \u001b[39;49;00m\u001b[33m{\u001b[39;49;00m\u001b[96mlen\u001b[39;49;00m(input_data.to_json)\u001b[33m}\u001b[39;49;00m\u001b[33m'\u001b[39;49;00m)\n",
      "\u001b[1m\u001b[31mE           AttributeError: 'list' object has no attribute 'to_json'\u001b[0m\n",
      "\n",
      "\u001b[1m\u001b[31mpackages/ml_api/api/controller.py\u001b[0m:37: AttributeError\n",
      "---------------------------- Captured stdout setup -----------------------------\n",
      "2022-07-07 06:02:00,631 - api.app - DEBUG -create_app:16 - Application instance created\n",
      "----------------------------- Captured stdout call -----------------------------\n",
      "/usr/local/lib/python3.8/dist-packages/regression_model/datasets/test.csv\n",
      "test.csv\n",
      "****\n",
      "2022-07-07 06:02:00,652 - api.controller - INFO -predict:32 - ***len of input 1427\n",
      "2022-07-07 06:02:00,654 - api.controller - INFO -predict:35 - ***type of json <class 'str'>\n",
      "\u001b[31m\u001b[1m___________________ test_prediction_endpoint_validation_200 ____________________\u001b[0m\n",
      "\n",
      "flask_test_client = <FlaskClient <Flask 'ml_api'>>\n",
      "\n",
      "    \u001b[94mdef\u001b[39;49;00m \u001b[92mtest_prediction_endpoint_validation_200\u001b[39;49;00m(flask_test_client):\n",
      "        \u001b[90m# Given\u001b[39;49;00m\n",
      "        \u001b[90m# Load the test data from the regression_model package\u001b[39;49;00m\n",
      "        \u001b[90m# This is important as it makes it harder for the test\u001b[39;49;00m\n",
      "        \u001b[90m# data versions to get confused by not spreading it\u001b[39;49;00m\n",
      "        \u001b[90m# across package\u001b[39;49;00m\n",
      "    \n",
      "        test_data = load_dataset(file_name=model_config.TESTING_DATA_FILE)\n",
      "    \n",
      "        post_json = test_data.to_json(orient=\u001b[33m'\u001b[39;49;00m\u001b[33mrecords\u001b[39;49;00m\u001b[33m'\u001b[39;49;00m)\n",
      "    \n",
      "        \u001b[90m# When\u001b[39;49;00m\n",
      ">       response = flask_test_client.post(\u001b[33m'\u001b[39;49;00m\u001b[33m/v1/predict/regression\u001b[39;49;00m\u001b[33m'\u001b[39;49;00m, json=post_json)\n",
      "\n",
      "\u001b[1m\u001b[31mpackages/ml_api/tests/test_validation.py\u001b[0m:23: \n",
      "_ _ _ _ _ _ _ _ _ _ _ _ _ _ _ _ _ _ _ _ _ _ _ _ _ _ _ _ _ _ _ _ _ _ _ _ _ _ _ _ \n",
      "\u001b[1m\u001b[31m/usr/local/lib/python3.8/dist-packages/werkzeug/test.py\u001b[0m:1134: in post\n",
      "    \u001b[94mreturn\u001b[39;49;00m \u001b[96mself\u001b[39;49;00m.open(*args, **kw)\n",
      "\u001b[1m\u001b[31m/usr/local/lib/python3.8/dist-packages/flask/testing.py\u001b[0m:196: in open\n",
      "    \u001b[94mreturn\u001b[39;49;00m Client.open(\n",
      "\u001b[1m\u001b[31m/usr/local/lib/python3.8/dist-packages/werkzeug/test.py\u001b[0m:1074: in open\n",
      "    response = \u001b[96mself\u001b[39;49;00m.run_wsgi_app(request.environ, buffered=buffered)\n",
      "\u001b[1m\u001b[31m/usr/local/lib/python3.8/dist-packages/werkzeug/test.py\u001b[0m:945: in run_wsgi_app\n",
      "    rv = run_wsgi_app(\u001b[96mself\u001b[39;49;00m.application, environ, buffered=buffered)\n",
      "\u001b[1m\u001b[31m/usr/local/lib/python3.8/dist-packages/werkzeug/test.py\u001b[0m:1231: in run_wsgi_app\n",
      "    app_rv = app(environ, start_response)\n",
      "\u001b[1m\u001b[31m/usr/local/lib/python3.8/dist-packages/flask/app.py\u001b[0m:2309: in __call__\n",
      "    \u001b[94mreturn\u001b[39;49;00m \u001b[96mself\u001b[39;49;00m.wsgi_app(environ, start_response)\n",
      "\u001b[1m\u001b[31m/usr/local/lib/python3.8/dist-packages/flask/app.py\u001b[0m:2295: in wsgi_app\n",
      "    response = \u001b[96mself\u001b[39;49;00m.handle_exception(e)\n",
      "\u001b[1m\u001b[31m/usr/local/lib/python3.8/dist-packages/flask/app.py\u001b[0m:1741: in handle_exception\n",
      "    reraise(exc_type, exc_value, tb)\n",
      "\u001b[1m\u001b[31m/usr/local/lib/python3.8/dist-packages/flask/_compat.py\u001b[0m:35: in reraise\n",
      "    \u001b[94mraise\u001b[39;49;00m value\n",
      "\u001b[1m\u001b[31m/usr/local/lib/python3.8/dist-packages/flask/app.py\u001b[0m:2292: in wsgi_app\n",
      "    response = \u001b[96mself\u001b[39;49;00m.full_dispatch_request()\n",
      "\u001b[1m\u001b[31m/usr/local/lib/python3.8/dist-packages/flask/app.py\u001b[0m:1815: in full_dispatch_request\n",
      "    rv = \u001b[96mself\u001b[39;49;00m.handle_user_exception(e)\n",
      "\u001b[1m\u001b[31m/usr/local/lib/python3.8/dist-packages/flask/app.py\u001b[0m:1718: in handle_user_exception\n",
      "    reraise(exc_type, exc_value, tb)\n",
      "\u001b[1m\u001b[31m/usr/local/lib/python3.8/dist-packages/flask/_compat.py\u001b[0m:35: in reraise\n",
      "    \u001b[94mraise\u001b[39;49;00m value\n",
      "\u001b[1m\u001b[31m/usr/local/lib/python3.8/dist-packages/flask/app.py\u001b[0m:1813: in full_dispatch_request\n",
      "    rv = \u001b[96mself\u001b[39;49;00m.dispatch_request()\n",
      "\u001b[1m\u001b[31m/usr/local/lib/python3.8/dist-packages/flask/app.py\u001b[0m:1799: in dispatch_request\n",
      "    \u001b[94mreturn\u001b[39;49;00m \u001b[96mself\u001b[39;49;00m.view_functions[rule.endpoint](**req.view_args)\n",
      "_ _ _ _ _ _ _ _ _ _ _ _ _ _ _ _ _ _ _ _ _ _ _ _ _ _ _ _ _ _ _ _ _ _ _ _ _ _ _ _ \n",
      "\n",
      "    \u001b[37m@prediction_app\u001b[39;49;00m.route(\u001b[33m'\u001b[39;49;00m\u001b[33m/v1/predict/regression\u001b[39;49;00m\u001b[33m'\u001b[39;49;00m, methods=[\u001b[33m'\u001b[39;49;00m\u001b[33mPOST\u001b[39;49;00m\u001b[33m'\u001b[39;49;00m])\n",
      "    \u001b[94mdef\u001b[39;49;00m \u001b[92mpredict\u001b[39;49;00m():\n",
      "        \u001b[94mif\u001b[39;49;00m request.method==\u001b[33m'\u001b[39;49;00m\u001b[33mPOST\u001b[39;49;00m\u001b[33m'\u001b[39;49;00m:\n",
      "            \u001b[90m# Step 1 extract data from  request body as JSON\u001b[39;49;00m\n",
      "            json_data = request.get_json()\n",
      "           \u001b[90m# _logger.info(f'Inputs: {json_data}')\u001b[39;49;00m\n",
      "    \n",
      "            _logger.info(\u001b[33mf\u001b[39;49;00m\u001b[33m'\u001b[39;49;00m\u001b[33m***len of input \u001b[39;49;00m\u001b[33m{\u001b[39;49;00m\u001b[96mlen\u001b[39;49;00m(json_data)\u001b[33m}\u001b[39;49;00m\u001b[33m'\u001b[39;49;00m)\n",
      "            \u001b[90m# Step 2 validate the input using marshmellow schema\u001b[39;49;00m\n",
      "            input_data , errors = validate_inputs(input_json = json_data)\n",
      "            _logger.info(\u001b[33mf\u001b[39;49;00m\u001b[33m'\u001b[39;49;00m\u001b[33m***type of json \u001b[39;49;00m\u001b[33m{\u001b[39;49;00m\u001b[96mtype\u001b[39;49;00m(json_data)\u001b[33m}\u001b[39;49;00m\u001b[33m'\u001b[39;49;00m)\n",
      "            \u001b[90m#_logger.info(f'***type of json {json_data}')\u001b[39;49;00m\n",
      ">           _logger.info(\u001b[33mf\u001b[39;49;00m\u001b[33m'\u001b[39;49;00m\u001b[33m***type of filtered \u001b[39;49;00m\u001b[33m{\u001b[39;49;00m\u001b[96mlen\u001b[39;49;00m(input_data.to_json)\u001b[33m}\u001b[39;49;00m\u001b[33m'\u001b[39;49;00m)\n",
      "\u001b[1m\u001b[31mE           AttributeError: 'list' object has no attribute 'to_json'\u001b[0m\n",
      "\n",
      "\u001b[1m\u001b[31mpackages/ml_api/api/controller.py\u001b[0m:37: AttributeError\n",
      "---------------------------- Captured stdout setup -----------------------------\n",
      "2022-07-07 06:02:00,939 - api.app - DEBUG -create_app:16 - Application instance created\n",
      "----------------------------- Captured stdout call -----------------------------\n",
      "/usr/local/lib/python3.8/dist-packages/regression_model/datasets/test.csv\n",
      "test.csv\n",
      "****\n",
      "2022-07-07 06:02:01,057 - api.controller - INFO -predict:32 - ***len of input 2077346\n",
      "2022-07-07 06:02:01,535 - api.controller - INFO -predict:35 - ***type of json <class 'str'>\n",
      "\u001b[33m=============================== warnings summary ===============================\u001b[0m\n",
      "../usr/local/lib/python3.8/dist-packages/flask/json/__init__.py:26\n",
      "  /usr/local/lib/python3.8/dist-packages/flask/json/__init__.py:26: DeprecationWarning: Importing 'itsdangerous.json' is deprecated and will be removed in ItsDangerous 2.1. Use Python's 'json' module instead.\n",
      "    _slash_escape = '\\\\/' not in _json.dumps('/')\n",
      "\n",
      "../usr/local/lib/python3.8/dist-packages/flask/json/__init__.py:48\n",
      "  /usr/local/lib/python3.8/dist-packages/flask/json/__init__.py:48: DeprecationWarning: Importing 'itsdangerous.json' is deprecated and will be removed in ItsDangerous 2.1. Use Python's 'json' module instead.\n",
      "    class JSONEncoder(_json.JSONEncoder):\n",
      "\n",
      "../usr/local/lib/python3.8/dist-packages/flask/json/__init__.py:84\n",
      "  /usr/local/lib/python3.8/dist-packages/flask/json/__init__.py:84: DeprecationWarning: Importing 'itsdangerous.json' is deprecated and will be removed in ItsDangerous 2.1. Use Python's 'json' module instead.\n",
      "    class JSONDecoder(_json.JSONDecoder):\n",
      "\n",
      "../usr/local/lib/python3.8/dist-packages/flask/sessions.py:14\n",
      "  /usr/local/lib/python3.8/dist-packages/flask/sessions.py:14: DeprecationWarning: Using or importing the ABCs from 'collections' instead of from 'collections.abc' is deprecated since Python 3.3, and in 3.10 it will stop working\n",
      "    from collections import MutableMapping\n",
      "\n",
      "packages/ml_api/tests/test_controller.py::test_health_endpoint_returns_200\n",
      "  /usr/local/lib/python3.8/dist-packages/marshmallow/__init__.py:19: DeprecationWarning: distutils Version classes are deprecated. Use packaging.version instead.\n",
      "    __version_info__ = tuple(LooseVersion(__version__).version)\n",
      "\n",
      "packages/ml_api/tests/test_controller.py::test_health_endpoint_returns_200\n",
      "packages/ml_api/tests/test_controller.py::test_prediction_endpoint_returns_prediction\n",
      "packages/ml_api/tests/test_controller.py::test_prediction_endpoint_returns_prediction\n",
      "packages/ml_api/tests/test_controller.py::test_prediction_endpoint_return_version\n",
      "packages/ml_api/tests/test_controller.py::test_prediction_endpoint_return_version\n",
      "packages/ml_api/tests/test_validation.py::test_prediction_endpoint_validation_200\n",
      "packages/ml_api/tests/test_validation.py::test_prediction_endpoint_validation_200\n",
      "  /usr/local/lib/python3.8/dist-packages/flask/json/__init__.py:179: DeprecationWarning: Importing 'itsdangerous.json' is deprecated and will be removed in ItsDangerous 2.1. Use Python's 'json' module instead.\n",
      "    rv = _json.dumps(obj, **kwargs)\n",
      "\n",
      "-- Docs: https://docs.pytest.org/en/stable/how-to/capture-warnings.html\n",
      "=========================== short test summary info ============================\n",
      "FAILED packages/ml_api/tests/test_controller.py::test_prediction_endpoint_returns_prediction\n",
      "FAILED packages/ml_api/tests/test_validation.py::test_prediction_endpoint_validation_200\n",
      "\u001b[31m=================== \u001b[31m\u001b[1m2 failed\u001b[0m, \u001b[32m2 passed\u001b[0m, \u001b[33m12 warnings\u001b[0m\u001b[31m in 2.08s\u001b[0m\u001b[31m ===================\u001b[0m\n"
     ]
    }
   ],
   "source": [
    "!pytest packages/ml_api/tests"
   ]
  },
  {
   "cell_type": "code",
   "execution_count": 98,
   "metadata": {},
   "outputs": [
    {
     "name": "stdout",
     "output_type": "stream",
     "text": [
      "['/tf/packages/ml_api', '/usr/lib/python38.zip', '/usr/lib/python3.8', '/usr/lib/python3.8/lib-dynload', '/usr/local/lib/python3.8/dist-packages', '/usr/lib/python3/dist-packages', '/tf/packages/ml_api', '/tf/packages/regression_model/']\n",
      "2022-07-07 05:26:53,171 - api.app - DEBUG -create_app:16 - Application instance created\n",
      " * Serving Flask app \"ml_api\" (lazy loading)\n",
      " * Environment: production\n",
      "\u001b[31m   WARNING: Do not use the development server in a production environment.\u001b[0m\n",
      "\u001b[2m   Use a production WSGI server instead.\u001b[0m\n",
      " * Debug mode: on\n",
      " * Running on all addresses.\n",
      "   WARNING: This is a development server. Do not use it in a production deployment.\n",
      " * Running on http://172.20.0.2:5000/ (Press CTRL+C to quit)\n",
      " * Restarting with stat\n",
      "['/tf/packages/ml_api', '/usr/lib/python38.zip', '/usr/lib/python3.8', '/usr/lib/python3.8/lib-dynload', '/usr/local/lib/python3.8/dist-packages', '/usr/lib/python3/dist-packages', '/tf/packages/ml_api', '/tf/packages/regression_model/']\n",
      "2022-07-07 05:26:54,213 - api.app - DEBUG -create_app:16 - Application instance created\n",
      " * Debugger is active!\n",
      " * Debugger PIN: 115-501-716\n",
      "^C\n"
     ]
    }
   ],
   "source": [
    "!python packages/ml_api/run.py"
   ]
  },
  {
   "cell_type": "code",
   "execution_count": 137,
   "metadata": {
    "scrolled": true
   },
   "outputs": [
    {
     "name": "stdout",
     "output_type": "stream",
     "text": [
      "\u001b[1m============================= test session starts ==============================\u001b[0m\n",
      "platform linux -- Python 3.8.10, pytest-7.1.2, pluggy-1.0.0 -- /usr/bin/python3\n",
      "cachedir: .pytest_cache\n",
      "rootdir: /tf\n",
      "collected 4 items                                                              \u001b[0m\u001b[1m\n",
      "\n",
      "packages/ml_api/tests/test_controller.py::test_health_endpoint_returns_200 \u001b[32mPASSED\u001b[0m\u001b[33m [ 25%]\u001b[0m\n",
      "packages/ml_api/tests/test_controller.py::test_prediction_endpoint_returns_prediction \u001b[32mPASSED\u001b[0m\u001b[33m [ 50%]\u001b[0m\n",
      "packages/ml_api/tests/test_controller.py::test_prediction_endpoint_return_version \u001b[32mPASSED\u001b[0m\u001b[33m [ 75%]\u001b[0m\n",
      "packages/ml_api/tests/test_validation.py::test_prediction_endpoint_validation_200 \u001b[32mPASSED\u001b[0m\u001b[33m [100%]\u001b[0m\n",
      "\n",
      "\u001b[33m=============================== warnings summary ===============================\u001b[0m\n",
      "../usr/local/lib/python3.8/dist-packages/flask/json/__init__.py:26\n",
      "  /usr/local/lib/python3.8/dist-packages/flask/json/__init__.py:26: DeprecationWarning: Importing 'itsdangerous.json' is deprecated and will be removed in ItsDangerous 2.1. Use Python's 'json' module instead.\n",
      "    _slash_escape = '\\\\/' not in _json.dumps('/')\n",
      "\n",
      "../usr/local/lib/python3.8/dist-packages/flask/json/__init__.py:48\n",
      "  /usr/local/lib/python3.8/dist-packages/flask/json/__init__.py:48: DeprecationWarning: Importing 'itsdangerous.json' is deprecated and will be removed in ItsDangerous 2.1. Use Python's 'json' module instead.\n",
      "    class JSONEncoder(_json.JSONEncoder):\n",
      "\n",
      "../usr/local/lib/python3.8/dist-packages/flask/json/__init__.py:84\n",
      "  /usr/local/lib/python3.8/dist-packages/flask/json/__init__.py:84: DeprecationWarning: Importing 'itsdangerous.json' is deprecated and will be removed in ItsDangerous 2.1. Use Python's 'json' module instead.\n",
      "    class JSONDecoder(_json.JSONDecoder):\n",
      "\n",
      "../usr/local/lib/python3.8/dist-packages/flask/sessions.py:14\n",
      "  /usr/local/lib/python3.8/dist-packages/flask/sessions.py:14: DeprecationWarning: Using or importing the ABCs from 'collections' instead of from 'collections.abc' is deprecated since Python 3.3, and in 3.10 it will stop working\n",
      "    from collections import MutableMapping\n",
      "\n",
      "packages/ml_api/tests/test_controller.py::test_health_endpoint_returns_200\n",
      "  /usr/local/lib/python3.8/dist-packages/marshmallow/__init__.py:19: DeprecationWarning: distutils Version classes are deprecated. Use packaging.version instead.\n",
      "    __version_info__ = tuple(LooseVersion(__version__).version)\n",
      "\n",
      "packages/ml_api/tests/test_controller.py::test_health_endpoint_returns_200\n",
      "packages/ml_api/tests/test_controller.py::test_prediction_endpoint_returns_prediction\n",
      "packages/ml_api/tests/test_controller.py::test_prediction_endpoint_returns_prediction\n",
      "packages/ml_api/tests/test_controller.py::test_prediction_endpoint_returns_prediction\n",
      "packages/ml_api/tests/test_controller.py::test_prediction_endpoint_return_version\n",
      "packages/ml_api/tests/test_controller.py::test_prediction_endpoint_return_version\n",
      "packages/ml_api/tests/test_validation.py::test_prediction_endpoint_validation_200\n",
      "packages/ml_api/tests/test_validation.py::test_prediction_endpoint_validation_200\n",
      "packages/ml_api/tests/test_validation.py::test_prediction_endpoint_validation_200\n",
      "  /usr/local/lib/python3.8/dist-packages/flask/json/__init__.py:179: DeprecationWarning: Importing 'itsdangerous.json' is deprecated and will be removed in ItsDangerous 2.1. Use Python's 'json' module instead.\n",
      "    rv = _json.dumps(obj, **kwargs)\n",
      "\n",
      "-- Docs: https://docs.pytest.org/en/stable/how-to/capture-warnings.html\n",
      "\u001b[33m======================== \u001b[32m4 passed\u001b[0m, \u001b[33m\u001b[1m14 warnings\u001b[0m\u001b[33m in 1.95s\u001b[0m\u001b[33m ========================\u001b[0m\n"
     ]
    }
   ],
   "source": [
    "!pytest packages/ml_api/tests -vv"
   ]
  },
  {
   "cell_type": "code",
   "execution_count": 80,
   "metadata": {},
   "outputs": [
    {
     "name": "stdout",
     "output_type": "stream",
     "text": [
      "Collecting marshmallow==2.17.0\n",
      "  Downloading marshmallow-2.17.0-py2.py3-none-any.whl (49 kB)\n",
      "\u001b[K     |████████████████████████████████| 49 kB 12 kB/s eta 0:00:015\n",
      "\u001b[?25hInstalling collected packages: marshmallow\n",
      "Successfully installed marshmallow-2.17.0\n",
      "\u001b[33mWARNING: You are using pip version 20.2.4; however, version 22.1.2 is available.\n",
      "You should consider upgrading via the '/usr/bin/python3 -m pip install --upgrade pip' command.\u001b[0m\n"
     ]
    }
   ],
   "source": [
    "!pip install marshmallow==2.17.0"
   ]
  },
  {
   "cell_type": "code",
   "execution_count": null,
   "metadata": {},
   "outputs": [],
   "source": []
  }
 ],
 "metadata": {
  "kernelspec": {
   "display_name": "Python 3",
   "language": "python",
   "name": "python3"
  },
  "language_info": {
   "codemirror_mode": {
    "name": "ipython",
    "version": 3
   },
   "file_extension": ".py",
   "mimetype": "text/x-python",
   "name": "python",
   "nbconvert_exporter": "python",
   "pygments_lexer": "ipython3",
   "version": "3.8.10"
  }
 },
 "nbformat": 4,
 "nbformat_minor": 2
}
